{
  "nbformat": 4,
  "nbformat_minor": 0,
  "metadata": {
    "colab": {
      "provenance": [],
      "collapsed_sections": [
        "59l2q0ZqmVt5"
      ]
    },
    "kernelspec": {
      "name": "python3",
      "display_name": "Python 3"
    },
    "language_info": {
      "name": "python"
    }
  },
  "cells": [
    {
      "cell_type": "markdown",
      "source": [
        "# **Exploring different photorespiratory bypass in C3 diel leaf model**"
      ],
      "metadata": {
        "id": "REctRqPG38gH"
      }
    },
    {
      "cell_type": "markdown",
      "source": [
        "In this part, we will discuss how FBA could be helpful for metabolic engineering. A recent study by [South et al.,2019](https://www.science.org/doi/10.1126/science.aat9077) explained three different photorespiratory bypasses in field-grown tobacco. In this exercise, we applied the three pathways to the PlantCoreMetabolism model and analysed the results for photosynthetic efficiency.\n",
        "\n",
        "#### NOTE:\n",
        "\n",
        "*   AP1 from the study represented as Pathway1 in this colab\n",
        "*   AP2 from the study represented as Pathway2 in this colab\n",
        "*   AP3 from the study represented as Pathway3 in this colab\n",
        "\n"
      ],
      "metadata": {
        "id": "y9tjRZCBtT9g"
      }
    },
    {
      "cell_type": "markdown",
      "source": [
        "#  **Part:1 Constraining C3 diel leaf model**"
      ],
      "metadata": {
        "id": "lVxk_7NpFh35"
      }
    },
    {
      "cell_type": "markdown",
      "source": [
        "#Step:1 Install cobrapy and retrieve C3 model\n",
        "\n",
        "\n",
        "*   Run `%pip install cobra` to install cobrapy\n",
        "*   Use wget using the syntax `!wget link-to-file` to retrieve the models and functions required for this analysis\n",
        "*  The given ` https:` link will get the  C3 diel leaf model from the github repository"
      ],
      "metadata": {
        "id": "J5CPj-4yfL_V"
      }
    },
    {
      "cell_type": "code",
      "execution_count": 2,
      "metadata": {
        "id": "mQWxc2FVfAE_",
        "colab": {
          "base_uri": "https://localhost:8080/"
        },
        "outputId": "053dc6ef-ce80-48ef-fd93-79280c7d94ed"
      },
      "outputs": [
        {
          "output_type": "stream",
          "name": "stdout",
          "text": [
            "\u001b[?25l   \u001b[90m━━━━━━━━━━━━━━━━━━━━━━━━━━━━━━━━━━━━━━━━\u001b[0m \u001b[32m0.0/1.2 MB\u001b[0m \u001b[31m?\u001b[0m eta \u001b[36m-:--:--\u001b[0m\r\u001b[2K   \u001b[90m━━━━━━━━━━━━━━━━━━━━━━━━━━━━━━━━━━━━━━━━\u001b[0m \u001b[32m1.2/1.2 MB\u001b[0m \u001b[31m48.0 MB/s\u001b[0m eta \u001b[36m0:00:00\u001b[0m\n",
            "\u001b[?25h\u001b[?25l   \u001b[90m━━━━━━━━━━━━━━━━━━━━━━━━━━━━━━━━━━━━━━━━\u001b[0m \u001b[32m0.0/45.5 kB\u001b[0m \u001b[31m?\u001b[0m eta \u001b[36m-:--:--\u001b[0m\r\u001b[2K   \u001b[90m━━━━━━━━━━━━━━━━━━━━━━━━━━━━━━━━━━━━━━━━\u001b[0m \u001b[32m45.5/45.5 kB\u001b[0m \u001b[31m3.9 MB/s\u001b[0m eta \u001b[36m0:00:00\u001b[0m\n",
            "\u001b[?25h\u001b[?25l   \u001b[90m━━━━━━━━━━━━━━━━━━━━━━━━━━━━━━━━━━━━━━━━\u001b[0m \u001b[32m0.0/141.8 kB\u001b[0m \u001b[31m?\u001b[0m eta \u001b[36m-:--:--\u001b[0m\r\u001b[2K   \u001b[90m━━━━━━━━━━━━━━━━━━━━━━━━━━━━━━━━━━━━━━━━\u001b[0m \u001b[32m141.8/141.8 kB\u001b[0m \u001b[31m12.9 MB/s\u001b[0m eta \u001b[36m0:00:00\u001b[0m\n",
            "\u001b[?25h\u001b[?25l   \u001b[90m━━━━━━━━━━━━━━━━━━━━━━━━━━━━━━━━━━━━━━━━\u001b[0m \u001b[32m0.0/8.1 MB\u001b[0m \u001b[31m?\u001b[0m eta \u001b[36m-:--:--\u001b[0m\r\u001b[2K   \u001b[91m━━━━━━━━━━━━━━━━━━━━━━━━━━━━━━━\u001b[0m\u001b[91m╸\u001b[0m\u001b[90m━━━━━━━━\u001b[0m \u001b[32m6.5/8.1 MB\u001b[0m \u001b[31m195.1 MB/s\u001b[0m eta \u001b[36m0:00:01\u001b[0m\r\u001b[2K   \u001b[91m━━━━━━━━━━━━━━━━━━━━━━━━━━━━━━━━━━━━━━━\u001b[0m\u001b[91m╸\u001b[0m \u001b[32m8.1/8.1 MB\u001b[0m \u001b[31m192.9 MB/s\u001b[0m eta \u001b[36m0:00:01\u001b[0m\r\u001b[2K   \u001b[90m━━━━━━━━━━━━━━━━━━━━━━━━━━━━━━━━━━━━━━━━\u001b[0m \u001b[32m8.1/8.1 MB\u001b[0m \u001b[31m111.9 MB/s\u001b[0m eta \u001b[36m0:00:00\u001b[0m\n",
            "\u001b[?25h\u001b[?25l   \u001b[90m━━━━━━━━━━━━━━━━━━━━━━━━━━━━━━━━━━━━━━━━\u001b[0m \u001b[32m0.0/117.7 kB\u001b[0m \u001b[31m?\u001b[0m eta \u001b[36m-:--:--\u001b[0m\r\u001b[2K   \u001b[90m━━━━━━━━━━━━━━━━━━━━━━━━━━━━━━━━━━━━━━━━\u001b[0m \u001b[32m117.7/117.7 kB\u001b[0m \u001b[31m10.8 MB/s\u001b[0m eta \u001b[36m0:00:00\u001b[0m\n",
            "\u001b[2K   \u001b[90m━━━━━━━━━━━━━━━━━━━━━━━━━━━━━━━━━━━━━━━━\u001b[0m \u001b[32m2.3/2.3 MB\u001b[0m \u001b[31m76.6 MB/s\u001b[0m eta \u001b[36m0:00:00\u001b[0m\n",
            "\u001b[2K   \u001b[90m━━━━━━━━━━━━━━━━━━━━━━━━━━━━━━━━━━━━━━━━\u001b[0m \u001b[32m739.1/739.1 kB\u001b[0m \u001b[31m46.8 MB/s\u001b[0m eta \u001b[36m0:00:00\u001b[0m\n",
            "\u001b[?25h"
          ]
        }
      ],
      "source": [
        "%pip install cobra --quiet\n",
        "!wget -q https://github.com/sshameer/DielLeafModeling/raw/refs/heads/main/Models/C3_model.sbml"
      ]
    },
    {
      "cell_type": "markdown",
      "source": [
        "#Step: 2 Read sbml model and perform pFBA\n",
        "\n",
        "*   A cobra model can be generated from an SBML file using the` read_sbml_model`\n",
        "function in the cobrapy io module\n",
        "*   The syntax is `model_name = read_sbml_model(file_name)`\n",
        "*   pFBA can be performed using the pfba package in the cobrapy `flux_analysis` module"
      ],
      "metadata": {
        "id": "A4yasBSlldfD"
      }
    },
    {
      "cell_type": "code",
      "source": [
        "#import model\n",
        "from cobra.io import read_sbml_model\n",
        "C3_model = read_sbml_model(\"C3_model.sbml\")\n",
        "from cobra.flux_analysis import pfba"
      ],
      "metadata": {
        "id": "k6VDfreufYiL"
      },
      "execution_count": 3,
      "outputs": []
    },
    {
      "cell_type": "markdown",
      "source": [
        "#Step:3 Constraining the diel C3 leaf nodel\n",
        "*   GPT transport reaction and starch phosphorylation are constraining.\n",
        "*   Use the syntax `model_name.reactions.get_by_id` to get the reaction from the model\n",
        "*   PPFD and and photon uptake defined as 500\n",
        "*   Maintenanace cost is defined according the reference of [Töpfer et al.,2020](https://doi.org/10.1105/tpc.20.00132)\n",
        "*   Sucrose transport reaction from day to night is blocked by setting the bounds to zero\n",
        "\n",
        "\n"
      ],
      "metadata": {
        "id": "w6JQts8v0dZh"
      }
    },
    {
      "cell_type": "code",
      "source": [
        "# constraining GPT transport reaction\n",
        "C3_model.reactions.get_by_id(\"G6P_Pi_pc1\").lower_bound= 0\n",
        "C3_model.reactions.get_by_id(\"G6P_Pi_pc1\").upper_bound= 0\n",
        "C3_model.reactions.get_by_id(\"G6P_Pi_pc2\").lower_bound= 0\n",
        "C3_model.reactions.get_by_id(\"G6P_Pi_pc2\").upper_bound= 0\n",
        "# constraining starch phosphorylation\n",
        "C3_model.reactions.get_by_id(\"RXN_1826_p1\").lower_bound= 0\n",
        "C3_model.reactions.get_by_id(\"RXN_1826_p1\").upper_bound= 0\n",
        "C3_model.reactions.get_by_id(\"RXN_1826_p2\").lower_bound= 0\n",
        "C3_model.reactions.get_by_id(\"RXN_1826_p2\").upper_bound= 0\n",
        "\n",
        "# Setting photon uptake\n",
        "PPFD = 500\n",
        "C3_model.reactions.Photon_tx1.upper_bound = PPFD\n",
        "C3_model.reactions.Photon_tx1.lower_bound = 0\n",
        "# Setting maintenance cost\n",
        "VATPase = 0.0049*PPFD+2.7851  # Töpfer et al.,2020\n",
        "C3_model.reactions.get_by_id(\"ATPase_tx1\").bounds = (VATPase,VATPase)\n",
        "# constraining sucrose accumulation to model a starch storing leaf\n",
        "C3_model.reactions.get_by_id(\"SUCROSE_v_dielTransfer\").bounds = (0,0)\n"
      ],
      "metadata": {
        "id": "q-yek7tBfoeT"
      },
      "execution_count": 4,
      "outputs": []
    },
    {
      "cell_type": "markdown",
      "source": [
        "#Step:4 Optimization of model using pfba\n",
        "\n",
        "*   pfba can be performed by using the syntax `solution_name = pfba(model_name)`\n",
        "*   The solution object has an attribute fluxes which containts a dictionary of all fluxes\n",
        "*   Use the syntax for checking the summary `model_name.summary()` of the model after optimization"
      ],
      "metadata": {
        "id": "3mKznqngEFHg"
      }
    },
    {
      "cell_type": "code",
      "source": [
        "#run pfba and get summary\n",
        "solution = pfba(C3_model)\n",
        "C3_model.summary()"
      ],
      "metadata": {
        "id": "erSOGAW3frhj",
        "colab": {
          "base_uri": "https://localhost:8080/",
          "height": 566
        },
        "outputId": "2e1903f7-fdfc-41a0-b4fa-2d063bf83c4a"
      },
      "execution_count": 5,
      "outputs": [
        {
          "output_type": "execute_result",
          "data": {
            "text/plain": [
              "<cobra.summary.model_summary.ModelSummary at 0x7987cc850990>"
            ],
            "text/html": [
              "<h3>Objective</h3><p>1.0 diel_biomass = 0.8258313952247737</p><h4>Uptake</h4><table border=\"1\" class=\"dataframe\">\n",
              "  <thead>\n",
              "    <tr style=\"text-align: right;\">\n",
              "      <th>Metabolite</th>\n",
              "      <th>Reaction</th>\n",
              "      <th>Flux</th>\n",
              "      <th>C-Number</th>\n",
              "      <th>C-Flux</th>\n",
              "    </tr>\n",
              "  </thead>\n",
              "  <tbody>\n",
              "    <tr>\n",
              "      <td>CARBON_DIOXIDE_e1</td>\n",
              "      <td>CO2_tx1</td>\n",
              "      <td>35.14</td>\n",
              "      <td>1</td>\n",
              "      <td>100.00%</td>\n",
              "    </tr>\n",
              "    <tr>\n",
              "      <td>WATER_e1</td>\n",
              "      <td>H2O_tx1</td>\n",
              "      <td>31.55</td>\n",
              "      <td>0</td>\n",
              "      <td>0.00%</td>\n",
              "    </tr>\n",
              "    <tr>\n",
              "      <td>NITRATE_e1</td>\n",
              "      <td>Nitrate_tx1</td>\n",
              "      <td>0.2171</td>\n",
              "      <td>0</td>\n",
              "      <td>0.00%</td>\n",
              "    </tr>\n",
              "    <tr>\n",
              "      <td>NITRATE_e2</td>\n",
              "      <td>Nitrate_tx2</td>\n",
              "      <td>0.1447</td>\n",
              "      <td>0</td>\n",
              "      <td>0.00%</td>\n",
              "    </tr>\n",
              "    <tr>\n",
              "      <td>OXYGEN_MOLECULE_e2</td>\n",
              "      <td>O2_tx2</td>\n",
              "      <td>2.023</td>\n",
              "      <td>0</td>\n",
              "      <td>0.00%</td>\n",
              "    </tr>\n",
              "    <tr>\n",
              "      <td>Photon_e1</td>\n",
              "      <td>Photon_tx1</td>\n",
              "      <td>500</td>\n",
              "      <td>0</td>\n",
              "      <td>0.00%</td>\n",
              "    </tr>\n",
              "    <tr>\n",
              "      <td>SULFATE_e1</td>\n",
              "      <td>SO4_tx1</td>\n",
              "      <td>0.002766</td>\n",
              "      <td>0</td>\n",
              "      <td>0.00%</td>\n",
              "    </tr>\n",
              "    <tr>\n",
              "      <td>PROTON_c1</td>\n",
              "      <td>unlProtHYPO_c1</td>\n",
              "      <td>0.3151</td>\n",
              "      <td>0</td>\n",
              "      <td>0.00%</td>\n",
              "    </tr>\n",
              "  </tbody>\n",
              "</table><h4>Secretion</h4><table border=\"1\" class=\"dataframe\">\n",
              "  <thead>\n",
              "    <tr style=\"text-align: right;\">\n",
              "      <th>Metabolite</th>\n",
              "      <th>Reaction</th>\n",
              "      <th>Flux</th>\n",
              "      <th>C-Number</th>\n",
              "      <th>C-Flux</th>\n",
              "    </tr>\n",
              "  </thead>\n",
              "  <tbody>\n",
              "    <tr>\n",
              "      <td>CARBON_DIOXIDE_e2</td>\n",
              "      <td>CO2_tx2</td>\n",
              "      <td>-1.846</td>\n",
              "      <td>1</td>\n",
              "      <td>100.00%</td>\n",
              "    </tr>\n",
              "    <tr>\n",
              "      <td>WATER_e2</td>\n",
              "      <td>H2O_tx2</td>\n",
              "      <td>-0.9264</td>\n",
              "      <td>0</td>\n",
              "      <td>0.00%</td>\n",
              "    </tr>\n",
              "    <tr>\n",
              "      <td>OXYGEN_MOLECULE_e1</td>\n",
              "      <td>O2_tx1</td>\n",
              "      <td>-36.01</td>\n",
              "      <td>0</td>\n",
              "      <td>0.00%</td>\n",
              "    </tr>\n",
              "  </tbody>\n",
              "</table>"
            ]
          },
          "metadata": {},
          "execution_count": 5
        }
      ]
    },
    {
      "cell_type": "markdown",
      "source": [
        "# **Part:2 Checking alternative photorespiratory pathways one by one**"
      ],
      "metadata": {
        "id": "7pIPsSerF3eR"
      }
    },
    {
      "cell_type": "markdown",
      "source": [
        "#Step:1 Appying Pathway 1 to the C3 diel leaf model\n",
        "Pathway 1 represents AP1 in [South et al.,2019](https://www.science.org/doi/10.1126/science.aat9077) study. The enzymes glycolate dehydrogenase, glyoxylate carboligase and tartronic semialdehyde reductase make this pathway.\n",
        "*   Making a copy of C3 model to apply AP1\n",
        "*   To copy a cobra object using the `object.copy()` function\n",
        "*   made a copy of C3 model for AP1 using the syntax `model_1 = C3_model.copy()`\n"
      ],
      "metadata": {
        "id": "TBsoUT2Jfy6D"
      }
    },
    {
      "cell_type": "code",
      "source": [
        "# Making a copy of C3_model for AP1\n",
        "model_1 = C3_model.copy()\n",
        "\n",
        "# Disabling the  existing photorespiration pathway before allowing the alternate pathway by applying the following constraints\n",
        "model_1.reactions.get_by_id(\"GLYCOLLATE_pc1\").bounds = (0,0)\n",
        "model_1.reactions.get_by_id(\"GLYCERATE_GLYCOLLATE_pc1\").bounds = (0,0)\n",
        "model_1.reactions.get_by_id(\"Glycolate_xc1\").bounds = (0,0)"
      ],
      "metadata": {
        "id": "Byr_ei55fseM"
      },
      "execution_count": 6,
      "outputs": []
    },
    {
      "cell_type": "markdown",
      "source": [
        "### Adding reactions to the model for AP1\n",
        "*   creating an open list by using `reactions_to_add = []`.\n",
        "*   Add the reactions in AP1 to both day and night\n",
        "*   adding the reaction list to the model by `reactions_to_add.extend([R1,R2,R3...])` and `model_name.add_reactions(reactions_to_add)`\n",
        "\n"
      ],
      "metadata": {
        "id": "F0MSuO8B2upI"
      }
    },
    {
      "cell_type": "code",
      "source": [
        "from cobra import Model, Reaction, Metabolite\n",
        "# Create a list to hold reactions\n",
        "reactions_to_add = []\n",
        "\n",
        "# adding reactions for glycolate dehydrogenase for day\n",
        "reaction1 = Reaction('RXN_GDH_p1')\n",
        "reaction1.name = 'RXN_GDH_p1'\n",
        "reaction1.subsystem = 'glycolate to glyoxyllate by NAD'\n",
        "reaction1.lower_bound = 0\n",
        "reaction1.upper_bound = 1000\n",
        "GLYCOLLATE_p1 = model_1.metabolites.get_by_id(\"GLYCOLLATE_p1\")\n",
        "NAD_p1 = model_1.metabolites.get_by_id(\"NAD_p1\")\n",
        "GLYOX_p1 =Metabolite(\"GLYOX_p1\",formula=\"C2H1O3\", name= \"Glyoxylate\", compartment = \"p\", charge = \"-1\")\n",
        "NADH_p1 = model_1.metabolites.get_by_id(\"NADH_p1\")\n",
        "reaction1.add_metabolites({\n",
        "    GLYCOLLATE_p1: -1,\n",
        "    NAD_p1: -1,\n",
        "    GLYOX_p1: 1.0,\n",
        "    NADH_p1: 1.0\n",
        "})\n",
        "\n",
        "# adding reactions for tartronate-semialdehyde synthase for day\n",
        "reaction2 = Reaction('GCL_RXN_p1')\n",
        "reaction2.name = 'GCL_RXN_p1'\n",
        "reaction2.subsystem = 'glyoxyllate to TARTRONIC SEMIALDEHYDE'\n",
        "reaction2.lower_bound = 0\n",
        "reaction2.upper_bound = 1000\n",
        "GLYOX_p1 =Metabolite(\"GLYOX_p1\",formula=\"C2H1O3\", name= \"Glyoxylate\", compartment = \"p\", charge = \"-1\")\n",
        "PROTON_p1 = model_1.metabolites.get_by_id(\"PROTON_p1\")\n",
        "TARTRONIC_SEMIALDEHYDE_p1 = Metabolite(\"TARTRONIC_SEMIALDEHYDE_p1\",formula=\"C3H3O4\", name= \"TARTRONIC_SEMIALDEHYDE\", compartment = \"p\", charge = \"-1\")\n",
        "CARBON_DIOXIDE_p1 = model_1.metabolites.get_by_id(\"CARBON_DIOXIDE_p1\")\n",
        "reaction2.add_metabolites({\n",
        "    GLYOX_p1: -1,\n",
        "    PROTON_p1: -1,\n",
        "    TARTRONIC_SEMIALDEHYDE_p1: 1.0,\n",
        "    CARBON_DIOXIDE_p1: 1.0,\n",
        "})\n",
        "\n",
        "# adding reactions for tartronate-semialdehyde reductase for day\n",
        "reaction2 = Reaction('GCL_RXN_p1')\n",
        "reaction3 = Reaction('RXN_TSR_p1')\n",
        "reaction3.name = 'RXN_TSR_p1'\n",
        "reaction3.subsystem = 'TARTRONIC SEMIALDEHYDE to glycerate'\n",
        "reaction3.lower_bound = -1000\n",
        "reaction3.upper_bound = 1000\n",
        "TARTRONIC_SEMIALDEHYDE_p1 = Metabolite(\"TARTRONIC_SEMIALDEHYDE_p1\",formula=\"C3H3O4\", name= \"TARTRONIC_SEMIALDEHYDE\", compartment = \"p\", charge = \"-1\")\n",
        "NADH_p1 = model_1.metabolites.get_by_id(\"NADH_p1\")\n",
        "NAD_p1 = model_1.metabolites.get_by_id(\"NAD_p1\")\n",
        "GLYCERATE_p1 = model_1.metabolites.get_by_id(\"GLYCERATE_p1\")\n",
        "reaction3.add_metabolites({\n",
        "    TARTRONIC_SEMIALDEHYDE_p1: -1,\n",
        "    NADH_p1: -1,\n",
        "    GLYCERATE_p1: 1.0,\n",
        "    NAD_p1: 1.0,\n",
        "})\n",
        "\n",
        "# adding reactions for glycolate dehydrogenase for night\n",
        "reaction4 = Reaction('RXN_GDH_p2')\n",
        "reaction4.name = 'RXN_GDH_p2'\n",
        "reaction4.subsystem = 'glycolate to glyoxyllate by NAD'\n",
        "reaction4.lower_bound = 0\n",
        "reaction4.upper_bound = 1000\n",
        "GLYCOLLATE_p2 = model_1.metabolites.get_by_id(\"GLYCOLLATE_p2\")\n",
        "NAD_p2 = model_1.metabolites.get_by_id(\"NAD_p2\")\n",
        "GLYOX_p2 = Metabolite(\"GLYOX_p2\", formula=\"C2H1O3\", name=\"Glyoxylate\", compartment=\"p\", charge=-1)\n",
        "NADH_p2 = model_1.metabolites.get_by_id(\"NADH_p2\")\n",
        "reaction4.add_metabolites({\n",
        "    GLYCOLLATE_p2: -1,\n",
        "    NAD_p2: -1,\n",
        "    GLYOX_p2: 1.0,\n",
        "    NADH_p2: 1.0\n",
        "})\n",
        "\n",
        "# adding reactions for tartronate-semialdehyde synthase for night\n",
        "reaction5 = Reaction('GCL_RXN_p2')\n",
        "reaction5.name = 'GCL_RXN_p2'\n",
        "reaction5.subsystem = 'glyoxyllate to TARTRONIC SEMIALDEHYDE'\n",
        "reaction5.lower_bound = 0\n",
        "reaction5.upper_bound = 1000\n",
        "GLYOX_p2 =Metabolite(\"GLYOX_p2\",formula=\"C2H1O3\", name= \"Glyoxylate\", compartment = \"p\", charge = \"-1\")\n",
        "PROTON_p2 = model_1.metabolites.get_by_id(\"PROTON_p2\")\n",
        "TARTRONIC_SEMIALDEHYDE_p2 = Metabolite(\"TARTRONIC_SEMIALDEHYDE_p2\",formula=\"C3H3O4\", name= \"TARTRONIC_SEMIALDEHYDE\", compartment = \"p\", charge = \"-1\")\n",
        "CARBON_DIOXIDE_p2 = model_1.metabolites.get_by_id(\"CARBON_DIOXIDE_p2\")\n",
        "reaction5.add_metabolites({\n",
        "    GLYOX_p2: -1,\n",
        "    PROTON_p2: -1,\n",
        "    TARTRONIC_SEMIALDEHYDE_p2: 1.0,\n",
        "    CARBON_DIOXIDE_p2: 1.0,\n",
        "})\n",
        "\n",
        "# adding reactions for tartronate-semialdehyde reductase for night\n",
        "reaction6 = Reaction('RXN_TSR_p2')\n",
        "reaction6.name = 'RXN_TSR_p2'\n",
        "reaction6.subsystem = 'TARTRONIC SEMIALDEHYDE to glycerate'\n",
        "reaction6.lower_bound = -1000\n",
        "reaction6.upper_bound = 1000\n",
        "TARTRONIC_SEMIALDEHYDE_p2 = Metabolite(\"TARTRONIC_SEMIALDEHYDE_p2\",formula=\"C3H3O4\", name= \"TARTRONIC_SEMIALDEHYDE\", compartment = \"p\", charge = \"-1\")\n",
        "NADH_p2 = model_1.metabolites.get_by_id(\"NADH_p2\")\n",
        "NAD_p2 = model_1.metabolites.get_by_id(\"NAD_p2\")\n",
        "GLYCERATE_p2 = model_1.metabolites.get_by_id(\"GLYCERATE_p2\")\n",
        "reaction6.add_metabolites({\n",
        "    TARTRONIC_SEMIALDEHYDE_p2: -1,\n",
        "    NADH_p2: -1,\n",
        "    GLYCERATE_p2: 1.0,\n",
        "    NAD_p2: 1.0,\n",
        "})\n",
        "reactions_to_add.extend([reaction1,reaction2,reaction3, reaction4, reaction5, reaction6])\n",
        "model_1.add_reactions(reactions_to_add)\n",
        "# print the reaction for checking the full reaction\n",
        "# print(reaction1)"
      ],
      "metadata": {
        "id": "oQWJJ4xpf2eT"
      },
      "execution_count": 7,
      "outputs": []
    },
    {
      "cell_type": "markdown",
      "source": [
        "#Step:2 optimizing the model by pfba after updates"
      ],
      "metadata": {
        "id": "Hg6NW_I6LKj5"
      }
    },
    {
      "cell_type": "code",
      "source": [
        "# run pfba and get summary\n",
        "solution1 = pfba(model_1)\n",
        "model_1.summary()"
      ],
      "metadata": {
        "id": "MiKaVZkHf5WD",
        "colab": {
          "base_uri": "https://localhost:8080/",
          "height": 566
        },
        "outputId": "86e755c3-9eb9-43f5-fb7c-28a5c510e317"
      },
      "execution_count": 8,
      "outputs": [
        {
          "output_type": "execute_result",
          "data": {
            "text/plain": [
              "<cobra.summary.model_summary.ModelSummary at 0x7987cb834dd0>"
            ],
            "text/html": [
              "<h3>Objective</h3><p>1.0 diel_biomass = 1.3096037769153317</p><h4>Uptake</h4><table border=\"1\" class=\"dataframe\">\n",
              "  <thead>\n",
              "    <tr style=\"text-align: right;\">\n",
              "      <th>Metabolite</th>\n",
              "      <th>Reaction</th>\n",
              "      <th>Flux</th>\n",
              "      <th>C-Number</th>\n",
              "      <th>C-Flux</th>\n",
              "    </tr>\n",
              "  </thead>\n",
              "  <tbody>\n",
              "    <tr>\n",
              "      <td>CARBON_DIOXIDE_e1</td>\n",
              "      <td>CO2_tx1</td>\n",
              "      <td>27.46</td>\n",
              "      <td>1</td>\n",
              "      <td>100.00%</td>\n",
              "    </tr>\n",
              "    <tr>\n",
              "      <td>WATER_e1</td>\n",
              "      <td>H2O_tx1</td>\n",
              "      <td>35.59</td>\n",
              "      <td>0</td>\n",
              "      <td>0.00%</td>\n",
              "    </tr>\n",
              "    <tr>\n",
              "      <td>NITRATE_e1</td>\n",
              "      <td>Nitrate_tx1</td>\n",
              "      <td>0.3442</td>\n",
              "      <td>0</td>\n",
              "      <td>0.00%</td>\n",
              "    </tr>\n",
              "    <tr>\n",
              "      <td>NITRATE_e2</td>\n",
              "      <td>Nitrate_tx2</td>\n",
              "      <td>0.2295</td>\n",
              "      <td>0</td>\n",
              "      <td>0.00%</td>\n",
              "    </tr>\n",
              "    <tr>\n",
              "      <td>OXYGEN_MOLECULE_e2</td>\n",
              "      <td>O2_tx2</td>\n",
              "      <td>2.203</td>\n",
              "      <td>0</td>\n",
              "      <td>0.00%</td>\n",
              "    </tr>\n",
              "    <tr>\n",
              "      <td>Photon_e1</td>\n",
              "      <td>Photon_tx1</td>\n",
              "      <td>500</td>\n",
              "      <td>0</td>\n",
              "      <td>0.00%</td>\n",
              "    </tr>\n",
              "    <tr>\n",
              "      <td>SULFATE_e1</td>\n",
              "      <td>SO4_tx1</td>\n",
              "      <td>0.004386</td>\n",
              "      <td>0</td>\n",
              "      <td>0.00%</td>\n",
              "    </tr>\n",
              "    <tr>\n",
              "      <td>PROTON_c1</td>\n",
              "      <td>unlProtHYPO_c1</td>\n",
              "      <td>14.22</td>\n",
              "      <td>0</td>\n",
              "      <td>0.00%</td>\n",
              "    </tr>\n",
              "  </tbody>\n",
              "</table><h4>Secretion</h4><table border=\"1\" class=\"dataframe\">\n",
              "  <thead>\n",
              "    <tr style=\"text-align: right;\">\n",
              "      <th>Metabolite</th>\n",
              "      <th>Reaction</th>\n",
              "      <th>Flux</th>\n",
              "      <th>C-Number</th>\n",
              "      <th>C-Flux</th>\n",
              "    </tr>\n",
              "  </thead>\n",
              "  <tbody>\n",
              "    <tr>\n",
              "      <td>CARBON_DIOXIDE_e2</td>\n",
              "      <td>CO2_tx2</td>\n",
              "      <td>-2.12</td>\n",
              "      <td>1</td>\n",
              "      <td>100.00%</td>\n",
              "    </tr>\n",
              "    <tr>\n",
              "      <td>WATER_e2</td>\n",
              "      <td>H2O_tx2</td>\n",
              "      <td>-0.7468</td>\n",
              "      <td>0</td>\n",
              "      <td>0.00%</td>\n",
              "    </tr>\n",
              "    <tr>\n",
              "      <td>OXYGEN_MOLECULE_e1</td>\n",
              "      <td>O2_tx1</td>\n",
              "      <td>-42.37</td>\n",
              "      <td>0</td>\n",
              "      <td>0.00%</td>\n",
              "    </tr>\n",
              "  </tbody>\n",
              "</table>"
            ]
          },
          "metadata": {},
          "execution_count": 8
        }
      ]
    },
    {
      "cell_type": "markdown",
      "source": [
        "#Step :3 Appying Pathway 2 to the C3 diel leaf model\n",
        "\n",
        "Pathway 2 represents AP2 in [South et al.,2019](https://www.science.org/doi/10.1126/science.aat9077) study. The enzymes glycolate oxidase, malate synthase and catalase make this pathway.\n",
        "*   Making a copy of C3 model to apply AP2\n",
        "*   Made the copy of C3 model for AP2 by using the syntax `model_2 = C3_model.copy()`"
      ],
      "metadata": {
        "id": "ka9byT7IgQZb"
      }
    },
    {
      "cell_type": "code",
      "source": [
        "#Making a copy of C3_model for AP2\n",
        "model_2 = C3_model.copy()\n",
        "\n",
        "# Disabling the  existing photorespiration pathway before allowing the alternate pathway by applying the following constraints\n",
        "model_2.reactions.get_by_id(\"GLYCOLLATE_pc1\").bounds = (0,0)\n",
        "model_2.reactions.get_by_id(\"GLYCERATE_GLYCOLLATE_pc1\").bounds = (0,0)\n",
        "model_2.reactions.get_by_id(\"Glycolate_xc1\").bounds = (0,0)"
      ],
      "metadata": {
        "id": "GqXqp7ylgNaz"
      },
      "execution_count": 9,
      "outputs": []
    },
    {
      "cell_type": "markdown",
      "source": [
        "### Adding reactions to the model for AP2\n",
        "*   creating an open list by using `reactions_to_add = []`.\n",
        "*   Add the reactions in AP2 to both day and night\n",
        "*   adding the reaction list to the model by `reactions_to_add.extend([R7,R8,R9...])` and `model_name.add_reactions(reactions_to_add)`\n"
      ],
      "metadata": {
        "id": "PjwFik2d3Z7I"
      }
    },
    {
      "cell_type": "code",
      "source": [
        "\n",
        "from cobra import Model, Reaction, Metabolite\n",
        "# Create a list to hold reactions\n",
        "reactions_to_add = []\n",
        "\n",
        "# adding reactions for glycolate oxidase for day\n",
        "reaction7 = Reaction('RXN_969_p1')\n",
        "reaction7.name = 'RXN_969_p1'\n",
        "reaction7.subsystem = 'glycolate to glyoxyllate'\n",
        "reaction7.lower_bound = 0\n",
        "reaction7.upper_bound = 1000\n",
        "GLYCOLLATE_p1 = model_2.metabolites.get_by_id(\"GLYCOLLATE_p1\")\n",
        "OXYGEN_MOLECULE_p1 = model_2.metabolites.get_by_id(\"OXYGEN_MOLECULE_p1\")\n",
        "GLYOX_p1 =Metabolite(\"GLYOX_p1\",formula=\"C2H1O3\", name= \"Glyoxylate\", compartment = \"p\", charge = \"-1\")\n",
        "HYDROGEN_PEROXIDE_p1 = model_2.metabolites.get_by_id(\"HYDROGEN_PEROXIDE_p1\")\n",
        "reaction7.add_metabolites({\n",
        "    GLYCOLLATE_p1: -1,\n",
        "    OXYGEN_MOLECULE_p1: -1,\n",
        "    GLYOX_p1: 1.0,\n",
        "    HYDROGEN_PEROXIDE_p1: 1.0\n",
        "})\n",
        "\n",
        "# adding reactions for Malate synthase for day\n",
        "reaction8 = Reaction('MALSYN_RXN_p1')\n",
        "reaction8.name = 'MALSYN_RXN_p1'\n",
        "reaction8.subsystem = 'glyoxyllate to malate'\n",
        "reaction8.lower_bound = 0\n",
        "reaction8.upper_bound = 1000\n",
        "WATER_p1 = model_2.metabolites.get_by_id(\"WATER_p1\")\n",
        "GLYOX_p1 =Metabolite(\"GLYOX_p1\",formula=\"C2H1O3\", name= \"Glyoxylate\", compartment = \"p\", charge = \"-1\")\n",
        "ACETYL_COA_p1 = model_2.metabolites.get_by_id(\"ACETYL_COA_p1\")\n",
        "MAL_p1 = model_2.metabolites.get_by_id(\"MAL_p1\")\n",
        "CO_A_p1 = model_2.metabolites.get_by_id(\"CO_A_p1\")\n",
        "PROTON_p1 = model_2.metabolites.get_by_id(\"PROTON_p1\")\n",
        "reaction8.add_metabolites({\n",
        "    WATER_p1: -1,\n",
        "    GLYOX_p1: -1,\n",
        "    ACETYL_COA_p1: -1,\n",
        "    MAL_p1: 1.0,\n",
        "    CO_A_p1: 1.0,\n",
        "    PROTON_p1: 1.0\n",
        "})\n",
        "\n",
        "# adding reactions for glycolate oxidase for night\n",
        "reaction9 = Reaction('RXN_969_p2')\n",
        "reaction9.name = 'RXN_969_p2'\n",
        "reaction9.subsystem = 'glycolate to glyoxyllate'\n",
        "reaction9.lower_bound = 0\n",
        "reaction9.upper_bound = 1000\n",
        "GLYCOLLATE_p2 = model_2.metabolites.get_by_id(\"GLYCOLLATE_p2\")\n",
        "OXYGEN_MOLECULE_p2 = model_2.metabolites.get_by_id(\"OXYGEN_MOLECULE_p2\")\n",
        "GLYOX_p2 =Metabolite(\"GLYOX_p2\",formula=\"C2H1O3\", name= \"Glyoxylate\", compartment = \"p\", charge = \"-1\")\n",
        "HYDROGEN_PEROXIDE_p2 = model_2.metabolites.get_by_id(\"HYDROGEN_PEROXIDE_p2\")\n",
        "reaction9.add_metabolites({\n",
        "    GLYCOLLATE_p2: -1,\n",
        "    OXYGEN_MOLECULE_p2: -1,\n",
        "    GLYOX_p2: 1.0,\n",
        "    HYDROGEN_PEROXIDE_p2: 1.0\n",
        "})\n",
        "\n",
        "# adding reactions for Malate synthase for night\n",
        "reaction10 = Reaction('MALSYN_RXN_p2')\n",
        "reaction10.name = 'MALSYN_RXN_p2'\n",
        "reaction10.subsystem = 'glyoxyllate to malate'\n",
        "reaction10.lower_bound = 0\n",
        "reaction10.upper_bound = 1000\n",
        "WATER_p2 = model_2.metabolites.get_by_id(\"WATER_p2\")\n",
        "GLYOX_p2 =Metabolite(\"GLYOX_p2\",formula=\"C2H1O3\", name= \"Glyoxylate\", compartment = \"p\", charge = \"-1\")\n",
        "ACETYL_COA_p2 = model_2.metabolites.get_by_id(\"ACETYL_COA_p2\")\n",
        "MAL_p2 = model_2.metabolites.get_by_id(\"MAL_p2\")\n",
        "CO_A_p2 = model_2.metabolites.get_by_id(\"CO_A_p2\")\n",
        "PROTON_p2 = model_2.metabolites.get_by_id(\"PROTON_p2\")\n",
        "reaction10.add_metabolites({\n",
        "    WATER_p2: -1,\n",
        "    GLYOX_p2: -1,\n",
        "    ACETYL_COA_p2: -1,\n",
        "    MAL_p2: 1.0,\n",
        "    CO_A_p2: 1.0,\n",
        "    PROTON_p2: 1.0\n",
        "})\n",
        "reactions_to_add.extend([reaction7, reaction8,reaction9,reaction10])\n",
        "model_2.add_reactions(reactions_to_add)\n",
        "# print the reaction for checking the full reaction\n",
        "# print(reaction7)"
      ],
      "metadata": {
        "id": "KyWDepC7gW9i"
      },
      "execution_count": 10,
      "outputs": []
    },
    {
      "cell_type": "markdown",
      "source": [
        "#Step:4 optimizing the model by pfba after updates"
      ],
      "metadata": {
        "id": "6H6R7qvkOo3K"
      }
    },
    {
      "cell_type": "code",
      "source": [
        "#run pfba and get summary\n",
        "solution2 = pfba(model_2)\n",
        "model_2"
      ],
      "metadata": {
        "id": "v3IUjRmFgZOL",
        "colab": {
          "base_uri": "https://localhost:8080/",
          "height": 186
        },
        "outputId": "837a7e55-a14e-4a96-f019-2cd31a05ee7c"
      },
      "execution_count": 11,
      "outputs": [
        {
          "output_type": "execute_result",
          "data": {
            "text/plain": [
              "<Model PlantCoreMetabolism_v2_0_0 at 0x7987cbb41ed0>"
            ],
            "text/html": [
              "\n",
              "        <table>\n",
              "            <tr>\n",
              "                <td><strong>Name</strong></td>\n",
              "                <td>PlantCoreMetabolism_v2_0_0</td>\n",
              "            </tr><tr>\n",
              "                <td><strong>Memory address</strong></td>\n",
              "                <td>7987cbb41ed0</td>\n",
              "            </tr><tr>\n",
              "                <td><strong>Number of metabolites</strong></td>\n",
              "                <td>1771</td>\n",
              "            </tr><tr>\n",
              "                <td><strong>Number of reactions</strong></td>\n",
              "                <td>1878</td>\n",
              "            </tr><tr>\n",
              "                <td><strong>Number of genes</strong></td>\n",
              "                <td>0</td>\n",
              "            </tr><tr>\n",
              "                <td><strong>Number of groups</strong></td>\n",
              "                <td>208</td>\n",
              "            </tr><tr>\n",
              "                <td><strong>Objective expression</strong></td>\n",
              "                <td>1.0*diel_biomass - 1.0*diel_biomass_reverse_79408</td>\n",
              "            </tr><tr>\n",
              "                <td><strong>Compartments</strong></td>\n",
              "                <td>m1, c1, b1, p1, v1, x1, r1, mi1, mc1, e1, l1, i1, c2, v2, e2, x2, b2, p2, m2, mi2, i2, mc2, r2, l2, p</td>\n",
              "            </tr>\n",
              "          </table>"
            ]
          },
          "metadata": {},
          "execution_count": 11
        }
      ]
    },
    {
      "cell_type": "markdown",
      "source": [
        "# Step: 5 Checking the functionality of pathway\n",
        "Checking the functionality of AP2 by checking the fluxes through the newly added reactions\n",
        "\n"
      ],
      "metadata": {
        "id": "WouZ-eAMizhI"
      }
    },
    {
      "cell_type": "code",
      "source": [
        "#Check the reaction fluxes involving pyurvate in plastid during the day\n",
        "met = model_2.metabolites.PYRUVATE_p1\n",
        "\n",
        "for rxn in met.reactions:\n",
        "  print(rxn.id+\"\\t\"+str(rxn.flux))"
      ],
      "metadata": {
        "id": "0saMcWevjMrg",
        "colab": {
          "base_uri": "https://localhost:8080/"
        },
        "outputId": "94778efa-a192-43df-8b37-3771e9e6627e"
      },
      "execution_count": 12,
      "outputs": [
        {
          "output_type": "stream",
          "name": "stdout",
          "text": [
            "PEPDEPHOS_RXN_p1\t0.0\n",
            "ACETOLACTSYN_RXN_p1\t0.009754750711325361\n",
            "MALIC_NADP_RXN_p1\t0.0\n",
            "HMBPP_synthesis_p1\t0.0\n",
            "CYSTATHIONINE_BETA_LYASE_RXN_p1\t0.0011270124847966886\n",
            "ANTHRANSYN_RXN_p1\t0.0011270124847966882\n",
            "PYRUVATE_pc1\t-0.02791640650553205\n",
            "ACETOOHBUTSYN_RXN_p1\t0.0046908092661575125\n",
            "PYRUVDEH_RXN_p1\t0.0\n",
            "DIHYDRODIPICSYN_RXN_p1\t0.005970120786315266\n",
            "PYRUVATEORTHOPHOSPHATE_DIKINASE_RXN_p1\t0.0\n"
          ]
        }
      ]
    },
    {
      "cell_type": "markdown",
      "source": [
        "Checking fluxes through biomass and Phloem_output reactions for understanding the effect of AP2"
      ],
      "metadata": {
        "id": "4rW6giXkjjXm"
      }
    },
    {
      "cell_type": "code",
      "source": [
        "# Checking fluxes through biomass reaction\n",
        "rxn = model_2.reactions.get_by_id(\"diel_biomass\")\n",
        "print(rxn.flux)"
      ],
      "metadata": {
        "id": "sKjML-OmjXWO",
        "colab": {
          "base_uri": "https://localhost:8080/"
        },
        "outputId": "6fff7d6b-51d9-40f5-ceae-0d3bb5517b6e"
      },
      "execution_count": null,
      "outputs": [
        {
          "output_type": "stream",
          "name": "stdout",
          "text": [
            "0.6729711992994301\n"
          ]
        }
      ]
    },
    {
      "cell_type": "code",
      "source": [
        "# Checking fluxes through Phloem output day time\n",
        "rxn = model_2.reactions.get_by_id(\"Phloem_output_tx1\")\n",
        "print(rxn.flux)"
      ],
      "metadata": {
        "id": "wQv-lmrHjcTP",
        "colab": {
          "base_uri": "https://localhost:8080/"
        },
        "outputId": "5314a3d9-b1f9-4e76-810e-704263b04370"
      },
      "execution_count": null,
      "outputs": [
        {
          "output_type": "stream",
          "name": "stdout",
          "text": [
            "2.01891359789829\n"
          ]
        }
      ]
    },
    {
      "cell_type": "markdown",
      "source": [
        "*   From the results, under AP2 or pathway 2, the cycle is not functional\n",
        "\n",
        "#Step:6 Force cycling of the pathway to make AP2 functional\n",
        "\n",
        "*  making the same flux for Malic enzyme reaction, pyruvate dehydogenase reaction and Malate synthase reaction"
      ],
      "metadata": {
        "id": "6fu0vLvzjxqP"
      }
    },
    {
      "cell_type": "code",
      "source": [
        "#making the same flux for the reaction to make the cycle\n",
        "model_2\n",
        "same_flux = model_2.problem.Constraint(\n",
        "    model_2.reactions.MALSYN_RXN_p1.flux_expression - model_2.reactions.MALIC_NADP_RXN_p1.flux_expression,\n",
        "    lb=0,\n",
        "    ub=0)\n",
        "same_flux.id=\"AP2_cons1\"\n",
        "model_2.add_cons_vars(same_flux)\n",
        "\n",
        "same_flux = model_2.problem.Constraint(\n",
        "    model_2.reactions.PYRUVDEH_RXN_p2.flux_expression - model_2.reactions.MALIC_NADP_RXN_p1.flux_expression,\n",
        "    lb=0,\n",
        "    ub=0)\n",
        "same_flux.id=\"AP2_cons2\"\n",
        "model_2.add_cons_vars(same_flux)"
      ],
      "metadata": {
        "id": "9f9TD2pYkNEX"
      },
      "execution_count": null,
      "outputs": []
    },
    {
      "cell_type": "markdown",
      "source": [
        "#Step:7 optimizing the model by pfba after updates"
      ],
      "metadata": {
        "id": "jHsB6KTRUozS"
      }
    },
    {
      "cell_type": "code",
      "source": [
        "#run pfba and get summary\n",
        "solution2 = pfba(model_2)\n",
        "model_2"
      ],
      "metadata": {
        "id": "e5qCUbRzkS5m",
        "colab": {
          "base_uri": "https://localhost:8080/",
          "height": 186
        },
        "outputId": "4d384891-5c82-4892-c9cb-534672e9aab3"
      },
      "execution_count": null,
      "outputs": [
        {
          "output_type": "execute_result",
          "data": {
            "text/plain": [
              "<Model PlantCoreMetabolism_v2_0_0 at 0x7c875a7c32d0>"
            ],
            "text/html": [
              "\n",
              "        <table>\n",
              "            <tr>\n",
              "                <td><strong>Name</strong></td>\n",
              "                <td>PlantCoreMetabolism_v2_0_0</td>\n",
              "            </tr><tr>\n",
              "                <td><strong>Memory address</strong></td>\n",
              "                <td>7c875a7c32d0</td>\n",
              "            </tr><tr>\n",
              "                <td><strong>Number of metabolites</strong></td>\n",
              "                <td>1771</td>\n",
              "            </tr><tr>\n",
              "                <td><strong>Number of reactions</strong></td>\n",
              "                <td>1878</td>\n",
              "            </tr><tr>\n",
              "                <td><strong>Number of genes</strong></td>\n",
              "                <td>0</td>\n",
              "            </tr><tr>\n",
              "                <td><strong>Number of groups</strong></td>\n",
              "                <td>208</td>\n",
              "            </tr><tr>\n",
              "                <td><strong>Objective expression</strong></td>\n",
              "                <td>1.0*diel_biomass - 1.0*diel_biomass_reverse_79408</td>\n",
              "            </tr><tr>\n",
              "                <td><strong>Compartments</strong></td>\n",
              "                <td>m1, c1, b1, p1, v1, x1, r1, mi1, mc1, e1, l1, i1, c2, v2, e2, x2, b2, p2, m2, mi2, i2, mc2, r2, l2, p</td>\n",
              "            </tr>\n",
              "          </table>"
            ]
          },
          "metadata": {},
          "execution_count": 17
        }
      ]
    },
    {
      "cell_type": "markdown",
      "source": [
        "#Step:8 Checking the fluxes through reactions for comparison\n",
        "*   Checking the fluxes through the reactions for comparison\n",
        "*   Checking the biomass rection flux and phloem output fluxes\n",
        "\n",
        "\n",
        "\n",
        "\n",
        "\n",
        "\n",
        "\n",
        "\n"
      ],
      "metadata": {
        "id": "cZ04hJ9_Uxlb"
      }
    },
    {
      "cell_type": "code",
      "source": [
        "met = model_2.metabolites.MAL_p1\n",
        "\n",
        "for rxn in met.reactions:\n",
        "  print(rxn.id+\"\\t\"+str(rxn.flux))"
      ],
      "metadata": {
        "id": "qCQd3cEYkrw2",
        "colab": {
          "base_uri": "https://localhost:8080/"
        },
        "outputId": "7b0b5bbd-e284-4940-9b38-ed4aedf15d07"
      },
      "execution_count": null,
      "outputs": [
        {
          "output_type": "stream",
          "name": "stdout",
          "text": [
            "2KG_MAL_pc1\t-11.253834843571726\n",
            "OAA_MAL_pc1\t-20.17797406491946\n",
            "MALATE_DEH_RXN_p1\t0.0\n",
            "MALIC_NADP_RXN_p1\t11.135949611267144\n",
            "GLT_MAL_pc1\t11.25333393404287\n",
            "MALATE_DEHYDROGENASE_NADP_RXN_p1\t20.178474974448235\n",
            "MALSYN_RXN_p1\t11.135949611267144\n"
          ]
        }
      ]
    },
    {
      "cell_type": "code",
      "source": [
        "rxn = model_2.reactions.get_by_id(\"diel_biomass\")\n",
        "print(rxn.flux)"
      ],
      "metadata": {
        "id": "Wm2vyK3akuS2",
        "colab": {
          "base_uri": "https://localhost:8080/"
        },
        "outputId": "2e7599e6-ffcc-4307-81f6-e3c2df7f9e37"
      },
      "execution_count": null,
      "outputs": [
        {
          "output_type": "stream",
          "name": "stdout",
          "text": [
            "0.3988097628865907\n"
          ]
        }
      ]
    },
    {
      "cell_type": "code",
      "source": [
        "rxn = model_2.reactions.get_by_id(\"Phloem_output_tx1\")\n",
        "print(rxn.flux)"
      ],
      "metadata": {
        "id": "WYeGLV-RkyQ1",
        "colab": {
          "base_uri": "https://localhost:8080/"
        },
        "outputId": "b247c4fe-9233-43d4-b5c1-6f412d28a216"
      },
      "execution_count": null,
      "outputs": [
        {
          "output_type": "stream",
          "name": "stdout",
          "text": [
            "1.196429288659772\n"
          ]
        }
      ]
    },
    {
      "cell_type": "markdown",
      "source": [
        "#Step:9 Constraints to change Vc/Vo ratio\n",
        "\n",
        "*   These results suggest that the functionality of the cycle reduces the\n",
        "photosynthetic efficiency of the model\n",
        "*   For increasing the efficiency we tried to manipulate the Vc/Vo ratio by the following steps, there by tried to match the biomass and phloem_output to the C3_model\n",
        "*   Vc/Vo ratio defined in the model by Rubisco reaction, we applied a constraint to change the ratio"
      ],
      "metadata": {
        "id": "4xJ6GN_gWfkT"
      }
    },
    {
      "cell_type": "code",
      "source": [
        "#creating a backup for making the updates and comparison\n",
        "backup_model2 = model_2.copy()\n",
        "Rubisco_balance = Metabolite(\"rubisco_bal_p1\", name = \"Weights to balance RuBP carboxygenase oxygenase balance\", compartment = \"p1\")\n",
        "rxn = backup_model2.reactions.get_by_id(\"RXN_961_p1\")\n",
        "rxn.add_metabolites({Rubisco_balance:4})\n",
        "print(rxn.reaction)\n",
        "# optimizing the model after the updation\n",
        "solution2 = pfba(backup_model2)"
      ],
      "metadata": {
        "id": "_9QyAaBck2uf",
        "colab": {
          "base_uri": "https://localhost:8080/"
        },
        "outputId": "54f1ecbf-813d-4d00-d01d-e5107be632ee"
      },
      "execution_count": 13,
      "outputs": [
        {
          "output_type": "stream",
          "name": "stdout",
          "text": [
            "D_RIBULOSE_15_P2_p1 + OXYGEN_MOLECULE_p1 --> CPD_67_p1 + G3P_p1 + 2.0 PROTON_p1 + 7.0 rubisco_bal_p1\n"
          ]
        }
      ]
    },
    {
      "cell_type": "markdown",
      "source": [
        "#Step:10 Checking the results\n",
        "*   Checking flux through biomass reaction and phloem output"
      ],
      "metadata": {
        "id": "hRRz0faek_mt"
      }
    },
    {
      "cell_type": "code",
      "source": [
        "rxn = backup_model2.reactions.get_by_id(\"diel_biomass\")\n",
        "print(rxn.flux)"
      ],
      "metadata": {
        "colab": {
          "base_uri": "https://localhost:8080/"
        },
        "id": "NYnWl3UsVJs9",
        "outputId": "34757d43-a8b7-46b0-c189-fc9257e3ae84"
      },
      "execution_count": null,
      "outputs": [
        {
          "output_type": "stream",
          "name": "stdout",
          "text": [
            "0.8241606329205255\n"
          ]
        }
      ]
    },
    {
      "cell_type": "code",
      "source": [
        "rxn = backup_model2.reactions.get_by_id(\"Phloem_output_tx1\")\n",
        "print(rxn.flux)"
      ],
      "metadata": {
        "id": "_vWA3i-_lFaW",
        "colab": {
          "base_uri": "https://localhost:8080/"
        },
        "outputId": "0fcac2bc-9fc3-4e3b-d113-29b85bf09a80"
      },
      "execution_count": null,
      "outputs": [
        {
          "output_type": "stream",
          "name": "stdout",
          "text": [
            "2.4724818987615764\n"
          ]
        }
      ]
    },
    {
      "cell_type": "markdown",
      "source": [
        "- From the results it suggest that we can achieve the higher photosynthetic efficiency by allowing this pathway with flexible Vc/Vo ratio\n",
        "- Since the pathway releasing more CO2 and changing the Vc/Vo ratio."
      ],
      "metadata": {
        "id": "rw_sqbo2ltv-"
      }
    },
    {
      "cell_type": "markdown",
      "source": [
        "#Step :11 Appying Pathway 3 to the C3 diel leaf model\n",
        "\n",
        "Pathway 3 represents AP3 in [South et al.,2019](https://www.science.org/doi/10.1126/science.aat9077) study. The enzymes glycolate dehydrogenase, malate synthase  make this pathway.\n",
        "*   Making a copy of C3 model to apply AP3\n",
        "*   Made the copy of C3 model for AP3 by using the syntax `model_3 = C3_model.copy()`"
      ],
      "metadata": {
        "id": "lbJODEhHgpBL"
      }
    },
    {
      "cell_type": "code",
      "source": [
        "# Making a copy of C3_model for AP3\n",
        "model_3 = C3_model.copy()\n",
        "\n",
        "# Disabling the  existing photorespiration pathway before allowing the alternate pathway by applying the following constraints\n",
        "model_3.reactions.get_by_id(\"GLYCOLLATE_pc1\").bounds = (0,0)\n",
        "model_3.reactions.get_by_id(\"GLYCERATE_GLYCOLLATE_pc1\").bounds = (0,0)\n",
        "model_3.reactions.get_by_id(\"Glycolate_xc1\").bounds = (0,0)"
      ],
      "metadata": {
        "id": "gMbCECRtgl5i"
      },
      "execution_count": null,
      "outputs": []
    },
    {
      "cell_type": "markdown",
      "source": [
        "### Adding reactions to the model for AP2\n",
        "*   creating an open list by using `reactions_to_add = []`.\n",
        "*   Add the reactions in AP3 to both day and night\n",
        "*   adding the reaction list to the model by `reactions_to_add.extend([R11,R12,R13...])` and `model_name.add_reactions(reactions_to_add)`"
      ],
      "metadata": {
        "id": "zexr8Gm5WAEk"
      }
    },
    {
      "cell_type": "code",
      "source": [
        "\n",
        "from cobra import Model, Reaction, Metabolite\n",
        "# Create a list to hold reactions\n",
        "reactions_to_add = []\n",
        "\n",
        "# adding reactions for glycolate dehydrogenase for day\n",
        "reaction11 = Reaction('RXN_GDH_p1')\n",
        "reaction11.name = 'RXN_GDH_p1'\n",
        "reaction11.subsystem = 'glycolate to glyoxyllate by NAD'\n",
        "reaction11.lower_bound = 0\n",
        "reaction11.upper_bound = 1000\n",
        "GLYCOLLATE_p1 = model_3.metabolites.get_by_id(\"GLYCOLLATE_p1\")\n",
        "NAD_p1 = model_3.metabolites.get_by_id(\"NAD_p1\")\n",
        "GLYOX_p1 =Metabolite(\"GLYOX_p1\",formula=\"C2H1O3\", name= \"Glyoxylate\", compartment = \"p\", charge = \"-1\")\n",
        "NADH_p1 = model_3.metabolites.get_by_id(\"NADH_p1\")\n",
        "reaction11.add_metabolites({\n",
        "    GLYCOLLATE_p1: -1,\n",
        "    NAD_p1: -1,\n",
        "    GLYOX_p1: 1.0,\n",
        "    NADH_p1: 1.0\n",
        "})\n",
        "\n",
        "# adding reactions for Malate synthase for day\n",
        "reaction12 = Reaction('MALSYN_RXN_p1')\n",
        "reaction12.name = 'MALSYN_RXN_p1'\n",
        "reaction12.subsystem = 'glyoxyllate to malate'\n",
        "reaction12.lower_bound = 0\n",
        "reaction12.upper_bound = 1000\n",
        "WATER_p1 = model_3.metabolites.get_by_id(\"WATER_p1\")\n",
        "GLYOX_p1 =Metabolite(\"GLYOX_p1\",formula=\"C2H1O3\", name= \"Glyoxylate\", compartment = \"p\", charge = \"-1\")\n",
        "ACETYL_COA_p1 = model_3.metabolites.get_by_id(\"ACETYL_COA_p1\")\n",
        "MAL_p1 = model_3.metabolites.get_by_id(\"MAL_p1\")\n",
        "CO_A_p1 = model_3.metabolites.get_by_id(\"CO_A_p1\")\n",
        "PROTON_p1 = model_3.metabolites.get_by_id(\"PROTON_p1\")\n",
        "reaction12.add_metabolites({\n",
        "    WATER_p1: -1,\n",
        "    GLYOX_p1: -1,\n",
        "    ACETYL_COA_p1: -1,\n",
        "    MAL_p1: 1.0,\n",
        "    CO_A_p1: 1.0,\n",
        "    PROTON_p1: 1.0\n",
        "})\n",
        "\n",
        "# adding reactions for glycolate dehydrogenase for night\n",
        "reaction13 = Reaction('RXN_GDH_p2')\n",
        "reaction13.name = 'RXN_GDH_p2'\n",
        "reaction13.subsystem = 'glycolate to glyoxyllate by NAD'\n",
        "reaction13.lower_bound = 0\n",
        "reaction13.upper_bound = 1000\n",
        "GLYCOLLATE_p2 = model_3.metabolites.get_by_id(\"GLYCOLLATE_p2\")\n",
        "NAD_p2 = model_3.metabolites.get_by_id(\"NAD_p2\")\n",
        "GLYOX_p2 =Metabolite(\"GLYOX_p2\",formula=\"C2H1O3\", name= \"Glyoxylate\", compartment = \"p\", charge = \"-1\")\n",
        "NADH_p2 = model_3.metabolites.get_by_id(\"NADH_p2\")\n",
        "reaction13.add_metabolites({\n",
        "    GLYCOLLATE_p2: -1,\n",
        "    NAD_p2: -1,\n",
        "    GLYOX_p2: 1.0,\n",
        "    NADH_p2: 1.0\n",
        "})\n",
        "\n",
        "# adding reactions for Malate synthase for night\n",
        "reaction14 = Reaction('MALSYN_RXN_p2')\n",
        "reaction14.name = 'MALSYN_RXN_p2'\n",
        "reaction14.subsystem = 'glyoxyllate to malate'\n",
        "reaction14.lower_bound = 0\n",
        "reaction14.upper_bound = 1000\n",
        "WATER_p2 = model_3.metabolites.get_by_id(\"WATER_p2\")\n",
        "GLYOX_p2 =Metabolite(\"GLYOX_p2\",formula=\"C2H1O3\", name= \"Glyoxylate\", compartment = \"p\", charge = \"-1\")\n",
        "ACETYL_COA_p2 = model_3.metabolites.get_by_id(\"ACETYL_COA_p2\")\n",
        "MAL_p2 = model_3.metabolites.get_by_id(\"MAL_p2\")\n",
        "CO_A_p2 = model_3.metabolites.get_by_id(\"CO_A_p2\")\n",
        "PROTON_p2 = model_3.metabolites.get_by_id(\"PROTON_p2\")\n",
        "reaction14.add_metabolites({\n",
        "    WATER_p2: -1,\n",
        "    GLYOX_p2: -1,\n",
        "    ACETYL_COA_p2: -1,\n",
        "    MAL_p2: 1.0,\n",
        "    CO_A_p2: 1.0,\n",
        "    PROTON_p2: 1.0\n",
        "})\n",
        "\n",
        "\n",
        "reactions_to_add.extend([reaction11, reaction12,reaction13,reaction14])\n",
        "model_3.add_reactions(reactions_to_add)\n",
        "# print the reaction for checking the full reaction\n",
        "# print(reaction11)\n",
        "# print(reaction12)"
      ],
      "metadata": {
        "id": "Hx-tDTgzgt4z",
        "colab": {
          "base_uri": "https://localhost:8080/"
        },
        "outputId": "eb0d5ff2-3f05-48ba-d408-42bf5bf62389"
      },
      "execution_count": null,
      "outputs": [
        {
          "output_type": "stream",
          "name": "stdout",
          "text": [
            "RXN_GDH_p1: GLYCOLLATE_p1 + NAD_p1 --> GLYOX_p1 + NADH_p1\n",
            "MALSYN_RXN_p1: ACETYL_COA_p1 + GLYOX_p1 + WATER_p1 --> CO_A_p1 + MAL_p1 + PROTON_p1\n"
          ]
        }
      ]
    },
    {
      "cell_type": "markdown",
      "source": [
        "#Step:12 optimizing the model by pfba after updates"
      ],
      "metadata": {
        "id": "QQAlwPOzYUW7"
      }
    },
    {
      "cell_type": "code",
      "source": [
        "#run pfba and get summary\n",
        "solution3 = pfba(model_3)\n",
        "model_3"
      ],
      "metadata": {
        "id": "_RPVwy5IgxWT",
        "colab": {
          "base_uri": "https://localhost:8080/",
          "height": 186
        },
        "outputId": "dbcf5d04-72d9-40dc-9178-25d2d4d0ac04"
      },
      "execution_count": null,
      "outputs": [
        {
          "output_type": "execute_result",
          "data": {
            "text/plain": [
              "<Model PlantCoreMetabolism_v2_0_0 at 0x7c8758376ad0>"
            ],
            "text/html": [
              "\n",
              "        <table>\n",
              "            <tr>\n",
              "                <td><strong>Name</strong></td>\n",
              "                <td>PlantCoreMetabolism_v2_0_0</td>\n",
              "            </tr><tr>\n",
              "                <td><strong>Memory address</strong></td>\n",
              "                <td>7c8758376ad0</td>\n",
              "            </tr><tr>\n",
              "                <td><strong>Number of metabolites</strong></td>\n",
              "                <td>1771</td>\n",
              "            </tr><tr>\n",
              "                <td><strong>Number of reactions</strong></td>\n",
              "                <td>1878</td>\n",
              "            </tr><tr>\n",
              "                <td><strong>Number of genes</strong></td>\n",
              "                <td>0</td>\n",
              "            </tr><tr>\n",
              "                <td><strong>Number of groups</strong></td>\n",
              "                <td>208</td>\n",
              "            </tr><tr>\n",
              "                <td><strong>Objective expression</strong></td>\n",
              "                <td>1.0*diel_biomass - 1.0*diel_biomass_reverse_79408</td>\n",
              "            </tr><tr>\n",
              "                <td><strong>Compartments</strong></td>\n",
              "                <td>m1, c1, b1, p1, v1, x1, r1, mi1, mc1, e1, l1, i1, c2, v2, e2, x2, b2, p2, m2, mi2, i2, mc2, r2, l2, p</td>\n",
              "            </tr>\n",
              "          </table>"
            ]
          },
          "metadata": {},
          "execution_count": 26
        }
      ]
    },
    {
      "cell_type": "markdown",
      "source": [
        "#Step: 13 Checking the functionality of pathway\n",
        "Checking the functionality of AP3 by checking the fluxes through the newly added reactions"
      ],
      "metadata": {
        "id": "XpeBZLOzWGMc"
      }
    },
    {
      "cell_type": "code",
      "source": [
        "##Check the reaction fluxes involving pyurvate in plastid during the day\n",
        "met = model_3.metabolites.PYRUVATE_p1\n",
        "\n",
        "for rxn in met.reactions:\n",
        "  print(rxn.id+\"\\t\"+str(rxn.flux))"
      ],
      "metadata": {
        "id": "QrXk4r1EmNL4",
        "colab": {
          "base_uri": "https://localhost:8080/"
        },
        "outputId": "398d069a-dafa-480a-b4a3-f6eb41a57470"
      },
      "execution_count": null,
      "outputs": [
        {
          "output_type": "stream",
          "name": "stdout",
          "text": [
            "MALIC_NADP_RXN_p2\t0.0\n",
            "CYSTATHIONINE_BETA_LYASE_RXN_p2\t0.0\n",
            "ANTHRANSYN_RXN_p2\t0.0\n",
            "ACETOOHBUTSYN_RXN_p2\t0.0\n",
            "PYRUVATE_pc2\t-0.006033769558419601\n",
            "PYRUVDEH_RXN_p2\t0.001610199941953849\n",
            "DIHYDRODIPICSYN_RXN_p2\t0.0\n",
            "PYRUVATEORTHOPHOSPHATE_DIKINASE_RXN_p2\t0.0\n",
            "PEPDEPHOS_RXN_p2\t0.003131983999419367\n",
            "ACETOLACTSYN_RXN_p2\t0.003777776807942229\n",
            "HMBPP_synthesis_p2\t0.0\n"
          ]
        }
      ]
    },
    {
      "cell_type": "markdown",
      "source": [
        "Checking fluxes through biomass and Phloem_output reactions for understanding the effect of AP2"
      ],
      "metadata": {
        "id": "59l2q0ZqmVt5"
      }
    },
    {
      "cell_type": "code",
      "source": [
        "# Checking fluxes through biomass reaction\n",
        "rxn = model_3.reactions.get_by_id(\"diel_biomass\")\n",
        "print(rxn.flux)"
      ],
      "metadata": {
        "id": "tB-XvoCamA3X",
        "colab": {
          "base_uri": "https://localhost:8080/"
        },
        "outputId": "9d2cedf4-c080-40f4-eaa1-ee4451777aad"
      },
      "execution_count": null,
      "outputs": [
        {
          "output_type": "stream",
          "name": "stdout",
          "text": [
            "0.7818759487645678\n"
          ]
        }
      ]
    },
    {
      "cell_type": "code",
      "source": [
        "# Checking fluxes through biomass Phloem_output day\n",
        "rxn = model_3.reactions.get_by_id(\"Phloem_output_tx1\")\n",
        "print(rxn.flux)"
      ],
      "metadata": {
        "id": "CaJW54ormaMt",
        "colab": {
          "base_uri": "https://localhost:8080/"
        },
        "outputId": "7a67ed73-479e-4080-8a6d-e5521c73148b"
      },
      "execution_count": null,
      "outputs": [
        {
          "output_type": "stream",
          "name": "stdout",
          "text": [
            "2.345627846293703\n"
          ]
        }
      ]
    },
    {
      "cell_type": "markdown",
      "source": [
        "*   From the results, under AP3 or pathway 3, the cycle is not functional\n",
        "\n",
        "#Step:14 Force cycling of the pathway to make AP3 functional\n",
        "\n",
        "*   making the same flux for Malic enzyme reaction, pyruvate dehydogenase reaction and Malate synthase reaction"
      ],
      "metadata": {
        "id": "uuAh9illmfbO"
      }
    },
    {
      "cell_type": "code",
      "source": [
        "# making the reactions have the same flux to make the cycle\n",
        "model_3\n",
        "same_flux = model_3.problem.Constraint(\n",
        "    model_3.reactions.MALSYN_RXN_p1.flux_expression - model_3.reactions.MALIC_NADP_RXN_p1.flux_expression,\n",
        "    lb=0,\n",
        "    ub=0)\n",
        "same_flux.id=\"AP2_cons1\"\n",
        "model_3.add_cons_vars(same_flux)\n",
        "\n",
        "same_flux = model_3.problem.Constraint(\n",
        "    model_3.reactions.PYRUVDEH_RXN_p2.flux_expression - model_3.reactions.MALIC_NADP_RXN_p1.flux_expression,\n",
        "    lb=0,\n",
        "    ub=0)\n",
        "same_flux.id=\"AP2_cons2\"\n",
        "model_3.add_cons_vars(same_flux)"
      ],
      "metadata": {
        "id": "gRqxjyVZn6iP"
      },
      "execution_count": null,
      "outputs": []
    },
    {
      "cell_type": "markdown",
      "source": [
        "#Step:15 optimizing the model by pfba after updates"
      ],
      "metadata": {
        "id": "IfaoncopaNHb"
      }
    },
    {
      "cell_type": "code",
      "source": [
        "#run pfba and get summary\n",
        "solution3 = pfba(model_3)\n",
        "model_3"
      ],
      "metadata": {
        "id": "53FOtW0zpEDH",
        "colab": {
          "base_uri": "https://localhost:8080/",
          "height": 186
        },
        "outputId": "cadaf0b3-6927-45a3-c1cb-7f6fc117bfef"
      },
      "execution_count": null,
      "outputs": [
        {
          "output_type": "execute_result",
          "data": {
            "text/plain": [
              "<Model PlantCoreMetabolism_v2_0_0 at 0x7c8758376ad0>"
            ],
            "text/html": [
              "\n",
              "        <table>\n",
              "            <tr>\n",
              "                <td><strong>Name</strong></td>\n",
              "                <td>PlantCoreMetabolism_v2_0_0</td>\n",
              "            </tr><tr>\n",
              "                <td><strong>Memory address</strong></td>\n",
              "                <td>7c8758376ad0</td>\n",
              "            </tr><tr>\n",
              "                <td><strong>Number of metabolites</strong></td>\n",
              "                <td>1771</td>\n",
              "            </tr><tr>\n",
              "                <td><strong>Number of reactions</strong></td>\n",
              "                <td>1878</td>\n",
              "            </tr><tr>\n",
              "                <td><strong>Number of genes</strong></td>\n",
              "                <td>0</td>\n",
              "            </tr><tr>\n",
              "                <td><strong>Number of groups</strong></td>\n",
              "                <td>208</td>\n",
              "            </tr><tr>\n",
              "                <td><strong>Objective expression</strong></td>\n",
              "                <td>1.0*diel_biomass - 1.0*diel_biomass_reverse_79408</td>\n",
              "            </tr><tr>\n",
              "                <td><strong>Compartments</strong></td>\n",
              "                <td>m1, c1, b1, p1, v1, x1, r1, mi1, mc1, e1, l1, i1, c2, v2, e2, x2, b2, p2, m2, mi2, i2, mc2, r2, l2, p</td>\n",
              "            </tr>\n",
              "          </table>"
            ]
          },
          "metadata": {},
          "execution_count": 31
        }
      ]
    },
    {
      "cell_type": "markdown",
      "source": [
        "#Step:16 Checking the fluxes through reactions for comparison\n",
        "*   Checking the fluxes through the reactions for comparison\n",
        "*   Checking the biomass rection flux and phloem output fluxes\n"
      ],
      "metadata": {
        "id": "vvVa2CrNaWwz"
      }
    },
    {
      "cell_type": "code",
      "source": [
        "rxn = model_3.reactions.get_by_id(\"diel_biomass\")\n",
        "print(rxn.flux)"
      ],
      "metadata": {
        "id": "C1S2_rHypNzF",
        "colab": {
          "base_uri": "https://localhost:8080/"
        },
        "outputId": "ac1881f1-0991-4ee4-abee-34f721e6c882"
      },
      "execution_count": null,
      "outputs": [
        {
          "output_type": "stream",
          "name": "stdout",
          "text": [
            "0.4619398358474981\n"
          ]
        }
      ]
    },
    {
      "cell_type": "code",
      "source": [
        "rxn = model_3.reactions.get_by_id(\"Phloem_output_tx1\")\n",
        "print(rxn.flux)"
      ],
      "metadata": {
        "id": "tcJXrul0pTMN",
        "colab": {
          "base_uri": "https://localhost:8080/"
        },
        "outputId": "8af007bd-102e-4d9c-d07e-d6694d81927d"
      },
      "execution_count": null,
      "outputs": [
        {
          "output_type": "stream",
          "name": "stdout",
          "text": [
            "1.385819507542494\n"
          ]
        }
      ]
    },
    {
      "cell_type": "markdown",
      "source": [
        "#Step:17 Constraints to change Vc/Vo ratio\n",
        "\n",
        "*   These results suggest that the functionality of the cycle reduces the\n",
        "photosynthetic efficiency of the model\n",
        "*   For increasing the efficiency we tried to manipulate the Vc/Vo ratio by the following steps, there by tried to match the biomass and phloem_output to the C3_model\n",
        "*   Vc/Vo ratio defined in the model by Rubisco reaction, we applied a constraint to change the ratio"
      ],
      "metadata": {
        "id": "5NDHC134pcAH"
      }
    },
    {
      "cell_type": "code",
      "source": [
        "#creating a backup for making the updates and comparison\n",
        "backup_model3 = model_3.copy()\n",
        "Rubisco_balance = Metabolite(\"rubisco_bal_p1\", name = \"Weights to balance RuBP carboxygenase oxygenase balance\", compartment = \"p1\")\n",
        "rxn = backup_model3.reactions.get_by_id(\"RXN_961_p1\")\n",
        "rxn.add_metabolites({Rubisco_balance:3.5})\n",
        "print(rxn.reaction)\n",
        "solution3 = pfba(backup_model3)"
      ],
      "metadata": {
        "id": "lDuh45pdppc4",
        "colab": {
          "base_uri": "https://localhost:8080/"
        },
        "outputId": "546b9953-c8dc-4770-a5f9-a6098e4f678d"
      },
      "execution_count": null,
      "outputs": [
        {
          "output_type": "stream",
          "name": "stdout",
          "text": [
            "D_RIBULOSE_15_P2_p1 + OXYGEN_MOLECULE_p1 --> CPD_67_p1 + G3P_p1 + 2.0 PROTON_p1 + 6.5 rubisco_bal_p1\n"
          ]
        }
      ]
    },
    {
      "cell_type": "markdown",
      "source": [
        "#Step:18 Checking the results\n",
        "*   Checking flux through biomass reaction and phloem *output*"
      ],
      "metadata": {
        "id": "5QHRb6_Mpyg3"
      }
    },
    {
      "cell_type": "code",
      "source": [
        "rxn = backup_model3.reactions.get_by_id(\"diel_biomass\")\n",
        "print(rxn.flux)"
      ],
      "metadata": {
        "id": "qYyMshJvp5kn",
        "colab": {
          "base_uri": "https://localhost:8080/"
        },
        "outputId": "b6f16fe0-a40f-4881-f337-36ea158bcde3"
      },
      "execution_count": null,
      "outputs": [
        {
          "output_type": "stream",
          "name": "stdout",
          "text": [
            "0.8606067400347465\n"
          ]
        }
      ]
    },
    {
      "cell_type": "code",
      "source": [
        "rxn = backup_model3.reactions.get_by_id(\"Phloem_output_tx1\")\n",
        "print(rxn.flux)"
      ],
      "metadata": {
        "id": "Qvi-POvAp6YX",
        "colab": {
          "base_uri": "https://localhost:8080/"
        },
        "outputId": "a8250dba-ce9d-4c62-ec9d-5db33d55e04a"
      },
      "execution_count": null,
      "outputs": [
        {
          "output_type": "stream",
          "name": "stdout",
          "text": [
            "2.5818202201042393\n"
          ]
        }
      ]
    },
    {
      "cell_type": "markdown",
      "source": [
        "- From the results it suggest that we can achieve the higher photosynthetic efficiency by allowing this pathway with flexible Vc/Vo ratio\n",
        "- Since the pathway releasing more CO2 and changing the Vc/Vo ratio."
      ],
      "metadata": {
        "id": "vQlYCJRDbQkl"
      }
    },
    {
      "cell_type": "markdown",
      "source": [
        "# ***Part:3 Comparing results ***\n",
        "Comparing the different pathway results by checking the Biomass and phloem_output reaction fluxes\n",
        "\n",
        "###NOTE:\n",
        "*   C3_model represent the PlantCoreMetabolism model\n",
        "*   model_1 represent the model with pathway1\n",
        "*   model_2 represent the model with pathway2\n",
        "*   model_3 represent the model with pathway3\n",
        "\n",
        "\n"
      ],
      "metadata": {
        "id": "kUZ0zArxbYZ7"
      }
    },
    {
      "cell_type": "code",
      "source": [
        "#Checking the flux for biomass under different conditions\n",
        "rxn = C3_model.reactions.get_by_id(\"diel_biomass\")\n",
        "print(rxn.id+\"\\t\"+str(rxn.flux))\n",
        "rxn = model_1.reactions.get_by_id(\"diel_biomass\")\n",
        "print(rxn.id+\"\\t\"+str(rxn.flux))\n",
        "rxn = model_2.reactions.get_by_id(\"diel_biomass\")\n",
        "print(rxn.id+\"\\t\"+str(rxn.flux))\n",
        "rxn = backup_model2.reactions.get_by_id(\"diel_biomass\")\n",
        "print(rxn.id+\"\\t\"+str(rxn.flux))\n",
        "rxn = model_3.reactions.get_by_id(\"diel_biomass\")\n",
        "print(rxn.id+\"\\t\"+str(rxn.flux))\n",
        "rxn = backup_model3.reactions.get_by_id(\"diel_biomass\")\n",
        "print(rxn.id+\"\\t\"+str(rxn.flux))"
      ],
      "metadata": {
        "id": "9K6IKgitlyTj",
        "colab": {
          "base_uri": "https://localhost:8080/"
        },
        "outputId": "b18a8b55-fbe2-4a14-f509-43c591e16e09"
      },
      "execution_count": null,
      "outputs": [
        {
          "output_type": "stream",
          "name": "stdout",
          "text": [
            "diel_biomass\t0.8258313952247737\n",
            "diel_biomass\t1.3096037769153317\n",
            "diel_biomass\t0.3988097628865907\n",
            "diel_biomass\t0.8241606329205255\n",
            "diel_biomass\t0.4619398358474981\n",
            "diel_biomass\t0.8606067400347465\n"
          ]
        }
      ]
    },
    {
      "cell_type": "code",
      "source": [
        "#Checking the flux for phloem output under different conditions\n",
        "rxn = C3_model.reactions.get_by_id(\"Phloem_output_tx1\")\n",
        "print(rxn.id+\"\\t\"+str(rxn.flux))\n",
        "rxn = model_1.reactions.get_by_id(\"Phloem_output_tx1\")\n",
        "print(rxn.id+\"\\t\"+str(rxn.flux))\n",
        "rxn = model_2.reactions.get_by_id(\"Phloem_output_tx1\")\n",
        "print(rxn.id+\"\\t\"+str(rxn.flux))\n",
        "rxn = backup_model2.reactions.get_by_id(\"Phloem_output_tx1\")\n",
        "print(rxn.id+\"\\t\"+str(rxn.flux))\n",
        "rxn = model_3.reactions.get_by_id(\"Phloem_output_tx1\")\n",
        "print(rxn.id+\"\\t\"+str(rxn.flux))\n",
        "rxn = backup_model3.reactions.get_by_id(\"Phloem_output_tx1\")\n",
        "print(rxn.id+\"\\t\"+str(rxn.flux))"
      ],
      "metadata": {
        "id": "v8zfOF5UhKJU",
        "colab": {
          "base_uri": "https://localhost:8080/"
        },
        "outputId": "27f59fb4-263f-4a56-8cc4-bd4864bb971a"
      },
      "execution_count": null,
      "outputs": [
        {
          "output_type": "stream",
          "name": "stdout",
          "text": [
            "Phloem_output_tx1\t2.477494185674321\n",
            "Phloem_output_tx1\t3.928811330745994\n",
            "Phloem_output_tx1\t1.196429288659772\n",
            "Phloem_output_tx1\t2.4724818987615764\n",
            "Phloem_output_tx1\t1.385819507542494\n",
            "Phloem_output_tx1\t2.5818202201042393\n"
          ]
        }
      ]
    },
    {
      "cell_type": "markdown",
      "source": [
        "###Inference:\n",
        "*   From the results it suggest that we can achieve the higher photosynthetic efficiency by allowing this pathway with flexible Vc/Vo ratio\n",
        "*   AP3 showed maximum photosynthetic efficiency which is similar to the observation from [South et al.,2019](https://www.science.org/doi/10.1126/science.aat9077)\n",
        "\n"
      ],
      "metadata": {
        "id": "uWVlTj2gcFtj"
      }
    }
  ]
}