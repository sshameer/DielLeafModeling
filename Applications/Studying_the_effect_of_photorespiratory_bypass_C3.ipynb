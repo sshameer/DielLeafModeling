{
  "nbformat": 4,
  "nbformat_minor": 0,
  "metadata": {
    "colab": {
      "provenance": [],
      "toc_visible": true
    },
    "kernelspec": {
      "name": "python3",
      "display_name": "Python 3"
    },
    "language_info": {
      "name": "python"
    }
  },
  "cells": [
    {
      "cell_type": "markdown",
      "source": [
        "# **Exploring different photorespiratory bypass in C3 diel leaf model**"
      ],
      "metadata": {
        "id": "REctRqPG38gH"
      }
    },
    {
      "cell_type": "markdown",
      "source": [
        "In this part, we will discuss how FBA could be helpful for metabolic engineering. A recent study by [South et al.,2019](https://www.science.org/doi/10.1126/science.aat9077) explained three different photorespiratory bypasses in field-grown tobacco. In this exercise, we applied the three pathways to the PlantCoreMetabolism model and analysed the results for photosynthetic efficiency.\n",
        "\n",
        "NOTE:\n",
        "\n",
        "*   AP1 from the study represented as Pathway1 in this colab\n",
        "*   AP2 from the study represented as Pathway2 in this colab\n",
        "*   AP3 from the study represented as Pathway3 in this colab\n",
        "\n"
      ],
      "metadata": {
        "id": "y9tjRZCBtT9g"
      }
    },
    {
      "cell_type": "markdown",
      "source": [
        "#  **Part 1: Setting up the C3 diel leaf model**"
      ],
      "metadata": {
        "id": "lVxk_7NpFh35"
      }
    },
    {
      "cell_type": "markdown",
      "source": [
        "## Step 1: Install cobrapy and retrieve C3 model\n",
        "\n",
        "\n",
        "*   Run `%pip install cobra` to install cobrapy\n",
        "*   Use wget using the syntax `!wget link-to-file` to retrieve the models and functions required for this analysis"
      ],
      "metadata": {
        "id": "J5CPj-4yfL_V"
      }
    },
    {
      "cell_type": "code",
      "execution_count": 1,
      "metadata": {
        "id": "mQWxc2FVfAE_"
      },
      "outputs": [],
      "source": [
        "%pip install cobra --quiet\n",
        "!wget -q https://github.com/sshameer/DielLeafModeling/raw/refs/heads/main/Models/C3_model.sbml"
      ]
    },
    {
      "cell_type": "markdown",
      "source": [
        "## Step 2: Read sbml model and perform pFBA\n",
        "\n",
        "*   A cobra model can be generated from an SBML file using the` read_sbml_model`\n",
        "function in the cobrapy io module\n",
        "*   The syntax is `model_name = read_sbml_model(file_name)`\n",
        "*   pFBA can be performed using the pfba package in the cobrapy `flux_analysis` module"
      ],
      "metadata": {
        "id": "A4yasBSlldfD"
      }
    },
    {
      "cell_type": "code",
      "source": [
        "#import model\n",
        "from cobra.io import read_sbml_model\n",
        "C3_model = read_sbml_model(\"C3_model.sbml\")\n",
        "from cobra.flux_analysis import pfba"
      ],
      "metadata": {
        "id": "k6VDfreufYiL"
      },
      "execution_count": 2,
      "outputs": []
    },
    {
      "cell_type": "markdown",
      "source": [
        "## Step 3: Constraining the diel C3 leaf nodel\n",
        "*   GPT transport reaction and starch phosphorylation are constraining.\n",
        "*   Use the syntax `model_name.reactions.get_by_id` to get the reaction from the model\n",
        "*   PPFD and and photon uptake defined as 500\n",
        "*   Maintenanace cost is defined according the reference of [Töpfer et al.,2020](https://doi.org/10.1105/tpc.20.00132)\n",
        "*   Sucrose transport reaction from day to night is blocked by setting the bounds to zero\n",
        "\n",
        "\n"
      ],
      "metadata": {
        "id": "w6JQts8v0dZh"
      }
    },
    {
      "cell_type": "code",
      "source": [
        "# constraining GPT transport reaction\n",
        "C3_model.reactions.get_by_id(\"G6P_Pi_pc1\").lower_bound= 0\n",
        "C3_model.reactions.get_by_id(\"G6P_Pi_pc1\").upper_bound= 0\n",
        "C3_model.reactions.get_by_id(\"G6P_Pi_pc2\").lower_bound= 0\n",
        "C3_model.reactions.get_by_id(\"G6P_Pi_pc2\").upper_bound= 0\n",
        "# constraining starch phosphorylation\n",
        "C3_model.reactions.get_by_id(\"RXN_1826_p1\").lower_bound= 0\n",
        "C3_model.reactions.get_by_id(\"RXN_1826_p1\").upper_bound= 0\n",
        "C3_model.reactions.get_by_id(\"RXN_1826_p2\").lower_bound= 0\n",
        "C3_model.reactions.get_by_id(\"RXN_1826_p2\").upper_bound= 0\n",
        "\n",
        "# Setting photon uptake\n",
        "PPFD = 500\n",
        "C3_model.reactions.Photon_tx1.upper_bound = PPFD\n",
        "C3_model.reactions.Photon_tx1.lower_bound = 0\n",
        "# Setting maintenance cost\n",
        "VATPase = 0.0049*PPFD+2.7851  # Töpfer et al.,2020\n",
        "C3_model.reactions.get_by_id(\"ATPase_tx1\").bounds = (VATPase,VATPase)\n",
        "# constraining sucrose accumulation to model a starch storing leaf\n",
        "C3_model.reactions.get_by_id(\"SUCROSE_v_dielTransfer\").bounds = (0,0)\n"
      ],
      "metadata": {
        "id": "q-yek7tBfoeT"
      },
      "execution_count": 3,
      "outputs": []
    },
    {
      "cell_type": "markdown",
      "source": [
        "## Step 4: Optimization of model using pfba\n",
        "\n",
        "*   pfba can be performed by using the syntax `solution_name = pfba(model_name)`\n",
        "*   The solution object has an attribute fluxes which containts a dictionary of all fluxes\n",
        "*   Use the syntax for checking the summary `model_name.summary()` of the model after optimization"
      ],
      "metadata": {
        "id": "3mKznqngEFHg"
      }
    },
    {
      "cell_type": "code",
      "source": [
        "#run pfba and get summary\n",
        "solution = pfba(C3_model)\n",
        "C3_model.summary()"
      ],
      "metadata": {
        "id": "erSOGAW3frhj",
        "colab": {
          "base_uri": "https://localhost:8080/",
          "height": 566
        },
        "outputId": "833ee86f-041f-47b4-c40f-1ada5f663cde"
      },
      "execution_count": 4,
      "outputs": [
        {
          "output_type": "execute_result",
          "data": {
            "text/plain": [
              "<cobra.summary.model_summary.ModelSummary at 0x791bdd12c690>"
            ],
            "text/html": [
              "<h3>Objective</h3><p>1.0 diel_biomass = 0.8258313952247737</p><h4>Uptake</h4><table border=\"1\" class=\"dataframe\">\n",
              "  <thead>\n",
              "    <tr style=\"text-align: right;\">\n",
              "      <th>Metabolite</th>\n",
              "      <th>Reaction</th>\n",
              "      <th>Flux</th>\n",
              "      <th>C-Number</th>\n",
              "      <th>C-Flux</th>\n",
              "    </tr>\n",
              "  </thead>\n",
              "  <tbody>\n",
              "    <tr>\n",
              "      <td>CARBON_DIOXIDE_e1</td>\n",
              "      <td>CO2_tx1</td>\n",
              "      <td>35.14</td>\n",
              "      <td>1</td>\n",
              "      <td>100.00%</td>\n",
              "    </tr>\n",
              "    <tr>\n",
              "      <td>WATER_e1</td>\n",
              "      <td>H2O_tx1</td>\n",
              "      <td>31.55</td>\n",
              "      <td>0</td>\n",
              "      <td>0.00%</td>\n",
              "    </tr>\n",
              "    <tr>\n",
              "      <td>NITRATE_e1</td>\n",
              "      <td>Nitrate_tx1</td>\n",
              "      <td>0.2171</td>\n",
              "      <td>0</td>\n",
              "      <td>0.00%</td>\n",
              "    </tr>\n",
              "    <tr>\n",
              "      <td>NITRATE_e2</td>\n",
              "      <td>Nitrate_tx2</td>\n",
              "      <td>0.1447</td>\n",
              "      <td>0</td>\n",
              "      <td>0.00%</td>\n",
              "    </tr>\n",
              "    <tr>\n",
              "      <td>OXYGEN_MOLECULE_e2</td>\n",
              "      <td>O2_tx2</td>\n",
              "      <td>2.023</td>\n",
              "      <td>0</td>\n",
              "      <td>0.00%</td>\n",
              "    </tr>\n",
              "    <tr>\n",
              "      <td>Photon_e1</td>\n",
              "      <td>Photon_tx1</td>\n",
              "      <td>500</td>\n",
              "      <td>0</td>\n",
              "      <td>0.00%</td>\n",
              "    </tr>\n",
              "    <tr>\n",
              "      <td>SULFATE_e1</td>\n",
              "      <td>SO4_tx1</td>\n",
              "      <td>0.002766</td>\n",
              "      <td>0</td>\n",
              "      <td>0.00%</td>\n",
              "    </tr>\n",
              "    <tr>\n",
              "      <td>PROTON_c1</td>\n",
              "      <td>unlProtHYPO_c1</td>\n",
              "      <td>0.3151</td>\n",
              "      <td>0</td>\n",
              "      <td>0.00%</td>\n",
              "    </tr>\n",
              "  </tbody>\n",
              "</table><h4>Secretion</h4><table border=\"1\" class=\"dataframe\">\n",
              "  <thead>\n",
              "    <tr style=\"text-align: right;\">\n",
              "      <th>Metabolite</th>\n",
              "      <th>Reaction</th>\n",
              "      <th>Flux</th>\n",
              "      <th>C-Number</th>\n",
              "      <th>C-Flux</th>\n",
              "    </tr>\n",
              "  </thead>\n",
              "  <tbody>\n",
              "    <tr>\n",
              "      <td>CARBON_DIOXIDE_e2</td>\n",
              "      <td>CO2_tx2</td>\n",
              "      <td>-1.846</td>\n",
              "      <td>1</td>\n",
              "      <td>100.00%</td>\n",
              "    </tr>\n",
              "    <tr>\n",
              "      <td>WATER_e2</td>\n",
              "      <td>H2O_tx2</td>\n",
              "      <td>-0.9264</td>\n",
              "      <td>0</td>\n",
              "      <td>0.00%</td>\n",
              "    </tr>\n",
              "    <tr>\n",
              "      <td>OXYGEN_MOLECULE_e1</td>\n",
              "      <td>O2_tx1</td>\n",
              "      <td>-36.01</td>\n",
              "      <td>0</td>\n",
              "      <td>0.00%</td>\n",
              "    </tr>\n",
              "  </tbody>\n",
              "</table>"
            ]
          },
          "metadata": {},
          "execution_count": 4
        }
      ]
    },
    {
      "cell_type": "markdown",
      "source": [
        "# **Part 2: Checking alternative photorespiratory pathways one by one**"
      ],
      "metadata": {
        "id": "7pIPsSerF3eR"
      }
    },
    {
      "cell_type": "markdown",
      "source": [
        "## Step 1: Appying Pathway 1 to a copy of the C3 diel leaf model\n",
        "Pathway 1 represents AP1 in [South et al.,2019](https://www.science.org/doi/10.1126/science.aat9077) study. The enzymes glycolate dehydrogenase, glyoxylate carboligase and tartronic semialdehyde reductase make this pathway.\n",
        "*   Making a copy of C3 model to apply AP1\n",
        "*   To copy a cobra object using the `object.copy()` function\n",
        "*   made a copy of C3 model for AP1 using the syntax `model_1 = C3_model.copy()`\n"
      ],
      "metadata": {
        "id": "TBsoUT2Jfy6D"
      }
    },
    {
      "cell_type": "code",
      "source": [
        "# Making a copy of C3_model for AP1\n",
        "model_1 = C3_model.copy()\n",
        "\n",
        "# Disabling the  existing photorespiration pathway before allowing the alternate pathway by applying the following constraints\n",
        "model_1.reactions.get_by_id(\"GLYCOLLATE_pc1\").bounds = (0,0)\n",
        "model_1.reactions.get_by_id(\"GLYCERATE_GLYCOLLATE_pc1\").bounds = (0,0)\n",
        "model_1.reactions.get_by_id(\"Glycolate_xc1\").bounds = (0,0)"
      ],
      "metadata": {
        "id": "Byr_ei55fseM"
      },
      "execution_count": 22,
      "outputs": []
    },
    {
      "cell_type": "markdown",
      "source": [
        "-  **Next,  reactions representing AP1 need to be added to the model**\n",
        "*   creating an open list by using `reactions_to_add = []`.\n",
        "*   Add the reactions in AP1 to both day and night\n",
        "*   adding the reaction list to the model by `reactions_to_add.extend([R1,R2,R3...])` and `model_name.add_reactions(reactions_to_add)`\n",
        "\n"
      ],
      "metadata": {
        "id": "F0MSuO8B2upI"
      }
    },
    {
      "cell_type": "code",
      "source": [
        "# adding reactions for glycolate oxidase\n",
        "from cobra import Model, Reaction, Metabolite\n",
        "# Create a list to hold reactions\n",
        "reactions_to_add = []\n",
        "\n",
        "reaction1 = Reaction('RXN_GDH_p1')\n",
        "reaction1.name = 'RXN_GDH_p1'\n",
        "reaction1.subsystem = 'glycolate to glyoxyllate by NAD'\n",
        "reaction1.lower_bound = 0\n",
        "reaction1.upper_bound = 1000\n",
        "GLYCOLLATE_p1 = model_1.metabolites.get_by_id(\"GLYCOLLATE_p1\")\n",
        "NAD_p1 = model_1.metabolites.get_by_id(\"NAD_p1\")\n",
        "GLYOX_p1 =Metabolite(\"GLYOX_p1\",formula=\"C2H1O3\", name= \"Glyoxylate\", compartment = \"p\", charge = \"-1\")\n",
        "NADH_p1 = model_1.metabolites.get_by_id(\"NADH_p1\")\n",
        "reaction1.add_metabolites({\n",
        "    GLYCOLLATE_p1: -1,\n",
        "    NAD_p1: -1,\n",
        "    GLYOX_p1: 1.0,\n",
        "    NADH_p1: 1.0\n",
        "})\n",
        "reaction2 = Reaction('GCL_RXN_p1')\n",
        "reaction2.name = 'GCL_RXN_p1'\n",
        "reaction2.subsystem = 'glyoxyllate to TARTRONIC SEMIALDEHYDE'\n",
        "reaction2.lower_bound = 0\n",
        "reaction2.upper_bound = 1000\n",
        "GLYOX_p1 =Metabolite(\"GLYOX_p1\",formula=\"C2H1O3\", name= \"Glyoxylate\", compartment = \"p\", charge = \"-1\")\n",
        "PROTON_p1 = model_1.metabolites.get_by_id(\"PROTON_p1\")\n",
        "TARTRONIC_SEMIALDEHYDE_p1 = Metabolite(\"TARTRONIC_SEMIALDEHYDE_p1\",formula=\"C3H3O4\", name= \"TARTRONIC_SEMIALDEHYDE\", compartment = \"p\", charge = \"-1\")\n",
        "CARBON_DIOXIDE_p1 = model_1.metabolites.get_by_id(\"CARBON_DIOXIDE_p1\")\n",
        "reaction2.add_metabolites({\n",
        "    GLYOX_p1: -1,\n",
        "    PROTON_p1: -1,\n",
        "    TARTRONIC_SEMIALDEHYDE_p1: 1.0,\n",
        "    CARBON_DIOXIDE_p1: 1.0,\n",
        "})\n",
        "reaction3 = Reaction('RXN_TSR_p1')\n",
        "reaction3.name = 'RXN_TSR_p1'\n",
        "reaction3.subsystem = 'TARTRONIC SEMIALDEHYDE to glycerate'\n",
        "reaction3.lower_bound = -1000\n",
        "reaction3.upper_bound = 1000\n",
        "TARTRONIC_SEMIALDEHYDE_p1 = Metabolite(\"TARTRONIC_SEMIALDEHYDE_p1\",formula=\"C3H3O4\", name= \"TARTRONIC_SEMIALDEHYDE\", compartment = \"p\", charge = \"-1\")\n",
        "NADH_p1 = model_1.metabolites.get_by_id(\"NADH_p1\")\n",
        "NAD_p1 = model_1.metabolites.get_by_id(\"NAD_p1\")\n",
        "GLYCERATE_p1 = model_1.metabolites.get_by_id(\"GLYCERATE_p1\")\n",
        "reaction3.add_metabolites({\n",
        "    TARTRONIC_SEMIALDEHYDE_p1: -1,\n",
        "    NADH_p1: -1,\n",
        "    GLYCERATE_p1: 1.0,\n",
        "    NAD_p1: 1.0,\n",
        "})\n",
        "\n",
        "# adding reactions for glycolate dehydrogenase for night\n",
        "reaction4 = Reaction('RXN_GDH_p2')\n",
        "reaction4.name = 'RXN_GDH_p2'\n",
        "reaction4.subsystem = 'glycolate to glyoxyllate by NAD'\n",
        "reaction4.lower_bound = 0\n",
        "reaction4.upper_bound = 1000\n",
        "GLYCOLLATE_p2 = model_1.metabolites.get_by_id(\"GLYCOLLATE_p2\")\n",
        "NAD_p2 = model_1.metabolites.get_by_id(\"NAD_p2\")\n",
        "GLYOX_p2 = Metabolite(\"GLYOX_p2\", formula=\"C2H1O3\", name=\"Glyoxylate\", compartment=\"p\", charge=-1)\n",
        "NADH_p2 = model_1.metabolites.get_by_id(\"NADH_p2\")\n",
        "reaction4.add_metabolites({\n",
        "    GLYCOLLATE_p2: -1,\n",
        "    NAD_p2: -1,\n",
        "    GLYOX_p2: 1.0,\n",
        "    NADH_p2: 1.0\n",
        "})\n",
        "\n",
        "# adding reactions for tartronate-semialdehyde synthase for night\n",
        "reaction5 = Reaction('GCL_RXN_p2')\n",
        "reaction5.name = 'GCL_RXN_p2'\n",
        "reaction5.subsystem = 'glyoxyllate to TARTRONIC SEMIALDEHYDE'\n",
        "reaction5.lower_bound = 0\n",
        "reaction5.upper_bound = 1000\n",
        "GLYOX_p2 =Metabolite(\"GLYOX_p2\",formula=\"C2H1O3\", name= \"Glyoxylate\", compartment = \"p\", charge = \"-1\")\n",
        "PROTON_p2 = model_1.metabolites.get_by_id(\"PROTON_p2\")\n",
        "TARTRONIC_SEMIALDEHYDE_p2 = Metabolite(\"TARTRONIC_SEMIALDEHYDE_p2\",formula=\"C3H3O4\", name= \"TARTRONIC_SEMIALDEHYDE\", compartment = \"p\", charge = \"-1\")\n",
        "CARBON_DIOXIDE_p2 = model_1.metabolites.get_by_id(\"CARBON_DIOXIDE_p2\")\n",
        "reaction5.add_metabolites({\n",
        "    GLYOX_p2: -1,\n",
        "    PROTON_p2: -1,\n",
        "    TARTRONIC_SEMIALDEHYDE_p2: 1.0,\n",
        "    CARBON_DIOXIDE_p2: 1.0,\n",
        "})\n",
        "\n",
        "# adding reactions for tartronate-semialdehyde reductase for night\n",
        "reaction6 = Reaction('RXN_TSR_p2')\n",
        "reaction6.name = 'RXN_TSR_p2'\n",
        "reaction6.subsystem = 'TARTRONIC SEMIALDEHYDE to glycerate'\n",
        "reaction6.lower_bound = -1000\n",
        "reaction6.upper_bound = 1000\n",
        "TARTRONIC_SEMIALDEHYDE_p2 = Metabolite(\"TARTRONIC_SEMIALDEHYDE_p2\",formula=\"C3H3O4\", name= \"TARTRONIC_SEMIALDEHYDE\", compartment = \"p\", charge = \"-1\")\n",
        "NADH_p2 = model_1.metabolites.get_by_id(\"NADH_p2\")\n",
        "NAD_p2 = model_1.metabolites.get_by_id(\"NAD_p2\")\n",
        "GLYCERATE_p2 = model_1.metabolites.get_by_id(\"GLYCERATE_p2\")\n",
        "reaction6.add_metabolites({\n",
        "    TARTRONIC_SEMIALDEHYDE_p2: -1,\n",
        "    NADH_p2: -1,\n",
        "    GLYCERATE_p2: 1.0,\n",
        "    NAD_p2: 1.0,\n",
        "})\n",
        "reactions_to_add.extend([reaction1,reaction2,reaction3, reaction4, reaction5, reaction6])\n",
        "model_1.add_reactions(reactions_to_add)\n",
        "# print the reaction for checking the full reaction\n",
        "# print(reaction1)"
      ],
      "metadata": {
        "id": "oQWJJ4xpf2eT"
      },
      "execution_count": 23,
      "outputs": []
    },
    {
      "cell_type": "markdown",
      "source": [
        "-  Confirm the model has a feasible solution after updates to the model"
      ],
      "metadata": {
        "id": "Hg6NW_I6LKj5"
      }
    },
    {
      "cell_type": "code",
      "source": [
        "# run pfba and get summary\n",
        "solution1 = pfba(model_1)\n",
        "model_1.summary()"
      ],
      "metadata": {
        "id": "MiKaVZkHf5WD",
        "colab": {
          "base_uri": "https://localhost:8080/",
          "height": 566
        },
        "outputId": "30dc1d08-0774-47dd-d9a6-747e5b54aa62"
      },
      "execution_count": 24,
      "outputs": [
        {
          "output_type": "execute_result",
          "data": {
            "text/plain": [
              "<cobra.summary.model_summary.ModelSummary at 0x791bd338e0d0>"
            ],
            "text/html": [
              "<h3>Objective</h3><p>1.0 diel_biomass = 1.3096037769153317</p><h4>Uptake</h4><table border=\"1\" class=\"dataframe\">\n",
              "  <thead>\n",
              "    <tr style=\"text-align: right;\">\n",
              "      <th>Metabolite</th>\n",
              "      <th>Reaction</th>\n",
              "      <th>Flux</th>\n",
              "      <th>C-Number</th>\n",
              "      <th>C-Flux</th>\n",
              "    </tr>\n",
              "  </thead>\n",
              "  <tbody>\n",
              "    <tr>\n",
              "      <td>CARBON_DIOXIDE_e1</td>\n",
              "      <td>CO2_tx1</td>\n",
              "      <td>27.46</td>\n",
              "      <td>1</td>\n",
              "      <td>100.00%</td>\n",
              "    </tr>\n",
              "    <tr>\n",
              "      <td>WATER_e1</td>\n",
              "      <td>H2O_tx1</td>\n",
              "      <td>35.59</td>\n",
              "      <td>0</td>\n",
              "      <td>0.00%</td>\n",
              "    </tr>\n",
              "    <tr>\n",
              "      <td>NITRATE_e1</td>\n",
              "      <td>Nitrate_tx1</td>\n",
              "      <td>0.3442</td>\n",
              "      <td>0</td>\n",
              "      <td>0.00%</td>\n",
              "    </tr>\n",
              "    <tr>\n",
              "      <td>NITRATE_e2</td>\n",
              "      <td>Nitrate_tx2</td>\n",
              "      <td>0.2295</td>\n",
              "      <td>0</td>\n",
              "      <td>0.00%</td>\n",
              "    </tr>\n",
              "    <tr>\n",
              "      <td>OXYGEN_MOLECULE_e2</td>\n",
              "      <td>O2_tx2</td>\n",
              "      <td>2.203</td>\n",
              "      <td>0</td>\n",
              "      <td>0.00%</td>\n",
              "    </tr>\n",
              "    <tr>\n",
              "      <td>Photon_e1</td>\n",
              "      <td>Photon_tx1</td>\n",
              "      <td>500</td>\n",
              "      <td>0</td>\n",
              "      <td>0.00%</td>\n",
              "    </tr>\n",
              "    <tr>\n",
              "      <td>SULFATE_e1</td>\n",
              "      <td>SO4_tx1</td>\n",
              "      <td>0.004386</td>\n",
              "      <td>0</td>\n",
              "      <td>0.00%</td>\n",
              "    </tr>\n",
              "    <tr>\n",
              "      <td>PROTON_c1</td>\n",
              "      <td>unlProtHYPO_c1</td>\n",
              "      <td>14.22</td>\n",
              "      <td>0</td>\n",
              "      <td>0.00%</td>\n",
              "    </tr>\n",
              "  </tbody>\n",
              "</table><h4>Secretion</h4><table border=\"1\" class=\"dataframe\">\n",
              "  <thead>\n",
              "    <tr style=\"text-align: right;\">\n",
              "      <th>Metabolite</th>\n",
              "      <th>Reaction</th>\n",
              "      <th>Flux</th>\n",
              "      <th>C-Number</th>\n",
              "      <th>C-Flux</th>\n",
              "    </tr>\n",
              "  </thead>\n",
              "  <tbody>\n",
              "    <tr>\n",
              "      <td>CARBON_DIOXIDE_e2</td>\n",
              "      <td>CO2_tx2</td>\n",
              "      <td>-2.12</td>\n",
              "      <td>1</td>\n",
              "      <td>100.00%</td>\n",
              "    </tr>\n",
              "    <tr>\n",
              "      <td>WATER_e2</td>\n",
              "      <td>H2O_tx2</td>\n",
              "      <td>-0.7468</td>\n",
              "      <td>0</td>\n",
              "      <td>0.00%</td>\n",
              "    </tr>\n",
              "    <tr>\n",
              "      <td>OXYGEN_MOLECULE_e1</td>\n",
              "      <td>O2_tx1</td>\n",
              "      <td>-42.37</td>\n",
              "      <td>0</td>\n",
              "      <td>0.00%</td>\n",
              "    </tr>\n",
              "  </tbody>\n",
              "</table>"
            ]
          },
          "metadata": {},
          "execution_count": 24
        }
      ]
    },
    {
      "cell_type": "markdown",
      "source": [
        "## Step 2: Appying Pathway 2 to the C3 diel leaf model\n",
        "\n",
        "Pathway 2 represents AP2 in [South et al.,2019](https://www.science.org/doi/10.1126/science.aat9077) study. The enzymes glycolate oxidase, malate synthase and catalase make this pathway.\n",
        "*   Making a copy of C3 model to apply AP2\n",
        "*   Made the copy of C3 model for AP2 by using the syntax `model_2 = C3_model.copy()`"
      ],
      "metadata": {
        "id": "ka9byT7IgQZb"
      }
    },
    {
      "cell_type": "code",
      "source": [
        "#Making a copy of C3_model for AP2\n",
        "model_2 = C3_model.copy()\n",
        "\n",
        "# Disabling the  existing photorespiration pathway before allowing the alternate pathway by applying the following constraints\n",
        "model_2.reactions.get_by_id(\"GLYCOLLATE_pc1\").bounds = (0,0)\n",
        "model_2.reactions.get_by_id(\"GLYCERATE_GLYCOLLATE_pc1\").bounds = (0,0)\n",
        "model_2.reactions.get_by_id(\"Glycolate_xc1\").bounds = (0,0)"
      ],
      "metadata": {
        "id": "GqXqp7ylgNaz"
      },
      "execution_count": 8,
      "outputs": []
    },
    {
      "cell_type": "markdown",
      "source": [
        "*  **Next, reactions required for AP2 are added to the model**\n",
        "*   creating an open list by using `reactions_to_add = []`.\n",
        "*   Add the reactions in AP2 to both day and night\n",
        "*   adding the reaction list to the model by `reactions_to_add.extend([R7,R8,R9...])` and `model_name.add_reactions(reactions_to_add)`\n"
      ],
      "metadata": {
        "id": "PjwFik2d3Z7I"
      }
    },
    {
      "cell_type": "code",
      "source": [
        "\n",
        "from cobra import Model, Reaction, Metabolite\n",
        "# Create a list to hold reactions\n",
        "reactions_to_add = []\n",
        "\n",
        "# adding reactions for glycolate oxidase for day\n",
        "reaction7 = Reaction('RXN_969_p1')\n",
        "reaction7.name = 'RXN_969_p1'\n",
        "reaction7.subsystem = 'glycolate to glyoxyllate'\n",
        "reaction7.lower_bound = 0\n",
        "reaction7.upper_bound = 1000\n",
        "GLYCOLLATE_p1 = model_2.metabolites.get_by_id(\"GLYCOLLATE_p1\")\n",
        "OXYGEN_MOLECULE_p1 = model_2.metabolites.get_by_id(\"OXYGEN_MOLECULE_p1\")\n",
        "GLYOX_p1 =Metabolite(\"GLYOX_p1\",formula=\"C2H1O3\", name= \"Glyoxylate\", compartment = \"p\", charge = \"-1\")\n",
        "HYDROGEN_PEROXIDE_p1 = model_2.metabolites.get_by_id(\"HYDROGEN_PEROXIDE_p1\")\n",
        "reaction7.add_metabolites({\n",
        "    GLYCOLLATE_p1: -1,\n",
        "    OXYGEN_MOLECULE_p1: -1,\n",
        "    GLYOX_p1: 1.0,\n",
        "    HYDROGEN_PEROXIDE_p1: 1.0\n",
        "})\n",
        "\n",
        "# adding reactions for Malate synthase for day\n",
        "reaction8 = Reaction('MALSYN_RXN_p1')\n",
        "reaction8.name = 'MALSYN_RXN_p1'\n",
        "reaction8.subsystem = 'glyoxyllate to malate'\n",
        "reaction8.lower_bound = 0\n",
        "reaction8.upper_bound = 1000\n",
        "WATER_p1 = model_2.metabolites.get_by_id(\"WATER_p1\")\n",
        "GLYOX_p1 =Metabolite(\"GLYOX_p1\",formula=\"C2H1O3\", name= \"Glyoxylate\", compartment = \"p\", charge = \"-1\")\n",
        "ACETYL_COA_p1 = model_2.metabolites.get_by_id(\"ACETYL_COA_p1\")\n",
        "MAL_p1 = model_2.metabolites.get_by_id(\"MAL_p1\")\n",
        "CO_A_p1 = model_2.metabolites.get_by_id(\"CO_A_p1\")\n",
        "PROTON_p1 = model_2.metabolites.get_by_id(\"PROTON_p1\")\n",
        "reaction8.add_metabolites({\n",
        "    WATER_p1: -1,\n",
        "    GLYOX_p1: -1,\n",
        "    ACETYL_COA_p1: -1,\n",
        "    MAL_p1: 1.0,\n",
        "    CO_A_p1: 1.0,\n",
        "    PROTON_p1: 1.0\n",
        "})\n",
        "\n",
        "# adding reactions for glycolate oxidase for night\n",
        "reaction9 = Reaction('RXN_969_p2')\n",
        "reaction9.name = 'RXN_969_p2'\n",
        "reaction9.subsystem = 'glycolate to glyoxyllate'\n",
        "reaction9.lower_bound = 0\n",
        "reaction9.upper_bound = 1000\n",
        "GLYCOLLATE_p2 = model_2.metabolites.get_by_id(\"GLYCOLLATE_p2\")\n",
        "OXYGEN_MOLECULE_p2 = model_2.metabolites.get_by_id(\"OXYGEN_MOLECULE_p2\")\n",
        "GLYOX_p2 =Metabolite(\"GLYOX_p2\",formula=\"C2H1O3\", name= \"Glyoxylate\", compartment = \"p\", charge = \"-1\")\n",
        "HYDROGEN_PEROXIDE_p2 = model_2.metabolites.get_by_id(\"HYDROGEN_PEROXIDE_p2\")\n",
        "reaction9.add_metabolites({\n",
        "    GLYCOLLATE_p2: -1,\n",
        "    OXYGEN_MOLECULE_p2: -1,\n",
        "    GLYOX_p2: 1.0,\n",
        "    HYDROGEN_PEROXIDE_p2: 1.0\n",
        "})\n",
        "\n",
        "# adding reactions for Malate synthase for night\n",
        "reaction10 = Reaction('MALSYN_RXN_p2')\n",
        "reaction10.name = 'MALSYN_RXN_p2'\n",
        "reaction10.subsystem = 'glyoxyllate to malate'\n",
        "reaction10.lower_bound = 0\n",
        "reaction10.upper_bound = 1000\n",
        "WATER_p2 = model_2.metabolites.get_by_id(\"WATER_p2\")\n",
        "GLYOX_p2 =Metabolite(\"GLYOX_p2\",formula=\"C2H1O3\", name= \"Glyoxylate\", compartment = \"p\", charge = \"-1\")\n",
        "ACETYL_COA_p2 = model_2.metabolites.get_by_id(\"ACETYL_COA_p2\")\n",
        "MAL_p2 = model_2.metabolites.get_by_id(\"MAL_p2\")\n",
        "CO_A_p2 = model_2.metabolites.get_by_id(\"CO_A_p2\")\n",
        "PROTON_p2 = model_2.metabolites.get_by_id(\"PROTON_p2\")\n",
        "reaction10.add_metabolites({\n",
        "    WATER_p2: -1,\n",
        "    GLYOX_p2: -1,\n",
        "    ACETYL_COA_p2: -1,\n",
        "    MAL_p2: 1.0,\n",
        "    CO_A_p2: 1.0,\n",
        "    PROTON_p2: 1.0\n",
        "})\n",
        "reactions_to_add.extend([reaction7, reaction8,reaction9,reaction10])\n",
        "model_2.add_reactions(reactions_to_add)\n",
        "# print the reaction for checking the full reaction\n",
        "# print(reaction7)"
      ],
      "metadata": {
        "id": "KyWDepC7gW9i"
      },
      "execution_count": 9,
      "outputs": []
    },
    {
      "cell_type": "markdown",
      "source": [
        "- Confirm the model has a feasible solution after updates to the model"
      ],
      "metadata": {
        "id": "6H6R7qvkOo3K"
      }
    },
    {
      "cell_type": "code",
      "source": [
        "#run pfba and get summary\n",
        "solution2 = pfba(model_2)\n",
        "model_2.summary()"
      ],
      "metadata": {
        "id": "v3IUjRmFgZOL",
        "colab": {
          "base_uri": "https://localhost:8080/",
          "height": 190
        },
        "outputId": "828a48a8-119b-42b4-9089-0171e583de85"
      },
      "execution_count": 10,
      "outputs": [
        {
          "output_type": "execute_result",
          "data": {
            "text/plain": [
              "<Model PlantCoreMetabolism_v2_0_0 at 0x791bdbd7b2d0>"
            ],
            "text/html": [
              "\n",
              "        <table>\n",
              "            <tr>\n",
              "                <td><strong>Name</strong></td>\n",
              "                <td>PlantCoreMetabolism_v2_0_0</td>\n",
              "            </tr><tr>\n",
              "                <td><strong>Memory address</strong></td>\n",
              "                <td>791bdbd7b2d0</td>\n",
              "            </tr><tr>\n",
              "                <td><strong>Number of metabolites</strong></td>\n",
              "                <td>1771</td>\n",
              "            </tr><tr>\n",
              "                <td><strong>Number of reactions</strong></td>\n",
              "                <td>1878</td>\n",
              "            </tr><tr>\n",
              "                <td><strong>Number of genes</strong></td>\n",
              "                <td>0</td>\n",
              "            </tr><tr>\n",
              "                <td><strong>Number of groups</strong></td>\n",
              "                <td>208</td>\n",
              "            </tr><tr>\n",
              "                <td><strong>Objective expression</strong></td>\n",
              "                <td>1.0*diel_biomass - 1.0*diel_biomass_reverse_79408</td>\n",
              "            </tr><tr>\n",
              "                <td><strong>Compartments</strong></td>\n",
              "                <td>m1, c1, b1, p1, v1, x1, r1, mi1, mc1, e1, l1, i1, c2, v2, e2, x2, b2, p2, m2, mi2, i2, mc2, r2, l2, p</td>\n",
              "            </tr>\n",
              "          </table>"
            ]
          },
          "metadata": {},
          "execution_count": 10
        }
      ]
    },
    {
      "cell_type": "markdown",
      "source": [
        "- **Confirm if AP2 reactions are active in the model**\n",
        "\n",
        "\n"
      ],
      "metadata": {
        "id": "WouZ-eAMizhI"
      }
    },
    {
      "cell_type": "code",
      "source": [
        "for rxn in [\"RXN_969_p1\",\"MALSYN_RXN_p1\",\"MALIC_NADP_RXN_p1\",\"PYRUVDEH_RXN_p2\"]:\n",
        "  rxn = model_2.reactions.get_by_id(rxn)\n",
        "  print(rxn.reaction+\"\\t\"+str(rxn.flux))\n"
      ],
      "metadata": {
        "id": "0saMcWevjMrg",
        "colab": {
          "base_uri": "https://localhost:8080/"
        },
        "outputId": "66d91005-b889-428a-ca7d-c2871ff97e9f"
      },
      "execution_count": 11,
      "outputs": [
        {
          "output_type": "stream",
          "name": "stdout",
          "text": [
            "GLYCOLLATE_p1 + OXYGEN_MOLECULE_p1 --> GLYOX_p1 + HYDROGEN_PEROXIDE_p1\t11.588391077513924\n",
            "ACETYL_COA_p1 + GLYOX_p1 + WATER_p1 --> CO_A_p1 + MAL_p1 + PROTON_p1\t11.588391077513922\n",
            "MAL_p1 + NADP_p1 --> CARBON_DIOXIDE_p1 + NADPH_p1 + PYRUVATE_p1\t0.0\n",
            "CO_A_p2 + NAD_p2 + PYRUVATE_p2 --> ACETYL_COA_p2 + CARBON_DIOXIDE_p2 + NADH_p2\t0.0013859208583673224\n"
          ]
        }
      ]
    },
    {
      "cell_type": "markdown",
      "source": [
        "*   From the results, under AP2 or pathway 2, the cycle is not functional\n",
        "\n",
        "* **make AP2 functional**\n",
        "\n",
        "*  Additional constraints can be used to force flux though Malic enzyme reaction, pyruvate dehydogenase reaction and Malate synthase reaction\n",
        "- To constrain two fluxes to be equal, the following syntax can be used\n",
        "```\n",
        "same_flux = model.problem.Constraint(\n",
        "    REACTION1.flux_expression - REACTION2.flux_expression,\n",
        "    lb=0,\n",
        "    ub=0)\n",
        "same_flux.id=\"CONSTRAITN_ID\"\n",
        "model.add_cons_vars(same_flux)\n",
        "```"
      ],
      "metadata": {
        "id": "6fu0vLvzjxqP"
      }
    },
    {
      "cell_type": "code",
      "source": [
        "#making the same flux for the reaction to make the cycle\n",
        "same_flux = model_2.problem.Constraint(\n",
        "    model_2.reactions.MALSYN_RXN_p1.flux_expression - model_2.reactions.MALIC_NADP_RXN_p1.flux_expression,\n",
        "    lb=0,\n",
        "    ub=0)\n",
        "same_flux.id=\"AP2_cons1\"\n",
        "model_2.add_cons_vars(same_flux)\n",
        "\n",
        "same_flux = model_2.problem.Constraint(\n",
        "    model_2.reactions.PYRUVDEH_RXN_p2.flux_expression - model_2.reactions.MALIC_NADP_RXN_p1.flux_expression,\n",
        "    lb=0,\n",
        "    ub=0)\n",
        "same_flux.id=\"AP2_cons2\"\n",
        "model_2.add_cons_vars(same_flux)"
      ],
      "metadata": {
        "id": "9f9TD2pYkNEX"
      },
      "execution_count": 14,
      "outputs": []
    },
    {
      "cell_type": "markdown",
      "source": [
        "- Confirm the model has a feasible solution after updates to the model\n",
        "- And confirm AP2 reactions are active"
      ],
      "metadata": {
        "id": "jHsB6KTRUozS"
      }
    },
    {
      "cell_type": "code",
      "source": [
        "#run pfba and get summary\n",
        "solution2 = pfba(model_2)\n",
        "for rxn in [\"RXN_969_p1\",\"MALSYN_RXN_p1\",\"MALIC_NADP_RXN_p1\",\"PYRUVDEH_RXN_p2\"]:\n",
        "  rxn = model_2.reactions.get_by_id(rxn)\n",
        "  print(rxn.reaction+\"\\t\"+str(rxn.flux))"
      ],
      "metadata": {
        "id": "e5qCUbRzkS5m",
        "colab": {
          "base_uri": "https://localhost:8080/"
        },
        "outputId": "11042b72-b9dd-48a1-f3a3-a747a941c722"
      },
      "execution_count": 15,
      "outputs": [
        {
          "output_type": "stream",
          "name": "stdout",
          "text": [
            "GLYCOLLATE_p1 + OXYGEN_MOLECULE_p1 --> GLYOX_p1 + HYDROGEN_PEROXIDE_p1\t11.135949611267147\n",
            "ACETYL_COA_p1 + GLYOX_p1 + WATER_p1 --> CO_A_p1 + MAL_p1 + PROTON_p1\t11.135949611267144\n",
            "MAL_p1 + NADP_p1 --> CARBON_DIOXIDE_p1 + NADPH_p1 + PYRUVATE_p1\t11.135949611267144\n",
            "CO_A_p2 + NAD_p2 + PYRUVATE_p2 --> ACETYL_COA_p2 + CARBON_DIOXIDE_p2 + NADH_p2\t11.135949611267144\n"
          ]
        }
      ]
    },
    {
      "cell_type": "markdown",
      "source": [
        "- Evaluating performance of AP2 with respect to the WT\n",
        "\n",
        "\n",
        "\n",
        "\n",
        "\n",
        "\n",
        "\n",
        "\n"
      ],
      "metadata": {
        "id": "cZ04hJ9_Uxlb"
      }
    },
    {
      "cell_type": "code",
      "source": [
        "AP2objective = model_2.reactions.get_by_id(\"diel_biomass\")\n",
        "WTobjective = C3_model.reactions.get_by_id(\"diel_biomass\")\n",
        "print(\"Efficiency of AP2 with respect to WT: \"+str(AP2objective.flux/WTobjective.flux))"
      ],
      "metadata": {
        "id": "qCQd3cEYkrw2",
        "colab": {
          "base_uri": "https://localhost:8080/"
        },
        "outputId": "684a9bf4-c599-4018-8d11-0187eb5e415a"
      },
      "execution_count": 45,
      "outputs": [
        {
          "output_type": "stream",
          "name": "stdout",
          "text": [
            "Efficiency of AP2 with respect to WT: 0.48291911059889314\n"
          ]
        }
      ]
    },
    {
      "cell_type": "markdown",
      "source": [
        "*   These results suggest that the functionality of the AP2 reduces the\n",
        "photosynthetic efficiency of the model\n",
        "*   However, it should be noted that in AP2, the decarboxylation reaction can result in increasing Vc/Vo\n",
        "*   Vc/Vo in the system is gradually increased until the system with active AP2 becomes more efficient the WT"
      ],
      "metadata": {
        "id": "4xJ6GN_gWfkT"
      }
    },
    {
      "cell_type": "code",
      "source": [
        "#creating a backup for making the updates and comparison\n",
        "backup_model2 = model_2.copy()\n",
        "Rubisco_balance = backup_model2.metabolites.get_by_id(\"rubisco_bal_p1\")\n",
        "rxn = backup_model2.reactions.get_by_id(\"RXN_961_p1\")\n",
        "i = 0\n",
        "while AP2objective.flux < WTobjective.flux:\n",
        "  i = i+0.5\n",
        "  # print(i)\n",
        "  rxn.add_metabolites({Rubisco_balance:0.5})\n",
        "  tempsol = pfba(backup_model2)\n",
        "  AP2objective = backup_model2.reactions.get_by_id(\"diel_biomass\")\n",
        "  print(\"Current Vc/Vo : \"+str(rxn.metabolites[Rubisco_balance]))\n",
        "  print(\"Efficiency of AP2 with respect to WT: \"+str(AP2objective.flux/WTobjective.flux))\n",
        "  print(\"----\")\n",
        "# optimizing the model after the updation\n",
        "solution2 = pfba(backup_model2)"
      ],
      "metadata": {
        "id": "_9QyAaBck2uf",
        "colab": {
          "base_uri": "https://localhost:8080/"
        },
        "outputId": "b6232ab6-c9b8-4f28-826e-3fee82fe2df8"
      },
      "execution_count": 37,
      "outputs": [
        {
          "output_type": "stream",
          "name": "stdout",
          "text": [
            "Current Vc/Vo : 3.5\n",
            "Efficiency of AP2 with respect to WT: 0.5878686461696565\n",
            "----\n",
            "Current Vc/Vo : 4.0\n",
            "Efficiency of AP2 with respect to WT: 0.675406048791666\n",
            "----\n",
            "Current Vc/Vo : 4.5\n",
            "Efficiency of AP2 with respect to WT: 0.7495027872467924\n",
            "----\n",
            "Current Vc/Vo : 5.0\n",
            "Efficiency of AP2 with respect to WT: 0.8129710569043948\n",
            "----\n",
            "Current Vc/Vo : 5.5\n",
            "Efficiency of AP2 with respect to WT: 0.8683420879639149\n",
            "----\n",
            "Current Vc/Vo : 6.0\n",
            "Efficiency of AP2 with respect to WT: 0.9169687573757425\n",
            "----\n",
            "Current Vc/Vo : 6.5\n",
            "Efficiency of AP2 with respect to WT: 0.9598609925436901\n",
            "----\n",
            "Current Vc/Vo : 7.0\n",
            "Efficiency of AP2 with respect to WT: 0.9979768723810933\n",
            "----\n",
            "Current Vc/Vo : 7.5\n",
            "Efficiency of AP2 with respect to WT: 1.0320720411816093\n",
            "----\n"
          ]
        }
      ]
    },
    {
      "cell_type": "markdown",
      "source": [
        "**Based on our simulations, a minumum Vc/Vo of 7.5 is required for the metabolic efficiency of AP2 to be higher than WT leaves**"
      ],
      "metadata": {
        "id": "bfoq-APCdSZV"
      }
    },
    {
      "cell_type": "markdown",
      "source": [
        "## Step 3: Appying Pathway 3 to the C3 diel leaf model\n",
        "\n",
        "Pathway 3 represents AP3 in [South et al.,2019](https://www.science.org/doi/10.1126/science.aat9077) study. The enzymes glycolate dehydrogenase, malate synthase  make this pathway.\n",
        "*   Making a copy of C3 model to apply AP3\n",
        "*   Made the copy of C3 model for AP3 by using the syntax `model_3 = C3_model.copy()`"
      ],
      "metadata": {
        "id": "lbJODEhHgpBL"
      }
    },
    {
      "cell_type": "code",
      "source": [
        "# Making a copy of C3_model for AP3\n",
        "model_3 = C3_model.copy()\n",
        "\n",
        "# Disabling the  existing photorespiration pathway before allowing the alternate pathway by applying the following constraints\n",
        "model_3.reactions.get_by_id(\"GLYCOLLATE_pc1\").bounds = (0,0)\n",
        "model_3.reactions.get_by_id(\"GLYCERATE_GLYCOLLATE_pc1\").bounds = (0,0)\n",
        "model_3.reactions.get_by_id(\"Glycolate_xc1\").bounds = (0,0)"
      ],
      "metadata": {
        "id": "gMbCECRtgl5i"
      },
      "execution_count": 39,
      "outputs": []
    },
    {
      "cell_type": "markdown",
      "source": [
        "* **Next, reactions required for AP3 are added to the model**\n",
        "*   creating an open list by using `reactions_to_add = []`.\n",
        "*   Add the reactions in AP3 to both day and night\n",
        "*   adding the reaction list to the model by `reactions_to_add.extend([R11,R12,R13...])` and `model_name.add_reactions(reactions_to_add)`"
      ],
      "metadata": {
        "id": "zexr8Gm5WAEk"
      }
    },
    {
      "cell_type": "code",
      "source": [
        "\n",
        "from cobra import Model, Reaction, Metabolite\n",
        "# Create a list to hold reactions\n",
        "reactions_to_add = []\n",
        "\n",
        "# adding reactions for glycolate dehydrogenase for day\n",
        "reaction11 = Reaction('RXN_GDH_p1')\n",
        "reaction11.name = 'RXN_GDH_p1'\n",
        "reaction11.subsystem = 'glycolate to glyoxyllate by NAD'\n",
        "reaction11.lower_bound = 0\n",
        "reaction11.upper_bound = 1000\n",
        "GLYCOLLATE_p1 = model_3.metabolites.get_by_id(\"GLYCOLLATE_p1\")\n",
        "NAD_p1 = model_3.metabolites.get_by_id(\"NAD_p1\")\n",
        "GLYOX_p1 =Metabolite(\"GLYOX_p1\",formula=\"C2H1O3\", name= \"Glyoxylate\", compartment = \"p\", charge = \"-1\")\n",
        "NADH_p1 = model_3.metabolites.get_by_id(\"NADH_p1\")\n",
        "reaction11.add_metabolites({\n",
        "    GLYCOLLATE_p1: -1,\n",
        "    NAD_p1: -1,\n",
        "    GLYOX_p1: 1.0,\n",
        "    NADH_p1: 1.0\n",
        "})\n",
        "\n",
        "# adding reactions for Malate synthase for day\n",
        "reaction12 = Reaction('MALSYN_RXN_p1')\n",
        "reaction12.name = 'MALSYN_RXN_p1'\n",
        "reaction12.subsystem = 'glyoxyllate to malate'\n",
        "reaction12.lower_bound = 0\n",
        "reaction12.upper_bound = 1000\n",
        "WATER_p1 = model_3.metabolites.get_by_id(\"WATER_p1\")\n",
        "GLYOX_p1 =Metabolite(\"GLYOX_p1\",formula=\"C2H1O3\", name= \"Glyoxylate\", compartment = \"p\", charge = \"-1\")\n",
        "ACETYL_COA_p1 = model_3.metabolites.get_by_id(\"ACETYL_COA_p1\")\n",
        "MAL_p1 = model_3.metabolites.get_by_id(\"MAL_p1\")\n",
        "CO_A_p1 = model_3.metabolites.get_by_id(\"CO_A_p1\")\n",
        "PROTON_p1 = model_3.metabolites.get_by_id(\"PROTON_p1\")\n",
        "reaction12.add_metabolites({\n",
        "    WATER_p1: -1,\n",
        "    GLYOX_p1: -1,\n",
        "    ACETYL_COA_p1: -1,\n",
        "    MAL_p1: 1.0,\n",
        "    CO_A_p1: 1.0,\n",
        "    PROTON_p1: 1.0\n",
        "})\n",
        "\n",
        "# adding reactions for glycolate dehydrogenase for night\n",
        "reaction13 = Reaction('RXN_GDH_p2')\n",
        "reaction13.name = 'RXN_GDH_p2'\n",
        "reaction13.subsystem = 'glycolate to glyoxyllate by NAD'\n",
        "reaction13.lower_bound = 0\n",
        "reaction13.upper_bound = 1000\n",
        "GLYCOLLATE_p2 = model_3.metabolites.get_by_id(\"GLYCOLLATE_p2\")\n",
        "NAD_p2 = model_3.metabolites.get_by_id(\"NAD_p2\")\n",
        "GLYOX_p2 =Metabolite(\"GLYOX_p2\",formula=\"C2H1O3\", name= \"Glyoxylate\", compartment = \"p\", charge = \"-1\")\n",
        "NADH_p2 = model_3.metabolites.get_by_id(\"NADH_p2\")\n",
        "reaction13.add_metabolites({\n",
        "    GLYCOLLATE_p2: -1,\n",
        "    NAD_p2: -1,\n",
        "    GLYOX_p2: 1.0,\n",
        "    NADH_p2: 1.0\n",
        "})\n",
        "\n",
        "# adding reactions for Malate synthase for night\n",
        "reaction14 = Reaction('MALSYN_RXN_p2')\n",
        "reaction14.name = 'MALSYN_RXN_p2'\n",
        "reaction14.subsystem = 'glyoxyllate to malate'\n",
        "reaction14.lower_bound = 0\n",
        "reaction14.upper_bound = 1000\n",
        "WATER_p2 = model_3.metabolites.get_by_id(\"WATER_p2\")\n",
        "GLYOX_p2 =Metabolite(\"GLYOX_p2\",formula=\"C2H1O3\", name= \"Glyoxylate\", compartment = \"p\", charge = \"-1\")\n",
        "ACETYL_COA_p2 = model_3.metabolites.get_by_id(\"ACETYL_COA_p2\")\n",
        "MAL_p2 = model_3.metabolites.get_by_id(\"MAL_p2\")\n",
        "CO_A_p2 = model_3.metabolites.get_by_id(\"CO_A_p2\")\n",
        "PROTON_p2 = model_3.metabolites.get_by_id(\"PROTON_p2\")\n",
        "reaction14.add_metabolites({\n",
        "    WATER_p2: -1,\n",
        "    GLYOX_p2: -1,\n",
        "    ACETYL_COA_p2: -1,\n",
        "    MAL_p2: 1.0,\n",
        "    CO_A_p2: 1.0,\n",
        "    PROTON_p2: 1.0\n",
        "})\n",
        "\n",
        "\n",
        "reactions_to_add.extend([reaction11, reaction12,reaction13,reaction14])\n",
        "model_3.add_reactions(reactions_to_add)\n",
        "# print the reaction for checking the full reaction\n",
        "# print(reaction11)\n",
        "# print(reaction12)"
      ],
      "metadata": {
        "id": "Hx-tDTgzgt4z"
      },
      "execution_count": 40,
      "outputs": []
    },
    {
      "cell_type": "markdown",
      "source": [
        "- Confirm the model has a feasible solution after updates to the model"
      ],
      "metadata": {
        "id": "QQAlwPOzYUW7"
      }
    },
    {
      "cell_type": "code",
      "source": [
        "#run pfba and get summary\n",
        "solution3 = pfba(model_3)\n",
        "model_3.summary()"
      ],
      "metadata": {
        "id": "_RPVwy5IgxWT",
        "colab": {
          "base_uri": "https://localhost:8080/",
          "height": 566
        },
        "outputId": "06848e83-cd05-4e4d-a1ae-40ac2c617af4"
      },
      "execution_count": 41,
      "outputs": [
        {
          "output_type": "execute_result",
          "data": {
            "text/plain": [
              "<cobra.summary.model_summary.ModelSummary at 0x791bcffbbc10>"
            ],
            "text/html": [
              "<h3>Objective</h3><p>1.0 diel_biomass = 0.781875948764555</p><h4>Uptake</h4><table border=\"1\" class=\"dataframe\">\n",
              "  <thead>\n",
              "    <tr style=\"text-align: right;\">\n",
              "      <th>Metabolite</th>\n",
              "      <th>Reaction</th>\n",
              "      <th>Flux</th>\n",
              "      <th>C-Number</th>\n",
              "      <th>C-Flux</th>\n",
              "    </tr>\n",
              "  </thead>\n",
              "  <tbody>\n",
              "    <tr>\n",
              "      <td>CARBON_DIOXIDE_e1</td>\n",
              "      <td>CO2_tx1</td>\n",
              "      <td>33.36</td>\n",
              "      <td>1</td>\n",
              "      <td>100.00%</td>\n",
              "    </tr>\n",
              "    <tr>\n",
              "      <td>WATER_e1</td>\n",
              "      <td>H2O_tx1</td>\n",
              "      <td>29.95</td>\n",
              "      <td>0</td>\n",
              "      <td>0.00%</td>\n",
              "    </tr>\n",
              "    <tr>\n",
              "      <td>NITRATE_e1</td>\n",
              "      <td>Nitrate_tx1</td>\n",
              "      <td>0.2055</td>\n",
              "      <td>0</td>\n",
              "      <td>0.00%</td>\n",
              "    </tr>\n",
              "    <tr>\n",
              "      <td>NITRATE_e2</td>\n",
              "      <td>Nitrate_tx2</td>\n",
              "      <td>0.137</td>\n",
              "      <td>0</td>\n",
              "      <td>0.00%</td>\n",
              "    </tr>\n",
              "    <tr>\n",
              "      <td>OXYGEN_MOLECULE_e2</td>\n",
              "      <td>O2_tx2</td>\n",
              "      <td>2.005</td>\n",
              "      <td>0</td>\n",
              "      <td>0.00%</td>\n",
              "    </tr>\n",
              "    <tr>\n",
              "      <td>Photon_e1</td>\n",
              "      <td>Photon_tx1</td>\n",
              "      <td>500</td>\n",
              "      <td>0</td>\n",
              "      <td>0.00%</td>\n",
              "    </tr>\n",
              "    <tr>\n",
              "      <td>SULFATE_e1</td>\n",
              "      <td>SO4_tx1</td>\n",
              "      <td>0.002619</td>\n",
              "      <td>0</td>\n",
              "      <td>0.00%</td>\n",
              "    </tr>\n",
              "    <tr>\n",
              "      <td>PROTON_c1</td>\n",
              "      <td>unlProtHYPO_c1</td>\n",
              "      <td>13.65</td>\n",
              "      <td>0</td>\n",
              "      <td>0.00%</td>\n",
              "    </tr>\n",
              "  </tbody>\n",
              "</table><h4>Secretion</h4><table border=\"1\" class=\"dataframe\">\n",
              "  <thead>\n",
              "    <tr style=\"text-align: right;\">\n",
              "      <th>Metabolite</th>\n",
              "      <th>Reaction</th>\n",
              "      <th>Flux</th>\n",
              "      <th>C-Number</th>\n",
              "      <th>C-Flux</th>\n",
              "    </tr>\n",
              "  </thead>\n",
              "  <tbody>\n",
              "    <tr>\n",
              "      <td>CARBON_DIOXIDE_e2</td>\n",
              "      <td>CO2_tx2</td>\n",
              "      <td>-1.838</td>\n",
              "      <td>1</td>\n",
              "      <td>100.00%</td>\n",
              "    </tr>\n",
              "    <tr>\n",
              "      <td>WATER_e2</td>\n",
              "      <td>H2O_tx2</td>\n",
              "      <td>-0.9526</td>\n",
              "      <td>0</td>\n",
              "      <td>0.00%</td>\n",
              "    </tr>\n",
              "    <tr>\n",
              "      <td>OXYGEN_MOLECULE_e1</td>\n",
              "      <td>O2_tx1</td>\n",
              "      <td>-34.18</td>\n",
              "      <td>0</td>\n",
              "      <td>0.00%</td>\n",
              "    </tr>\n",
              "  </tbody>\n",
              "</table>"
            ]
          },
          "metadata": {},
          "execution_count": 41
        }
      ]
    },
    {
      "cell_type": "markdown",
      "source": [
        "- **Confirm if AP3 reactions are active in the model**"
      ],
      "metadata": {
        "id": "XpeBZLOzWGMc"
      }
    },
    {
      "cell_type": "code",
      "source": [
        "for rxn in [\"RXN_GDH_p1\",\"MALSYN_RXN_p1\",\"MALIC_NADP_RXN_p1\",\"PYRUVDEH_RXN_p2\"]:\n",
        "  rxn = model_3.reactions.get_by_id(rxn)\n",
        "  print(rxn.reaction+\"\\t\"+str(rxn.flux))\n"
      ],
      "metadata": {
        "id": "QrXk4r1EmNL4",
        "colab": {
          "base_uri": "https://localhost:8080/"
        },
        "outputId": "ea79ed88-3382-44ea-cb1e-1b3c5276b0e6"
      },
      "execution_count": 43,
      "outputs": [
        {
          "output_type": "stream",
          "name": "stdout",
          "text": [
            "GLYCOLLATE_p1 + NAD_p1 --> GLYOX_p1 + NADH_p1\t13.355154312407569\n",
            "ACETYL_COA_p1 + GLYOX_p1 + WATER_p1 --> CO_A_p1 + MAL_p1 + PROTON_p1\t13.35515431240757\n",
            "MAL_p1 + NADP_p1 --> CARBON_DIOXIDE_p1 + NADPH_p1 + PYRUVATE_p1\t0.0\n",
            "CO_A_p2 + NAD_p2 + PYRUVATE_p2 --> ACETYL_COA_p2 + CARBON_DIOXIDE_p2 + NADH_p2\t0.0016101999419538223\n"
          ]
        }
      ]
    },
    {
      "cell_type": "markdown",
      "source": [
        "*   From the results, under AP3 or pathway 3, the cycle is not functional\n",
        "\n",
        "* **make AP3 functional**\n",
        "\n",
        "*  Additional constraints can be used to force flux though Malic enzyme reaction, pyruvate dehydogenase reaction and Malate synthase reaction\n",
        "- To constrain two fluxes to be equal, the following syntax can be used\n",
        "```\n",
        "same_flux = model.problem.Constraint(\n",
        "    REACTION1.flux_expression - REACTION2.flux_expression,\n",
        "    lb=0,\n",
        "    ub=0)\n",
        "same_flux.id=\"CONSTRAITN_ID\"\n",
        "model.add_cons_vars(same_flux)\n",
        "```"
      ],
      "metadata": {
        "id": "uuAh9illmfbO"
      }
    },
    {
      "cell_type": "code",
      "source": [
        "# making the reactions have the same flux to make the cycle\n",
        "model_3\n",
        "same_flux = model_3.problem.Constraint(\n",
        "    model_3.reactions.MALSYN_RXN_p1.flux_expression - model_3.reactions.MALIC_NADP_RXN_p1.flux_expression,\n",
        "    lb=0,\n",
        "    ub=0)\n",
        "same_flux.id=\"AP2_cons1\"\n",
        "model_3.add_cons_vars(same_flux)\n",
        "\n",
        "same_flux = model_3.problem.Constraint(\n",
        "    model_3.reactions.PYRUVDEH_RXN_p2.flux_expression - model_3.reactions.MALIC_NADP_RXN_p1.flux_expression,\n",
        "    lb=0,\n",
        "    ub=0)\n",
        "same_flux.id=\"AP2_cons2\"\n",
        "model_3.add_cons_vars(same_flux)"
      ],
      "metadata": {
        "id": "gRqxjyVZn6iP"
      },
      "execution_count": 44,
      "outputs": []
    },
    {
      "cell_type": "markdown",
      "source": [
        "- Evaluating performance of AP3 with respect to the WT"
      ],
      "metadata": {
        "id": "IfaoncopaNHb"
      }
    },
    {
      "cell_type": "code",
      "source": [
        "AP3objective = model_3.reactions.get_by_id(\"diel_biomass\")\n",
        "WTobjective = C3_model.reactions.get_by_id(\"diel_biomass\")\n",
        "print(\"Efficiency of AP2 with respect to WT: \"+str(AP2objective.flux/WTobjective.flux))"
      ],
      "metadata": {
        "id": "53FOtW0zpEDH",
        "colab": {
          "base_uri": "https://localhost:8080/"
        },
        "outputId": "531ce70a-f1e4-4361-d34e-c2c2caac52b5"
      },
      "execution_count": 50,
      "outputs": [
        {
          "output_type": "stream",
          "name": "stdout",
          "text": [
            "Efficiency of AP2 with respect to WT: 1.0320720411816093\n"
          ]
        }
      ]
    },
    {
      "cell_type": "markdown",
      "source": [
        "*   These results suggest that the functionality of the AP3 reduces the\n",
        "photosynthetic efficiency of the model\n",
        "*   However, it should be noted that in AP3, the decarboxylation reaction can result in increasing Vc/Vo\n",
        "*   Vc/Vo in the system is gradually increased until the system with active AP3 becomes more efficient the WT\n"
      ],
      "metadata": {
        "id": "vvVa2CrNaWwz"
      }
    },
    {
      "cell_type": "code",
      "source": [
        "#creating a backup for making the updates and comparison\n",
        "backup_model3 = model_3.copy()\n",
        "Rubisco_balance = backup_model3.metabolites.get_by_id(\"rubisco_bal_p1\")\n",
        "rxn = backup_model3.reactions.get_by_id(\"RXN_961_p1\")\n",
        "i = 0\n",
        "while AP3objective.flux < WTobjective.flux:\n",
        "  i = i+0.5\n",
        "  # print(i)\n",
        "  rxn.add_metabolites({Rubisco_balance:0.5})\n",
        "  tempsol = pfba(backup_model3)\n",
        "  AP3objective = backup_model3.reactions.get_by_id(\"diel_biomass\")\n",
        "  print(\"Current Vc/Vo : \"+str(rxn.metabolites[Rubisco_balance]))\n",
        "  print(\"Efficiency of AP3 with respect to WT: \"+str(AP3objective.flux/WTobjective.flux))\n",
        "  print(\"----\")\n",
        "# optimizing the model after the updation\n",
        "solution2 = pfba(backup_model2)"
      ],
      "metadata": {
        "id": "C1S2_rHypNzF",
        "colab": {
          "base_uri": "https://localhost:8080/"
        },
        "outputId": "9c2aef33-4b81-4a4d-efaf-9a03a76a221f"
      },
      "execution_count": 51,
      "outputs": [
        {
          "output_type": "stream",
          "name": "stdout",
          "text": [
            "Current Vc/Vo : 3.5\n",
            "Efficiency of AP3 with respect to WT: 0.6704475515379033\n",
            "----\n",
            "Current Vc/Vo : 4.0\n",
            "Efficiency of AP3 with respect to WT: 0.7607954956887667\n",
            "----\n",
            "Current Vc/Vo : 4.5\n",
            "Efficiency of AP3 with respect to WT: 0.83569629470339\n",
            "----\n",
            "Current Vc/Vo : 5.0\n",
            "Efficiency of AP3 with respect to WT: 0.8995165190200004\n",
            "----\n",
            "Current Vc/Vo : 5.5\n",
            "Efficiency of AP3 with respect to WT: 0.9540005735389936\n",
            "----\n",
            "Current Vc/Vo : 6.0\n",
            "Efficiency of AP3 with respect to WT: 1.001057691757499\n",
            "----\n"
          ]
        }
      ]
    },
    {
      "cell_type": "markdown",
      "source": [
        "**Based on our simulations, a minumum Vc/Vo of 6 is required for the metabolic efficiency of AP3 to be higher than WT leaves**"
      ],
      "metadata": {
        "id": "dTfETuUhg29R"
      }
    },
    {
      "cell_type": "markdown",
      "source": [
        "# Inference:\n",
        "*   FBA studies on photorespiratory bypasses in the diel leaf model suggests that AP1 is the most efficient photorespiratory bypass. Diel leaf models with AP2 and AP3 requires CO2 concentration effects to result in Vc/Vc of 7.5 and 6, respectively.\n",
        "*   It should be noted that [South et al.,2019](https://www.science.org/doi/10.1126/science.aat9077) reports best performance in AP3 lines. Highlighting the need to include additional constraints in the model (or employ hybrid modeling) to improve accuracy of the model.\n",
        "\n"
      ],
      "metadata": {
        "id": "uWVlTj2gcFtj"
      }
    },
    {
      "cell_type": "code",
      "source": [],
      "metadata": {
        "id": "Or3KCHubi3sV"
      },
      "execution_count": null,
      "outputs": []
    }
  ]
}