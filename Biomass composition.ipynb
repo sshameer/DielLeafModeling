{
  "nbformat": 4,
  "nbformat_minor": 0,
  "metadata": {
    "colab": {
      "provenance": []
    },
    "kernelspec": {
      "name": "python3",
      "display_name": "Python 3"
    },
    "language_info": {
      "name": "python"
    }
  },
  "cells": [
    {
      "cell_type": "markdown",
      "source": [
        "## In this part of our study, we are exploring different biomass composition in PlantCoreMetabolism model. By referring to the compositions described in [Yuan et al.,2016](https://doi.org/10.3389/fpls.2016.00537).\n",
        "\n",
        "##Applying the Biomass composition from 3 different models by -[ Poolman et al.,2009](https://pmc.ncbi.nlm.nih.gov/articles/PMC2773075/); [de Oliveira Dal'Molin et al., 2010](https://doi.org/10.1104/pp.109.148817); and [Arnold & Nikoloski.,2014](https://doi.org/10.1104/pp.114.235358)."
      ],
      "metadata": {
        "id": "9ZHM_8-9mO1d"
      }
    },
    {
      "cell_type": "markdown",
      "source": [
        "#Install cobrapy"
      ],
      "metadata": {
        "id": "54MB_SedmkTb"
      }
    },
    {
      "cell_type": "code",
      "execution_count": null,
      "metadata": {
        "id": "SGApQM_NmLlE"
      },
      "outputs": [],
      "source": [
        "%pip install cobra --quiet"
      ]
    },
    {
      "cell_type": "markdown",
      "source": [
        "#Import functions required to read sbml and perform pFBA"
      ],
      "metadata": {
        "id": "I7lMo35KmyML"
      }
    },
    {
      "cell_type": "code",
      "source": [
        "from cobra.io import read_sbml_model\n",
        "from cobra.flux_analysis import pfba"
      ],
      "metadata": {
        "id": "-nBTU-h9mxWz"
      },
      "execution_count": null,
      "outputs": []
    },
    {
      "cell_type": "markdown",
      "source": [
        "\n",
        "#Import the models from github  ---- Instead of loading from drive  \n",
        "##created three new models by applying\n",
        "\n",
        "*   biomass composition from AraCore model by Arnold & Nikoloski, 2014. saved it as \"Core_AraCore\" in sbml format\n",
        "*   biomass composition from AraCore model by de Oliveira Dal'Molin et al., 2010. saved it as \"Core_AraGEM\" in sbml format\n",
        "*   biomass composition from AraCore model by  Poolman et al.,2009. saved it as \"Core_AraMeta\" in sbml format\n",
        "\n",
        "    "
      ],
      "metadata": {
        "id": "-unRm7ojnDw7"
      }
    },
    {
      "cell_type": "code",
      "source": [
        "from google.colab import drive\n",
        "drive.mount('/content/drive')"
      ],
      "metadata": {
        "colab": {
          "base_uri": "https://localhost:8080/"
        },
        "id": "bTnKFCZ1D34t",
        "outputId": "57e6a0e9-43b0-4bb9-d781-76de9758c8ce"
      },
      "execution_count": null,
      "outputs": [
        {
          "output_type": "stream",
          "name": "stdout",
          "text": [
            "Drive already mounted at /content/drive; to attempt to forcibly remount, call drive.mount(\"/content/drive\", force_remount=True).\n"
          ]
        }
      ]
    },
    {
      "cell_type": "markdown",
      "source": [
        "#Function to make C3 model\n",
        "## diel_biomass redefined within the function by replacing Phloem_output with  AraCore_Biomass"
      ],
      "metadata": {
        "id": "pTRpB0PvnciM"
      }
    },
    {
      "cell_type": "code",
      "source": [
        "########################################################\n",
        "#This function was used to set up a C3 leaf diel model #\n",
        "########################################################\n",
        "def setupC3DielModel(core_model,transferMets=\"\",starch_sucrose_ratio=None):\n",
        "    '''\n",
        "    This function can be used to generate a fully constrained diel C3 leaf model\n",
        "    from a core model.\n",
        "    Inputs: 1) a cobra model 2) a list of metabolites allowed to accumulate 3)\n",
        "    starch to sucrose accumulation rate ratio\n",
        "    Outputs: a fully constrained diel C3 leaf model\n",
        "    '''\n",
        "    from cobra.core import Metabolite, Reaction\n",
        "    import re\n",
        "\n",
        "    #create two copies of model elements for day and night\n",
        "    tempCompDict = dict()\n",
        "    for comp in core_model.compartments:\n",
        "        tempCompDict[comp+\"1\"] = core_model.compartments[comp]+\" day\"\n",
        "        tempCompDict[comp+\"2\"] = core_model.compartments[comp]+\" night\"\n",
        "\n",
        "    cobra_model2 = core_model.copy()\n",
        "    for met in cobra_model2.metabolites:\n",
        "        met.id = met.id+\"1\"\n",
        "        met.name = met.name+\" Day\"\n",
        "        met.compartment = met.compartment+\"1\"\n",
        "    for rxn in cobra_model2.reactions:\n",
        "        rxn.id = rxn.id+\"1\"\n",
        "        rxn.name = rxn.name+\" Day\"\n",
        "\n",
        "    cobra_model3 = core_model.copy()\n",
        "    for met in cobra_model3.metabolites:\n",
        "        met.id = met.id+\"2\"\n",
        "        met.name = met.name+\" Night\"\n",
        "        met.compartment = met.compartment+\"2\"\n",
        "    for rxn in cobra_model3.reactions:\n",
        "        rxn.id = rxn.id+\"2\"\n",
        "        rxn.name = rxn.name+\" Night\"\n",
        "\n",
        "    #merge the day and night model\n",
        "    cobra_model = cobra_model2.merge(cobra_model3)\n",
        "    for met in cobra_model3.metabolites:\n",
        "        if not cobra_model.metabolites.__contains__(met.id):\n",
        "            cobra_model.add_metabolites(met.copy())\n",
        "    for comp in cobra_model.compartments:\n",
        "        cobra_model.compartments[comp] = tempCompDict[comp]\n",
        "\n",
        "    met1 = Metabolite(\"X_Aracore_contribution_t1\",name=\"biomass output during the day\",compartment=\"b1\")\n",
        "    cobra_model.reactions.get_by_id(\"AraCore_Biomass_tx1\").add_metabolites({met1:1})\n",
        "    met2 = Metabolite(\"X_Aracore_contribution_t2\",name=\"bimass output during at night\",compartment=\"b1\")\n",
        "    cobra_model.reactions.get_by_id(\"AraCore_Biomass_tx2\").add_metabolites({met2:1})\n",
        "\n",
        "    rxn = Reaction(\"diel_biomass\")\n",
        "    rxn.add_metabolites({met1:-3,met2:-1})\n",
        "    rxn.lower_bound = 0\n",
        "    rxn.upper_bound = 1000\n",
        "    cobra_model.add_reactions([rxn,])\n",
        "\n",
        "    #Adding reactions to allow for day-night metabolite accumulations\n",
        "    if transferMets!=\"\":\n",
        "        tmfile = open(transferMets,\"r\")\n",
        "        tmset=set()\n",
        "        for line in tmfile:\n",
        "            tmset.add(line.replace(\"\\n\",\"\"))\n",
        "    else:\n",
        "        tmset=set([\"STARCH_p\",\"SUCROSE_v\",\"MAL_v\",\"aMAL_v\",\"NITRATE_v\",\"CIT_v\",\n",
        "        \"aCIT_v\",\"GLN_v\",\"ASN_v\",\"SER_v\",\"GLN_v\",\"GLY_v\",\"THR_v\",\"L_ALPHA_ALANINE_v\",\n",
        "        \"4_AMINO_BUTYRATE_v\",\"VAL_v\",\"ILE_v\",\"PHE_v\",\"LEU_v\",\"LYS_v\",\"ARG_v\",\n",
        "        \"L_ASPARTATE_v\",\"GLT_v\",\"HIS_v\",\"bHIS_v\",\"MET_v\",\"PRO_v\",\"TRP_v\",\"TYR_v\",\n",
        "        \"CYS_v\",\"FRUCTAN_v\",\"AMMONIUM_v\",\"PROTON_v\"])\n",
        "\n",
        "    for met in tmset:\n",
        "        if met == \"AMMONIUM_v\" or met==\"FRUCTAN_v\":\n",
        "            continue\n",
        "        tempRxn = Reaction(met+\"_dielTransfer\")\n",
        "        tempRxn.add_metabolites({cobra_model.metabolites.get_by_id(met+\"1\"):-1,cobra_model.metabolites.get_by_id(met+\"2\"):1})\n",
        "        tempRxn.lower_bound=-1000\n",
        "        if not ((met == \"STARCH_p\") or (met == \"SUCROSE_v\") or (met == \"MAL_v\") or (met == \"aMAL_v\") or (met == \"NITRATE_v\") or (met == \"CIT_v\") or (met == \"aCIT_v\") or (met == \"PROTON_v\")):\n",
        "            tempRxn.lower_bound=0\n",
        "        tempRxn.upper_bound=1000\n",
        "        cobra_model.add_reactions([tempRxn,])\n",
        "\n",
        "    fractionMets=dict()\n",
        "    for rxn in cobra_model.reactions:\n",
        "        for met in rxn.metabolites.keys():\n",
        "            prefix=\"\"\n",
        "            a=re.search(\"^a{1,3}\",met.id)\n",
        "            anion=\"\"\n",
        "            if a:\n",
        "                anion=a.group(0)\n",
        "                prefix=anion\n",
        "            b=re.search(\"^b{1,3}\",met.id)\n",
        "            basic=\"\"\n",
        "            if b:\n",
        "                basic=b.group(0)\n",
        "                prefix=basic\n",
        "            if ((not prefix == \"\") and met.compartment == \"v1\"):\n",
        "                fractionMets[met]=prefix\n",
        "\n",
        "    temp=cobra_model.copy()\n",
        "    for met in fractionMets.keys():\n",
        "        for rxn in met.reactions:\n",
        "            if rxn.id.__contains__(\"_dielTransfer\"):\n",
        "                continue\n",
        "            else:\n",
        "                mainMet = met.id[len(fractionMets[met]):]\n",
        "                coeff1 = temp.reactions.get_by_id(rxn.id).metabolites.get(temp.metabolites.get_by_id(mainMet))\n",
        "                coeff2 = temp.reactions.get_by_id(rxn.id).metabolites.get(temp.metabolites.get_by_id(met.id))\n",
        "                if not coeff1:\n",
        "                    coeff1=0\n",
        "                if not coeff2:\n",
        "                    coeff2=0\n",
        "                total = coeff1 + coeff2\n",
        "                coeff1 = float(coeff1)/total\n",
        "                coeff2 = float(coeff2)/total\n",
        "                if cobra_model.reactions.has_id(met.id[0:len(met.id)-1]+\"_dielTransfer\"):\n",
        "                    ub = temp.reactions.get_by_id(met.id[0:len(met.id)-1]+\"_dielTransfer\").upper_bound\n",
        "                    lb = temp.reactions.get_by_id(met.id[0:len(met.id)-1]+\"_dielTransfer\").lower_bound\n",
        "                    temp.reactions.get_by_id(met.id[0:len(met.id)-1]+\"_dielTransfer\").remove_from_model()\n",
        "                    temp.reactions.get_by_id(mainMet[0:len(mainMet)-1]+\"_dielTransfer\").remove_from_model()\n",
        "                    Reac = Reaction(mainMet[0:len(mainMet)-1]+\"_dielTransfer\",name=mainMet+\"_dielTransfer\")\n",
        "                    Reac.add_metabolites({temp.metabolites.get_by_id(met.id[0:len(met.id)-1]+\"1\"):-coeff2,temp.metabolites.get_by_id(met.id[0:len(met.id)-1]+\"2\"):coeff2,temp.metabolites.get_by_id(mainMet[0:len(mainMet)-1]+\"1\"):-coeff1,temp.metabolites.get_by_id(mainMet[0:len(mainMet)-1]+\"2\"):coeff1})\n",
        "                    Reac.lower_bound=lb\n",
        "                    Reac.upper_bound=ub\n",
        "                    temp.add_reactions([Reac,])\n",
        "                break\n",
        "    ####ADD CONSTRAINTS TO MODEL####\n",
        "    cobra_model = temp.copy()\n",
        "\n",
        "    #objective function\n",
        "    cobra_model.reactions.get_by_id(\"diel_biomass\").objective_coefficient=1\n",
        "    #Leaves - light\n",
        "    cobra_model.reactions.get_by_id(\"Sucrose_tx1\").lower_bound=0\n",
        "    cobra_model.reactions.get_by_id(\"Sucrose_tx1\").upper_bound=0\n",
        "    cobra_model.reactions.get_by_id(\"GLC_tx1\").lower_bound=0\n",
        "    cobra_model.reactions.get_by_id(\"GLC_tx1\").upper_bound=0\n",
        "    cobra_model.reactions.get_by_id(\"NH4_tx1\").lower_bound=0\n",
        "    cobra_model.reactions.get_by_id(\"NH4_tx1\").upper_bound=0\n",
        "    #Leaves - dark\n",
        "    cobra_model.reactions.get_by_id(\"Sucrose_tx2\").lower_bound=0\n",
        "    cobra_model.reactions.get_by_id(\"Sucrose_tx2\").upper_bound=0\n",
        "    cobra_model.reactions.get_by_id(\"GLC_tx2\").lower_bound=0\n",
        "    cobra_model.reactions.get_by_id(\"GLC_tx2\").upper_bound=0\n",
        "    cobra_model.reactions.get_by_id(\"Photon_tx2\").lower_bound=0\n",
        "    cobra_model.reactions.get_by_id(\"Photon_tx2\").upper_bound=0\n",
        "    cobra_model.reactions.get_by_id(\"NH4_tx2\").lower_bound=0\n",
        "    cobra_model.reactions.get_by_id(\"NH4_tx2\").upper_bound=0\n",
        "\n",
        "    #Turn off PTOX\n",
        "    cobra_model.reactions.get_by_id(\"Plastoquinol_Oxidase_p1\").lower_bound=0\n",
        "    cobra_model.reactions.get_by_id(\"Plastoquinol_Oxidase_p1\").upper_bound=0\n",
        "\n",
        "    #nitrate uptake constrain\n",
        "    Nitrate_balance = Metabolite(\"Nitrate_bal_c\", name = \"Weights to balance nitrate uptake\", compartment = \"c1\")\n",
        "    cobra_model.reactions.get_by_id(\"Nitrate_ec1\").add_metabolites({Nitrate_balance:-2})\n",
        "    cobra_model.reactions.get_by_id(\"Nitrate_ec2\").add_metabolites({Nitrate_balance:3})\n",
        "\n",
        "    #Rubisco balance\n",
        "    Rubisco_balance = Metabolite(\"rubisco_bal_p1\", name = \"Weights to balance RuBP carboxygenase oxygenase balance\", compartment = \"p1\")\n",
        "    cobra_model.reactions.get_by_id(\"RXN_961_p1\").add_metabolites({Rubisco_balance:3})\n",
        "    cobra_model.reactions.get_by_id(\"RIBULOSE_BISPHOSPHATE_CARBOXYLASE_RXN_p1\").add_metabolites({Rubisco_balance:-1})\n",
        "\n",
        "    #generic ATPase and NADPH oxidase\n",
        "    Maintenance_constraint = Metabolite(\"ATPase_NADPHoxidase_constraint_c1\",name =  \"ATPase_NADPHoxidase_constraint_c1\", compartment = \"c1\")\n",
        "    Maintenance_constraint2 = Metabolite(\"ATPase_NADPHoxidase_constraint_c2\",name =  \"ATPase_NADPHoxidase_constraint_c2\", compartment = \"c2\")\n",
        "    Maintenance_constraint3 = Metabolite(\"Light_dark_maintainence_constraint\",name =  \"Light_dark_maintainence_constraint\", compartment = \"c1\")\n",
        "    cobra_model.reactions.get_by_id(\"ATPase_tx1\").add_metabolites({Maintenance_constraint:1,Maintenance_constraint3:1})\n",
        "    cobra_model.reactions.get_by_id(\"ATPase_tx2\").add_metabolites({Maintenance_constraint2:1,Maintenance_constraint3:-1})\n",
        "    cobra_model.reactions.get_by_id(\"NADPHoxc_tx1\").add_metabolites({Maintenance_constraint:-3})\n",
        "    cobra_model.reactions.get_by_id(\"NADPHoxc_tx2\").add_metabolites({Maintenance_constraint2:-3})\n",
        "    cobra_model.reactions.get_by_id(\"NADPHoxm_tx1\").add_metabolites({Maintenance_constraint:-3})\n",
        "    cobra_model.reactions.get_by_id(\"NADPHoxm_tx2\").add_metabolites({Maintenance_constraint2:-3})\n",
        "    cobra_model.reactions.get_by_id(\"NADPHoxp_tx1\").add_metabolites({Maintenance_constraint:-3})\n",
        "    cobra_model.reactions.get_by_id(\"NADPHoxp_tx2\").add_metabolites({Maintenance_constraint2:-3})\n",
        "\n",
        "    ##constrain sucrose and starch storage\n",
        "    if starch_sucrose_ratio is not None:\n",
        "        Sucorse_starch_balance = Metabolite(\"sucrose_starch_bal_c\", name = \"Weights to balance sucrose-starch uptake\", compartment = \"c1\")\n",
        "        cobra_model.reactions.get_by_id(\"SUCROSE_v_dielTransfer\").add_metabolites({Sucorse_starch_balance:-1*starch_sucrose_ratio})\n",
        "        cobra_model.reactions.get_by_id(\"STARCH_p_dielTransfer\").add_metabolites({Sucorse_starch_balance:1})\n",
        "\n",
        "    #Plastid enolase was not detected in Arabidopsis mesophyll tissue\n",
        "    cobra_model.reactions.get_by_id(\"2PGADEHYDRAT_RXN_p1\").lower_bound=0\n",
        "    cobra_model.reactions.get_by_id(\"2PGADEHYDRAT_RXN_p1\").upper_bound=0\n",
        "    cobra_model.reactions.get_by_id(\"2PGADEHYDRAT_RXN_p2\").lower_bound=0\n",
        "    cobra_model.reactions.get_by_id(\"2PGADEHYDRAT_RXN_p2\").upper_bound=0\n",
        "\n",
        "    #Setting chloroplastic NADPH dehydrogenase to 0  ((Yamamoto et al., 2011)\n",
        "    cobra_model.reactions.get_by_id(\"NADPH_Dehydrogenase_p1\").lower_bound=0\n",
        "    cobra_model.reactions.get_by_id(\"NADPH_Dehydrogenase_p1\").upper_bound=0\n",
        "    cobra_model.reactions.get_by_id(\"NADPH_Dehydrogenase_p2\").lower_bound=0\n",
        "    cobra_model.reactions.get_by_id(\"NADPH_Dehydrogenase_p2\").upper_bound=0\n",
        "\n",
        "    #ATP_ADP_Pi constrained to 0 because while there is evidence for its existance, it does not carry high flux\n",
        "    cobra_model.reactions.get_by_id(\"ATP_ADP_Pi_pc1\").lower_bound = 0\n",
        "    cobra_model.reactions.get_by_id(\"ATP_ADP_Pi_pc1\").upper_bound = 0\n",
        "    cobra_model.reactions.get_by_id(\"ATP_ADP_Pi_pc2\").lower_bound = 0\n",
        "    cobra_model.reactions.get_by_id(\"ATP_ADP_Pi_pc2\").upper_bound = 0\n",
        "\n",
        "    print(cobra_model.reactions.get_by_id(\"AraCore_Biomass_tx1\").bounds)\n",
        "    print(cobra_model.reactions.get_by_id(\"AraCore_Biomass_tx2\").bounds)\n",
        "\n",
        "    return cobra_model\n"
      ],
      "metadata": {
        "id": "EfUAqx30nFhs"
      },
      "execution_count": null,
      "outputs": []
    },
    {
      "cell_type": "markdown",
      "source": [
        "# Core Model\n",
        "## loading the PlantCoreMetabolism model"
      ],
      "metadata": {
        "id": "XdADU4yjChu4"
      }
    },
    {
      "cell_type": "code",
      "source": [
        "core_model = read_sbml_model(\"/content/drive/My Drive/protocolFBA/models/PlantCoreMetabolism_v2_0_0.xml\")"
      ],
      "metadata": {
        "id": "JbyGdzwKN5_W"
      },
      "execution_count": null,
      "outputs": []
    },
    {
      "cell_type": "markdown",
      "source": [
        "##making diel model\n",
        "### List of models\n",
        "\n",
        "*   diel_model0 = diel leaf model of plantCoreMetabolism model\n",
        "*   diel_model1 = diel leaf model of plantCoreMetabolism model with biomass composition of AraCore\n",
        "*   diel_model2 = diel leaf model of plantCoreMetabolism model with biomass composition of AraGEM\n",
        "*   diel_model3 = diel leaf model of plantCoreMetabolism model with biomass composition of AraMeta\n",
        "\n",
        "\n",
        "\n"
      ],
      "metadata": {
        "id": "HSz0_EypA9zu"
      }
    },
    {
      "cell_type": "code",
      "source": [
        "diel_model0 = setupC3DielModel(core_model,transferMets= \"\", starch_sucrose_ratio =None)"
      ],
      "metadata": {
        "id": "8ObqIzB5Cdgd",
        "colab": {
          "base_uri": "https://localhost:8080/"
        },
        "outputId": "4afa76b4-cf58-4d6d-ea0b-e92735f73e71"
      },
      "execution_count": null,
      "outputs": [
        {
          "output_type": "stream",
          "name": "stdout",
          "text": [
            "(0.0, 1000.0)\n",
            "(0.0, 1000.0)\n"
          ]
        }
      ]
    },
    {
      "cell_type": "code",
      "source": [
        "diel_model0.objective = diel_model0.reactions.get_by_id(\"diel_biomass\")\n",
        "solution0 = pfba(diel_model0)\n",
        "diel_model0"
      ],
      "metadata": {
        "id": "iNC5-0zrCmY-",
        "colab": {
          "base_uri": "https://localhost:8080/",
          "height": 186
        },
        "outputId": "d9c573fc-2b8d-46a6-f304-504ceda406da"
      },
      "execution_count": null,
      "outputs": [
        {
          "output_type": "execute_result",
          "data": {
            "text/plain": [
              "<Model PlantCoreMetabolism_v2_0_0 at 0x7da0eccf1910>"
            ],
            "text/html": [
              "\n",
              "        <table>\n",
              "            <tr>\n",
              "                <td><strong>Name</strong></td>\n",
              "                <td>PlantCoreMetabolism_v2_0_0</td>\n",
              "            </tr><tr>\n",
              "                <td><strong>Memory address</strong></td>\n",
              "                <td>7da0eccf1910</td>\n",
              "            </tr><tr>\n",
              "                <td><strong>Number of metabolites</strong></td>\n",
              "                <td>1769</td>\n",
              "            </tr><tr>\n",
              "                <td><strong>Number of reactions</strong></td>\n",
              "                <td>1874</td>\n",
              "            </tr><tr>\n",
              "                <td><strong>Number of genes</strong></td>\n",
              "                <td>0</td>\n",
              "            </tr><tr>\n",
              "                <td><strong>Number of groups</strong></td>\n",
              "                <td>208</td>\n",
              "            </tr><tr>\n",
              "                <td><strong>Objective expression</strong></td>\n",
              "                <td>1.0*diel_biomass - 1.0*diel_biomass_reverse_79408</td>\n",
              "            </tr><tr>\n",
              "                <td><strong>Compartments</strong></td>\n",
              "                <td>m1, c1, b1, p1, v1, x1, r1, mi1, mc1, e1, l1, i1, c2, v2, e2, x2, b2, p2, m2, mi2, i2, mc2, r2, l2</td>\n",
              "            </tr>\n",
              "          </table>"
            ]
          },
          "metadata": {},
          "execution_count": 19
        }
      ]
    },
    {
      "cell_type": "code",
      "source": [
        "# constraining GPT transport reaction\n",
        "diel_model0.reactions.get_by_id(\"G6P_Pi_pc1\").lower_bound= 0\n",
        "diel_model0.reactions.get_by_id(\"G6P_Pi_pc1\").upper_bound= 0\n",
        "diel_model0.reactions.get_by_id(\"G6P_Pi_pc2\").lower_bound= 0\n",
        "diel_model0.reactions.get_by_id(\"G6P_Pi_pc2\").upper_bound= 0\n",
        "# constraining starch phosphorylation\n",
        "diel_model0.reactions.get_by_id(\"RXN_1826_p1\").lower_bound= 0\n",
        "diel_model0.reactions.get_by_id(\"RXN_1826_p1\").upper_bound= 0\n",
        "diel_model0.reactions.get_by_id(\"RXN_1826_p2\").lower_bound= 0\n",
        "diel_model0.reactions.get_by_id(\"RXN_1826_p2\").upper_bound= 0\n",
        "# Setting photon uptake\n",
        "PPFD = 500\n",
        "diel_model0.reactions.Photon_tx1.upper_bound = PPFD\n",
        "diel_model0.reactions.Photon_tx1.lower_bound = 0\n",
        "# Setting maintenance cost\n",
        "VATPase = 0.0049*PPFD+2.7851\n",
        "diel_model0.reactions.get_by_id(\"ATPase_tx1\").bounds = (VATPase,VATPase)\n",
        "# constraining sucrose accumulation to model a starch storing leaf\n",
        "diel_model0.reactions.get_by_id(\"SUCROSE_v_dielTransfer\").bounds = (0,0)\n",
        "solution0 = pfba(diel_model0)"
      ],
      "metadata": {
        "id": "0yYLcM4NCqcX"
      },
      "execution_count": null,
      "outputs": []
    },
    {
      "cell_type": "code",
      "source": [
        "diel_model0.summary()"
      ],
      "metadata": {
        "id": "giYi_ICzCtG2",
        "colab": {
          "base_uri": "https://localhost:8080/",
          "height": 817
        },
        "outputId": "31e864b6-af37-4ee6-c3cf-82a236b43359"
      },
      "execution_count": null,
      "outputs": [
        {
          "output_type": "execute_result",
          "data": {
            "text/plain": [
              "<cobra.summary.model_summary.ModelSummary at 0x7da0eb56fa50>"
            ],
            "text/html": [
              "<h3>Objective</h3><p>1.0 diel_biomass = 0.08493777502932844</p><h4>Uptake</h4><table border=\"1\" class=\"dataframe\">\n",
              "  <thead>\n",
              "    <tr style=\"text-align: right;\">\n",
              "      <th>Metabolite</th>\n",
              "      <th>Reaction</th>\n",
              "      <th>Flux</th>\n",
              "      <th>C-Number</th>\n",
              "      <th>C-Flux</th>\n",
              "    </tr>\n",
              "  </thead>\n",
              "  <tbody>\n",
              "    <tr>\n",
              "      <td>CARBON_DIOXIDE_e1</td>\n",
              "      <td>CO2_tx1</td>\n",
              "      <td>31.98</td>\n",
              "      <td>1</td>\n",
              "      <td>100.00%</td>\n",
              "    </tr>\n",
              "    <tr>\n",
              "      <td>CAII_e1</td>\n",
              "      <td>Ca_tx1</td>\n",
              "      <td>0.2242</td>\n",
              "      <td>0</td>\n",
              "      <td>0.00%</td>\n",
              "    </tr>\n",
              "    <tr>\n",
              "      <td>CAII_e2</td>\n",
              "      <td>Ca_tx2</td>\n",
              "      <td>0.07475</td>\n",
              "      <td>0</td>\n",
              "      <td>0.00%</td>\n",
              "    </tr>\n",
              "    <tr>\n",
              "      <td>WATER_e1</td>\n",
              "      <td>H2O_tx1</td>\n",
              "      <td>27.7</td>\n",
              "      <td>0</td>\n",
              "      <td>0.00%</td>\n",
              "    </tr>\n",
              "    <tr>\n",
              "      <td>KI_e1</td>\n",
              "      <td>K_tx1</td>\n",
              "      <td>0.4587</td>\n",
              "      <td>0</td>\n",
              "      <td>0.00%</td>\n",
              "    </tr>\n",
              "    <tr>\n",
              "      <td>KI_e2</td>\n",
              "      <td>K_tx2</td>\n",
              "      <td>0.1529</td>\n",
              "      <td>0</td>\n",
              "      <td>0.00%</td>\n",
              "    </tr>\n",
              "    <tr>\n",
              "      <td>MGII_e1</td>\n",
              "      <td>Mg_tx1</td>\n",
              "      <td>0.1478</td>\n",
              "      <td>0</td>\n",
              "      <td>0.00%</td>\n",
              "    </tr>\n",
              "    <tr>\n",
              "      <td>MGII_e2</td>\n",
              "      <td>Mg_tx2</td>\n",
              "      <td>0.04926</td>\n",
              "      <td>0</td>\n",
              "      <td>0.00%</td>\n",
              "    </tr>\n",
              "    <tr>\n",
              "      <td>NITRATE_e1</td>\n",
              "      <td>Nitrate_tx1</td>\n",
              "      <td>1.55</td>\n",
              "      <td>0</td>\n",
              "      <td>0.00%</td>\n",
              "    </tr>\n",
              "    <tr>\n",
              "      <td>NITRATE_e2</td>\n",
              "      <td>Nitrate_tx2</td>\n",
              "      <td>1.033</td>\n",
              "      <td>0</td>\n",
              "      <td>0.00%</td>\n",
              "    </tr>\n",
              "    <tr>\n",
              "      <td>OXYGEN_MOLECULE_e2</td>\n",
              "      <td>O2_tx2</td>\n",
              "      <td>2.593</td>\n",
              "      <td>0</td>\n",
              "      <td>0.00%</td>\n",
              "    </tr>\n",
              "    <tr>\n",
              "      <td>Photon_e1</td>\n",
              "      <td>Photon_tx1</td>\n",
              "      <td>500</td>\n",
              "      <td>0</td>\n",
              "      <td>0.00%</td>\n",
              "    </tr>\n",
              "    <tr>\n",
              "      <td>Pi_e1</td>\n",
              "      <td>Pi_tx1</td>\n",
              "      <td>0.08983</td>\n",
              "      <td>0</td>\n",
              "      <td>0.00%</td>\n",
              "    </tr>\n",
              "    <tr>\n",
              "      <td>Pi_e2</td>\n",
              "      <td>Pi_tx2</td>\n",
              "      <td>0.02994</td>\n",
              "      <td>0</td>\n",
              "      <td>0.00%</td>\n",
              "    </tr>\n",
              "    <tr>\n",
              "      <td>SULFATE_e1</td>\n",
              "      <td>SO4_tx1</td>\n",
              "      <td>0.03693</td>\n",
              "      <td>0</td>\n",
              "      <td>0.00%</td>\n",
              "    </tr>\n",
              "    <tr>\n",
              "      <td>PROTON_c1</td>\n",
              "      <td>unlProtHYPO_c1</td>\n",
              "      <td>1.896</td>\n",
              "      <td>0</td>\n",
              "      <td>0.00%</td>\n",
              "    </tr>\n",
              "  </tbody>\n",
              "</table><h4>Secretion</h4><table border=\"1\" class=\"dataframe\">\n",
              "  <thead>\n",
              "    <tr style=\"text-align: right;\">\n",
              "      <th>Metabolite</th>\n",
              "      <th>Reaction</th>\n",
              "      <th>Flux</th>\n",
              "      <th>C-Number</th>\n",
              "      <th>C-Flux</th>\n",
              "    </tr>\n",
              "  </thead>\n",
              "  <tbody>\n",
              "    <tr>\n",
              "      <td>CARBON_DIOXIDE_e2</td>\n",
              "      <td>CO2_tx2</td>\n",
              "      <td>-2.542</td>\n",
              "      <td>1</td>\n",
              "      <td>100.00%</td>\n",
              "    </tr>\n",
              "    <tr>\n",
              "      <td>WATER_e2</td>\n",
              "      <td>H2O_tx2</td>\n",
              "      <td>-2.451</td>\n",
              "      <td>0</td>\n",
              "      <td>0.00%</td>\n",
              "    </tr>\n",
              "    <tr>\n",
              "      <td>OXYGEN_MOLECULE_e1</td>\n",
              "      <td>O2_tx1</td>\n",
              "      <td>-38.9</td>\n",
              "      <td>0</td>\n",
              "      <td>0.00%</td>\n",
              "    </tr>\n",
              "  </tbody>\n",
              "</table>"
            ]
          },
          "metadata": {},
          "execution_count": 21
        }
      ]
    },
    {
      "cell_type": "markdown",
      "source": [
        "#AraCoremodel\n",
        "## applying biomass composition from AcarCore model by Arnold & Nikoloski,2014\n",
        "###(the sbml file is updated by adding the respective biomass composition)\n"
      ],
      "metadata": {
        "id": "UNmO51jRoDX0"
      }
    },
    {
      "cell_type": "markdown",
      "source": [
        "#Loading the model from github"
      ],
      "metadata": {
        "id": "iPYOx3bXoJy7"
      }
    },
    {
      "cell_type": "code",
      "source": [
        "# Core_AraCoremodel = read_sbml_model(\"Core_AraCore.xml\")       # Sanus version\n",
        "Core_AraCoremodel = read_sbml_model(\"/content/drive/My Drive/protocolFBA/models/Core_AraCore.xml\")     # Vipinas version"
      ],
      "metadata": {
        "id": "iVk_S7RrPdWO"
      },
      "execution_count": null,
      "outputs": []
    },
    {
      "cell_type": "code",
      "source": [
        "diel_model1 = setupC3DielModel(Core_AraCoremodel,transferMets= \"\", starch_sucrose_ratio =None)"
      ],
      "metadata": {
        "id": "ErthsA3UoCQU",
        "colab": {
          "base_uri": "https://localhost:8080/"
        },
        "outputId": "38610a43-a088-4e2b-fecd-4488b5d4c6d8"
      },
      "execution_count": null,
      "outputs": [
        {
          "output_type": "stream",
          "name": "stdout",
          "text": [
            "(0.0, 1000.0)\n",
            "(0.0, 1000.0)\n"
          ]
        }
      ]
    },
    {
      "cell_type": "markdown",
      "source": [
        "##resetting objective and optimization"
      ],
      "metadata": {
        "id": "E6MEYh6XBNc-"
      }
    },
    {
      "cell_type": "code",
      "source": [
        "diel_model1.objective = diel_model1.reactions.get_by_id(\"diel_biomass\")\n",
        "solution1 = pfba(diel_model1)\n",
        "diel_model1"
      ],
      "metadata": {
        "id": "zSsUFr8ABJ_G",
        "colab": {
          "base_uri": "https://localhost:8080/",
          "height": 186
        },
        "outputId": "2451ea76-f414-4f03-e272-f770c85ebcaa"
      },
      "execution_count": null,
      "outputs": [
        {
          "output_type": "execute_result",
          "data": {
            "text/plain": [
              "<Model PlantCoreMetabolism_v2_0_0 at 0x7da0ea829590>"
            ],
            "text/html": [
              "\n",
              "        <table>\n",
              "            <tr>\n",
              "                <td><strong>Name</strong></td>\n",
              "                <td>PlantCoreMetabolism_v2_0_0</td>\n",
              "            </tr><tr>\n",
              "                <td><strong>Memory address</strong></td>\n",
              "                <td>7da0ea829590</td>\n",
              "            </tr><tr>\n",
              "                <td><strong>Number of metabolites</strong></td>\n",
              "                <td>1769</td>\n",
              "            </tr><tr>\n",
              "                <td><strong>Number of reactions</strong></td>\n",
              "                <td>1874</td>\n",
              "            </tr><tr>\n",
              "                <td><strong>Number of genes</strong></td>\n",
              "                <td>0</td>\n",
              "            </tr><tr>\n",
              "                <td><strong>Number of groups</strong></td>\n",
              "                <td>208</td>\n",
              "            </tr><tr>\n",
              "                <td><strong>Objective expression</strong></td>\n",
              "                <td>1.0*diel_biomass - 1.0*diel_biomass_reverse_79408</td>\n",
              "            </tr><tr>\n",
              "                <td><strong>Compartments</strong></td>\n",
              "                <td>m1, c1, b1, p1, v1, x1, r1, mi1, mc1, e1, l1, i1, c2, v2, e2, x2, b2, p2, m2, mi2, i2, mc2, r2, l2</td>\n",
              "            </tr>\n",
              "          </table>"
            ]
          },
          "metadata": {},
          "execution_count": 28
        }
      ]
    },
    {
      "cell_type": "markdown",
      "source": [
        "#constraining model into C3 with new biomass composition"
      ],
      "metadata": {
        "id": "T0bNG_jHBbDd"
      }
    },
    {
      "cell_type": "code",
      "source": [
        "# constraining GPT transport reaction\n",
        "diel_model1.reactions.get_by_id(\"G6P_Pi_pc1\").lower_bound= 0\n",
        "diel_model1.reactions.get_by_id(\"G6P_Pi_pc1\").upper_bound= 0\n",
        "diel_model1.reactions.get_by_id(\"G6P_Pi_pc2\").lower_bound= 0\n",
        "diel_model1.reactions.get_by_id(\"G6P_Pi_pc2\").upper_bound= 0\n",
        "# constraining starch phosphorylation\n",
        "diel_model1.reactions.get_by_id(\"RXN_1826_p1\").lower_bound= 0\n",
        "diel_model1.reactions.get_by_id(\"RXN_1826_p1\").upper_bound= 0\n",
        "diel_model1.reactions.get_by_id(\"RXN_1826_p2\").lower_bound= 0\n",
        "diel_model1.reactions.get_by_id(\"RXN_1826_p2\").upper_bound= 0\n",
        "# Setting photon uptake\n",
        "PPFD = 500\n",
        "diel_model1.reactions.Photon_tx1.upper_bound = PPFD\n",
        "diel_model1.reactions.Photon_tx1.lower_bound = 0\n",
        "# Setting maintenance cost\n",
        "VATPase = 0.0049*PPFD+2.7851\n",
        "diel_model1.reactions.get_by_id(\"ATPase_tx1\").bounds = (VATPase,VATPase)\n",
        "# constraining sucrose accumulation to model a starch storing leaf\n",
        "diel_model1.reactions.get_by_id(\"SUCROSE_v_dielTransfer\").bounds = (0,0)\n",
        "solution1 = pfba(diel_model1)"
      ],
      "metadata": {
        "id": "dcbv8J0ABdct"
      },
      "execution_count": null,
      "outputs": []
    },
    {
      "cell_type": "code",
      "source": [
        "diel_model1.summary()"
      ],
      "metadata": {
        "id": "Y-1e6jotBztf",
        "colab": {
          "base_uri": "https://localhost:8080/",
          "height": 629
        },
        "outputId": "5d487b95-b00a-4f28-d618-fa7982822b00"
      },
      "execution_count": null,
      "outputs": [
        {
          "output_type": "execute_result",
          "data": {
            "text/plain": [
              "<cobra.summary.model_summary.ModelSummary at 0x7da0eb2ae9d0>"
            ],
            "text/html": [
              "<h3>Objective</h3><p>1.0 diel_biomass = 0.491892414346644</p><h4>Uptake</h4><table border=\"1\" class=\"dataframe\">\n",
              "  <thead>\n",
              "    <tr style=\"text-align: right;\">\n",
              "      <th>Metabolite</th>\n",
              "      <th>Reaction</th>\n",
              "      <th>Flux</th>\n",
              "      <th>C-Number</th>\n",
              "      <th>C-Flux</th>\n",
              "    </tr>\n",
              "  </thead>\n",
              "  <tbody>\n",
              "    <tr>\n",
              "      <td>CARBON_DIOXIDE_e1</td>\n",
              "      <td>CO2_tx1</td>\n",
              "      <td>32.29</td>\n",
              "      <td>1</td>\n",
              "      <td>100.00%</td>\n",
              "    </tr>\n",
              "    <tr>\n",
              "      <td>WATER_e1</td>\n",
              "      <td>H2O_tx1</td>\n",
              "      <td>26.29</td>\n",
              "      <td>0</td>\n",
              "      <td>0.00%</td>\n",
              "    </tr>\n",
              "    <tr>\n",
              "      <td>NITRATE_e1</td>\n",
              "      <td>Nitrate_tx1</td>\n",
              "      <td>2.777</td>\n",
              "      <td>0</td>\n",
              "      <td>0.00%</td>\n",
              "    </tr>\n",
              "    <tr>\n",
              "      <td>NITRATE_e2</td>\n",
              "      <td>Nitrate_tx2</td>\n",
              "      <td>1.851</td>\n",
              "      <td>0</td>\n",
              "      <td>0.00%</td>\n",
              "    </tr>\n",
              "    <tr>\n",
              "      <td>OXYGEN_MOLECULE_e2</td>\n",
              "      <td>O2_tx2</td>\n",
              "      <td>2.717</td>\n",
              "      <td>0</td>\n",
              "      <td>0.00%</td>\n",
              "    </tr>\n",
              "    <tr>\n",
              "      <td>Photon_e1</td>\n",
              "      <td>Photon_tx1</td>\n",
              "      <td>500</td>\n",
              "      <td>0</td>\n",
              "      <td>0.00%</td>\n",
              "    </tr>\n",
              "    <tr>\n",
              "      <td>Pi_e1</td>\n",
              "      <td>Pi_tx1</td>\n",
              "      <td>0.01284</td>\n",
              "      <td>0</td>\n",
              "      <td>0.00%</td>\n",
              "    </tr>\n",
              "    <tr>\n",
              "      <td>Pi_e2</td>\n",
              "      <td>Pi_tx2</td>\n",
              "      <td>0.004279</td>\n",
              "      <td>0</td>\n",
              "      <td>0.00%</td>\n",
              "    </tr>\n",
              "    <tr>\n",
              "      <td>SULFATE_e1</td>\n",
              "      <td>SO4_tx1</td>\n",
              "      <td>0.1141</td>\n",
              "      <td>0</td>\n",
              "      <td>0.00%</td>\n",
              "    </tr>\n",
              "    <tr>\n",
              "      <td>PROTON_c1</td>\n",
              "      <td>unlProtHYPO_c1</td>\n",
              "      <td>2.826</td>\n",
              "      <td>0</td>\n",
              "      <td>0.00%</td>\n",
              "    </tr>\n",
              "  </tbody>\n",
              "</table><h4>Secretion</h4><table border=\"1\" class=\"dataframe\">\n",
              "  <thead>\n",
              "    <tr style=\"text-align: right;\">\n",
              "      <th>Metabolite</th>\n",
              "      <th>Reaction</th>\n",
              "      <th>Flux</th>\n",
              "      <th>C-Number</th>\n",
              "      <th>C-Flux</th>\n",
              "    </tr>\n",
              "  </thead>\n",
              "  <tbody>\n",
              "    <tr>\n",
              "      <td>CARBON_DIOXIDE_e2</td>\n",
              "      <td>CO2_tx2</td>\n",
              "      <td>-1.548</td>\n",
              "      <td>1</td>\n",
              "      <td>100.00%</td>\n",
              "    </tr>\n",
              "    <tr>\n",
              "      <td>WATER_e2</td>\n",
              "      <td>H2O_tx2</td>\n",
              "      <td>-2.496</td>\n",
              "      <td>0</td>\n",
              "      <td>0.00%</td>\n",
              "    </tr>\n",
              "    <tr>\n",
              "      <td>OXYGEN_MOLECULE_e1</td>\n",
              "      <td>O2_tx1</td>\n",
              "      <td>-41.59</td>\n",
              "      <td>0</td>\n",
              "      <td>0.00%</td>\n",
              "    </tr>\n",
              "  </tbody>\n",
              "</table>"
            ]
          },
          "metadata": {},
          "execution_count": 30
        }
      ]
    },
    {
      "cell_type": "markdown",
      "source": [
        "#AraGEMmodel\n",
        "## applying biomass composition from AcarCore model by de Oliveira Dal'Molin et al.,2010\n",
        "###(the sbml file is updated by adding the respective biomass composition)\n",
        "Loading the model"
      ],
      "metadata": {
        "id": "eLbEnJbMB1g2"
      }
    },
    {
      "cell_type": "code",
      "source": [
        "Core_AraGEMmodel = read_sbml_model(\"/content/drive/My Drive/protocolFBA/models/Core_AraGEM.xml\")"
      ],
      "metadata": {
        "id": "eqZRUEtyDyX_"
      },
      "execution_count": null,
      "outputs": []
    },
    {
      "cell_type": "code",
      "source": [
        "diel_model2 = setupC3DielModel(Core_AraGEMmodel,transferMets= \"\", starch_sucrose_ratio =None)"
      ],
      "metadata": {
        "id": "8edkj2EjB5X_",
        "colab": {
          "base_uri": "https://localhost:8080/"
        },
        "outputId": "81c082b6-d66d-4a67-b033-082c11406e9a"
      },
      "execution_count": null,
      "outputs": [
        {
          "output_type": "stream",
          "name": "stdout",
          "text": [
            "(0.0, 1000.0)\n",
            "(0.0, 1000.0)\n"
          ]
        }
      ]
    },
    {
      "cell_type": "code",
      "source": [
        "diel_model2.objective = diel_model2.reactions.get_by_id(\"diel_biomass\")\n",
        "solution2 = pfba(diel_model2)\n",
        "diel_model2"
      ],
      "metadata": {
        "id": "ieuH9ZZgB_He",
        "colab": {
          "base_uri": "https://localhost:8080/",
          "height": 186
        },
        "outputId": "33ca29cc-fa99-4073-cf06-d2a285e6f585"
      },
      "execution_count": null,
      "outputs": [
        {
          "output_type": "execute_result",
          "data": {
            "text/plain": [
              "<Model PlantCoreMetabolism_v2_0_0 at 0x7da0e9fa7890>"
            ],
            "text/html": [
              "\n",
              "        <table>\n",
              "            <tr>\n",
              "                <td><strong>Name</strong></td>\n",
              "                <td>PlantCoreMetabolism_v2_0_0</td>\n",
              "            </tr><tr>\n",
              "                <td><strong>Memory address</strong></td>\n",
              "                <td>7da0e9fa7890</td>\n",
              "            </tr><tr>\n",
              "                <td><strong>Number of metabolites</strong></td>\n",
              "                <td>1777</td>\n",
              "            </tr><tr>\n",
              "                <td><strong>Number of reactions</strong></td>\n",
              "                <td>1874</td>\n",
              "            </tr><tr>\n",
              "                <td><strong>Number of genes</strong></td>\n",
              "                <td>0</td>\n",
              "            </tr><tr>\n",
              "                <td><strong>Number of groups</strong></td>\n",
              "                <td>208</td>\n",
              "            </tr><tr>\n",
              "                <td><strong>Objective expression</strong></td>\n",
              "                <td>1.0*diel_biomass - 1.0*diel_biomass_reverse_79408</td>\n",
              "            </tr><tr>\n",
              "                <td><strong>Compartments</strong></td>\n",
              "                <td>m1, c1, b1, p1, v1, x1, r1, mi1, mc1, e1, l1, i1, c2, v2, e2, x2, b2, p2, m2, mi2, i2, mc2, r2, l2</td>\n",
              "            </tr>\n",
              "          </table>"
            ]
          },
          "metadata": {},
          "execution_count": 33
        }
      ]
    },
    {
      "cell_type": "code",
      "source": [
        "# constraining GPT transport reaction\n",
        "diel_model2.reactions.get_by_id(\"G6P_Pi_pc1\").lower_bound= 0\n",
        "diel_model2.reactions.get_by_id(\"G6P_Pi_pc1\").upper_bound= 0\n",
        "diel_model2.reactions.get_by_id(\"G6P_Pi_pc2\").lower_bound= 0\n",
        "diel_model2.reactions.get_by_id(\"G6P_Pi_pc2\").upper_bound= 0\n",
        "# constraining starch phosphorylation\n",
        "diel_model2.reactions.get_by_id(\"RXN_1826_p1\").lower_bound= 0\n",
        "diel_model2.reactions.get_by_id(\"RXN_1826_p1\").upper_bound= 0\n",
        "diel_model2.reactions.get_by_id(\"RXN_1826_p2\").lower_bound= 0\n",
        "diel_model2.reactions.get_by_id(\"RXN_1826_p2\").upper_bound= 0\n",
        "# Setting photon uptake\n",
        "PPFD = 500\n",
        "diel_model2.reactions.Photon_tx1.upper_bound = PPFD\n",
        "diel_model2.reactions.Photon_tx1.lower_bound = 0\n",
        "# Setting maintenance cost\n",
        "VATPase = 0.0049*PPFD+2.7851\n",
        "diel_model2.reactions.get_by_id(\"ATPase_tx1\").bounds = (VATPase,VATPase)\n",
        "# constraining sucrose accumulation to model a starch storing leaf\n",
        "diel_model2.reactions.get_by_id(\"SUCROSE_v_dielTransfer\").bounds = (0,0)\n",
        "solution2 = pfba(diel_model2)"
      ],
      "metadata": {
        "id": "ze4sZj3FCKG9"
      },
      "execution_count": null,
      "outputs": []
    },
    {
      "cell_type": "code",
      "source": [
        "diel_model2.summary()"
      ],
      "metadata": {
        "id": "3a7ZVlSdCOEQ",
        "colab": {
          "base_uri": "https://localhost:8080/",
          "height": 629
        },
        "outputId": "dd375a81-a86f-45f5-eb17-33dfc5d696fb"
      },
      "execution_count": null,
      "outputs": [
        {
          "output_type": "execute_result",
          "data": {
            "text/plain": [
              "<cobra.summary.model_summary.ModelSummary at 0x7da0ed3a1cd0>"
            ],
            "text/html": [
              "<h3>Objective</h3><p>1.0 diel_biomass = 0.35911712502902055</p><h4>Uptake</h4><table border=\"1\" class=\"dataframe\">\n",
              "  <thead>\n",
              "    <tr style=\"text-align: right;\">\n",
              "      <th>Metabolite</th>\n",
              "      <th>Reaction</th>\n",
              "      <th>Flux</th>\n",
              "      <th>C-Number</th>\n",
              "      <th>C-Flux</th>\n",
              "    </tr>\n",
              "  </thead>\n",
              "  <tbody>\n",
              "    <tr>\n",
              "      <td>CARBON_DIOXIDE_e1</td>\n",
              "      <td>CO2_tx1</td>\n",
              "      <td>29.11</td>\n",
              "      <td>1</td>\n",
              "      <td>100.00%</td>\n",
              "    </tr>\n",
              "    <tr>\n",
              "      <td>WATER_e1</td>\n",
              "      <td>H2O_tx1</td>\n",
              "      <td>25.05</td>\n",
              "      <td>0</td>\n",
              "      <td>0.00%</td>\n",
              "    </tr>\n",
              "    <tr>\n",
              "      <td>NITRATE_e1</td>\n",
              "      <td>Nitrate_tx1</td>\n",
              "      <td>2.746</td>\n",
              "      <td>0</td>\n",
              "      <td>0.00%</td>\n",
              "    </tr>\n",
              "    <tr>\n",
              "      <td>NITRATE_e2</td>\n",
              "      <td>Nitrate_tx2</td>\n",
              "      <td>1.831</td>\n",
              "      <td>0</td>\n",
              "      <td>0.00%</td>\n",
              "    </tr>\n",
              "    <tr>\n",
              "      <td>OXYGEN_MOLECULE_e2</td>\n",
              "      <td>O2_tx2</td>\n",
              "      <td>4.383</td>\n",
              "      <td>0</td>\n",
              "      <td>0.00%</td>\n",
              "    </tr>\n",
              "    <tr>\n",
              "      <td>Photon_e1</td>\n",
              "      <td>Photon_tx1</td>\n",
              "      <td>500</td>\n",
              "      <td>0</td>\n",
              "      <td>0.00%</td>\n",
              "    </tr>\n",
              "    <tr>\n",
              "      <td>Pi_e1</td>\n",
              "      <td>Pi_tx1</td>\n",
              "      <td>0.03829</td>\n",
              "      <td>0</td>\n",
              "      <td>0.00%</td>\n",
              "    </tr>\n",
              "    <tr>\n",
              "      <td>Pi_e2</td>\n",
              "      <td>Pi_tx2</td>\n",
              "      <td>0.01276</td>\n",
              "      <td>0</td>\n",
              "      <td>0.00%</td>\n",
              "    </tr>\n",
              "    <tr>\n",
              "      <td>SULFATE_e1</td>\n",
              "      <td>SO4_tx1</td>\n",
              "      <td>0.03735</td>\n",
              "      <td>0</td>\n",
              "      <td>0.00%</td>\n",
              "    </tr>\n",
              "    <tr>\n",
              "      <td>PROTON_c1</td>\n",
              "      <td>unlProtHYPO_c1</td>\n",
              "      <td>3.842</td>\n",
              "      <td>0</td>\n",
              "      <td>0.00%</td>\n",
              "    </tr>\n",
              "  </tbody>\n",
              "</table><h4>Secretion</h4><table border=\"1\" class=\"dataframe\">\n",
              "  <thead>\n",
              "    <tr style=\"text-align: right;\">\n",
              "      <th>Metabolite</th>\n",
              "      <th>Reaction</th>\n",
              "      <th>Flux</th>\n",
              "      <th>C-Number</th>\n",
              "      <th>C-Flux</th>\n",
              "    </tr>\n",
              "  </thead>\n",
              "  <tbody>\n",
              "    <tr>\n",
              "      <td>CARBON_DIOXIDE_e2</td>\n",
              "      <td>CO2_tx2</td>\n",
              "      <td>-3.251</td>\n",
              "      <td>1</td>\n",
              "      <td>100.00%</td>\n",
              "    </tr>\n",
              "    <tr>\n",
              "      <td>WATER_e2</td>\n",
              "      <td>H2O_tx2</td>\n",
              "      <td>-3.649</td>\n",
              "      <td>0</td>\n",
              "      <td>0.00%</td>\n",
              "    </tr>\n",
              "    <tr>\n",
              "      <td>OXYGEN_MOLECULE_e1</td>\n",
              "      <td>O2_tx1</td>\n",
              "      <td>-38.83</td>\n",
              "      <td>0</td>\n",
              "      <td>0.00%</td>\n",
              "    </tr>\n",
              "  </tbody>\n",
              "</table>"
            ]
          },
          "metadata": {},
          "execution_count": 35
        }
      ]
    },
    {
      "cell_type": "markdown",
      "source": [
        "#AraMetamodel\n",
        "## applying biomass composition from AcarCore model by Poolman et al.,2009\n",
        "###(the sbml file is updated by adding the respective biomass composition)\n",
        "Loading the model"
      ],
      "metadata": {
        "id": "p3tT4iEvCS62"
      }
    },
    {
      "cell_type": "code",
      "source": [
        "Core_AraMetamodel = read_sbml_model(\"/content/drive/My Drive/protocolFBA/models/Core_AraMeta.xml\")"
      ],
      "metadata": {
        "id": "XhTO4gYzEMLX"
      },
      "execution_count": null,
      "outputs": []
    },
    {
      "cell_type": "code",
      "source": [
        "diel_model3= setupC3DielModel(Core_AraMetamodel,transferMets= \"\", starch_sucrose_ratio =None)"
      ],
      "metadata": {
        "id": "j1jAyXSgDvxf",
        "colab": {
          "base_uri": "https://localhost:8080/"
        },
        "outputId": "28a8ea95-ab4d-4ffe-d9a4-6acc667f402e"
      },
      "execution_count": null,
      "outputs": [
        {
          "output_type": "stream",
          "name": "stdout",
          "text": [
            "(0.0, 1000.0)\n",
            "(0.0, 1000.0)\n"
          ]
        }
      ]
    },
    {
      "cell_type": "code",
      "source": [
        "diel_model3.objective = diel_model3.reactions.get_by_id(\"diel_biomass\")\n",
        "solution3 = pfba(diel_model3)\n",
        "diel_model3"
      ],
      "metadata": {
        "id": "ayOZaTuUCT_n",
        "colab": {
          "base_uri": "https://localhost:8080/",
          "height": 186
        },
        "outputId": "4e15ef6e-6750-4457-decb-6c6012f20438"
      },
      "execution_count": null,
      "outputs": [
        {
          "output_type": "execute_result",
          "data": {
            "text/plain": [
              "<Model PlantCoreMetabolism_v2_0_0 at 0x7da0ea758e90>"
            ],
            "text/html": [
              "\n",
              "        <table>\n",
              "            <tr>\n",
              "                <td><strong>Name</strong></td>\n",
              "                <td>PlantCoreMetabolism_v2_0_0</td>\n",
              "            </tr><tr>\n",
              "                <td><strong>Memory address</strong></td>\n",
              "                <td>7da0ea758e90</td>\n",
              "            </tr><tr>\n",
              "                <td><strong>Number of metabolites</strong></td>\n",
              "                <td>1773</td>\n",
              "            </tr><tr>\n",
              "                <td><strong>Number of reactions</strong></td>\n",
              "                <td>1874</td>\n",
              "            </tr><tr>\n",
              "                <td><strong>Number of genes</strong></td>\n",
              "                <td>0</td>\n",
              "            </tr><tr>\n",
              "                <td><strong>Number of groups</strong></td>\n",
              "                <td>208</td>\n",
              "            </tr><tr>\n",
              "                <td><strong>Objective expression</strong></td>\n",
              "                <td>1.0*diel_biomass - 1.0*diel_biomass_reverse_79408</td>\n",
              "            </tr><tr>\n",
              "                <td><strong>Compartments</strong></td>\n",
              "                <td>m1, c1, b1, p1, v1, x1, r1, mi1, mc1, e1, l1, i1, c2, v2, e2, x2, b2, p2, m2, mi2, i2, mc2, r2, l2</td>\n",
              "            </tr>\n",
              "          </table>"
            ]
          },
          "metadata": {},
          "execution_count": 38
        }
      ]
    },
    {
      "cell_type": "code",
      "source": [
        "# constraining GPT transport reaction\n",
        "diel_model3.reactions.get_by_id(\"G6P_Pi_pc1\").lower_bound= 0\n",
        "diel_model3.reactions.get_by_id(\"G6P_Pi_pc1\").upper_bound= 0\n",
        "diel_model3.reactions.get_by_id(\"G6P_Pi_pc2\").lower_bound= 0\n",
        "diel_model3.reactions.get_by_id(\"G6P_Pi_pc2\").upper_bound= 0\n",
        "# constraining starch phosphorylation\n",
        "diel_model3.reactions.get_by_id(\"RXN_1826_p1\").lower_bound= 0\n",
        "diel_model3.reactions.get_by_id(\"RXN_1826_p1\").upper_bound= 0\n",
        "diel_model3.reactions.get_by_id(\"RXN_1826_p2\").lower_bound= 0\n",
        "diel_model3.reactions.get_by_id(\"RXN_1826_p2\").upper_bound= 0\n",
        "# Setting photon uptake\n",
        "PPFD = 500\n",
        "diel_model3.reactions.Photon_tx1.upper_bound = PPFD\n",
        "diel_model3.reactions.Photon_tx1.lower_bound = 0\n",
        "# Setting maintenance cost\n",
        "VATPase = 0.0049*PPFD+2.7851\n",
        "diel_model3.reactions.get_by_id(\"ATPase_tx1\").bounds = (VATPase,VATPase)\n",
        "# constraining sucrose accumulation to model a starch storing leaf\n",
        "diel_model3.reactions.get_by_id(\"SUCROSE_v_dielTransfer\").bounds = (0,0)\n",
        "solution3 = pfba(diel_model3)"
      ],
      "metadata": {
        "id": "JG2WpZkiCYZH"
      },
      "execution_count": null,
      "outputs": []
    },
    {
      "cell_type": "code",
      "source": [
        "diel_model3.summary()"
      ],
      "metadata": {
        "id": "vR3Axl7eCa-g",
        "colab": {
          "base_uri": "https://localhost:8080/",
          "height": 629
        },
        "outputId": "6f6f4cb2-d18a-498a-d8cb-338fb4f2aecf"
      },
      "execution_count": null,
      "outputs": [
        {
          "output_type": "execute_result",
          "data": {
            "text/plain": [
              "<cobra.summary.model_summary.ModelSummary at 0x7da0ee5aa110>"
            ],
            "text/html": [
              "<h3>Objective</h3><p>1.0 diel_biomass = 0.15007997525181493</p><h4>Uptake</h4><table border=\"1\" class=\"dataframe\">\n",
              "  <thead>\n",
              "    <tr style=\"text-align: right;\">\n",
              "      <th>Metabolite</th>\n",
              "      <th>Reaction</th>\n",
              "      <th>Flux</th>\n",
              "      <th>C-Number</th>\n",
              "      <th>C-Flux</th>\n",
              "    </tr>\n",
              "  </thead>\n",
              "  <tbody>\n",
              "    <tr>\n",
              "      <td>CARBON_DIOXIDE_e1</td>\n",
              "      <td>CO2_tx1</td>\n",
              "      <td>29.51</td>\n",
              "      <td>1</td>\n",
              "      <td>100.00%</td>\n",
              "    </tr>\n",
              "    <tr>\n",
              "      <td>WATER_e1</td>\n",
              "      <td>H2O_tx1</td>\n",
              "      <td>26.1</td>\n",
              "      <td>0</td>\n",
              "      <td>0.00%</td>\n",
              "    </tr>\n",
              "    <tr>\n",
              "      <td>NITRATE_e1</td>\n",
              "      <td>Nitrate_tx1</td>\n",
              "      <td>3.086</td>\n",
              "      <td>0</td>\n",
              "      <td>0.00%</td>\n",
              "    </tr>\n",
              "    <tr>\n",
              "      <td>NITRATE_e2</td>\n",
              "      <td>Nitrate_tx2</td>\n",
              "      <td>2.057</td>\n",
              "      <td>0</td>\n",
              "      <td>0.00%</td>\n",
              "    </tr>\n",
              "    <tr>\n",
              "      <td>OXYGEN_MOLECULE_e2</td>\n",
              "      <td>O2_tx2</td>\n",
              "      <td>3.178</td>\n",
              "      <td>0</td>\n",
              "      <td>0.00%</td>\n",
              "    </tr>\n",
              "    <tr>\n",
              "      <td>Photon_e1</td>\n",
              "      <td>Photon_tx1</td>\n",
              "      <td>500</td>\n",
              "      <td>0</td>\n",
              "      <td>0.00%</td>\n",
              "    </tr>\n",
              "    <tr>\n",
              "      <td>Pi_e1</td>\n",
              "      <td>Pi_tx1</td>\n",
              "      <td>0.1977</td>\n",
              "      <td>0</td>\n",
              "      <td>0.00%</td>\n",
              "    </tr>\n",
              "    <tr>\n",
              "      <td>Pi_e2</td>\n",
              "      <td>Pi_tx2</td>\n",
              "      <td>0.06589</td>\n",
              "      <td>0</td>\n",
              "      <td>0.00%</td>\n",
              "    </tr>\n",
              "    <tr>\n",
              "      <td>SULFATE_e1</td>\n",
              "      <td>SO4_tx1</td>\n",
              "      <td>0.07924</td>\n",
              "      <td>0</td>\n",
              "      <td>0.00%</td>\n",
              "    </tr>\n",
              "    <tr>\n",
              "      <td>PROTON_c1</td>\n",
              "      <td>unlProtHYPO_c1</td>\n",
              "      <td>4.342</td>\n",
              "      <td>0</td>\n",
              "      <td>0.00%</td>\n",
              "    </tr>\n",
              "  </tbody>\n",
              "</table><h4>Secretion</h4><table border=\"1\" class=\"dataframe\">\n",
              "  <thead>\n",
              "    <tr style=\"text-align: right;\">\n",
              "      <th>Metabolite</th>\n",
              "      <th>Reaction</th>\n",
              "      <th>Flux</th>\n",
              "      <th>C-Number</th>\n",
              "      <th>C-Flux</th>\n",
              "    </tr>\n",
              "  </thead>\n",
              "  <tbody>\n",
              "    <tr>\n",
              "      <td>CARBON_DIOXIDE_e2</td>\n",
              "      <td>CO2_tx2</td>\n",
              "      <td>-2.836</td>\n",
              "      <td>1</td>\n",
              "      <td>100.00%</td>\n",
              "    </tr>\n",
              "    <tr>\n",
              "      <td>WATER_e2</td>\n",
              "      <td>H2O_tx2</td>\n",
              "      <td>-3.103</td>\n",
              "      <td>0</td>\n",
              "      <td>0.00%</td>\n",
              "    </tr>\n",
              "    <tr>\n",
              "      <td>OXYGEN_MOLECULE_e1</td>\n",
              "      <td>O2_tx1</td>\n",
              "      <td>-43.09</td>\n",
              "      <td>0</td>\n",
              "      <td>0.00%</td>\n",
              "    </tr>\n",
              "  </tbody>\n",
              "</table>"
            ]
          },
          "metadata": {},
          "execution_count": 40
        }
      ]
    },
    {
      "cell_type": "markdown",
      "source": [
        "#Comparing the results by percentage"
      ],
      "metadata": {
        "id": "tZ-o34owC4dW"
      }
    },
    {
      "cell_type": "code",
      "source": [
        "import pandas as pd\n",
        "reaction_ids = [\"CO2_tx1\", \"CO2_tx2\",\"CO2_pc1\",\"RIBULOSE_BISPHOSPHATE_CARBOXYLASE_RXN_p1\",\"PHOSPHORIBULOKINASE_RXN_p1\",\"RXN_961_p1\",\"F16ALDOLASE_RXN_p1\",\"GLYCOGENSYN_RXN_p1\",\"FERREDOXIN_NITRITE_REDUCTASE_RXN_p1\",\n",
        "                \"ASPAMINOTRANS_RXN_c1\",\"L_ASPARTATE_pc1\",\"GLY3KIN_RXN_p1\",\"GLYCERATE_GLYCOLLATE_pc1\",\"GPH_RXN_p1\",\"GLYCOLLATE_pc1\",\"2KG_MAL_pc1\",\"GAP_Pi_pc1\",\"PEPCARBOX_RXN_c1\",\"Nitrate_ec1\",\"NITRATE_vc1\",\n",
        "                \"FERREDOXIN_NITRITE_REDUCTASE_RXN_p1\",\"Glycolate_xc1\",\"RXN_969_x1\",\"GLYCINE_AMINOTRANSFERASE_RXN_x1\",\"SERINE_GLYOXYLATE_AMINOTRANSFERASE_RXN_x1\",\"GCVMULTI_RXN_m1\",\"GLYOHMETRANS_RXN_m1\",\n",
        "                \"HYDROXYPYRUVATE_REDUCTASE_RXN_NAD_x1\",\"AraCore_Biomass_tx1\",\"F16BDEPHOS_RXN_c1\",\"Starch_biomass1\",\"RXN_1827_p2\",\"MALTODEG_RXN_c2\",\"GLU6PDEHYDROG_RXN_c2\",\"GAPOXNPHOSPHN_RXN_c2\",\n",
        "                \"AraCore_Biomass_tx2\",\"2PGADEHYDRAT_RXN_c2\",\"PEPDEPHOS_RXN_c2\",\"PYRUVDEH_RXN_m2\",\"MALATE_DEH_RXN_m2\",\"CITSYN_RXN_m2\",\"STARCH_p_dielTransfer\", \"MAL_v_dielTransfer\",\"CIT_v_dielTransfer\",\"NITRATE_v_dielTransfer\"]\n",
        "\n",
        "# to take all common reactions from solution4 (reference)\n",
        "# reaction_ids = solution4.fluxes.index.tolist()\n",
        "\n",
        "flux_comparison = pd.DataFrame({\n",
        "    \"Reaction\": reaction_ids,\n",
        "    \"Core_AraCore\": [solution1.fluxes.get(rxn, 0.0) for rxn in reaction_ids],\n",
        "    \"Core_AraGEM\": [solution2.fluxes.get(rxn, 0.0) for rxn in reaction_ids],\n",
        "    \"Core_AraMeta\": [solution3.fluxes.get(rxn, 0.0) for rxn in reaction_ids],\n",
        "    \"Core_model\": [solution4.fluxes.get(rxn, 0.0) for rxn in reaction_ids]\n",
        "})\n",
        "flux_comparison[\"% Diff (Core_AraCore)\"] = 100 * (flux_comparison[\"Core_AraCore\"] - flux_comparison[\"Core_model\"]) / flux_comparison[\"Core_model\"]\n",
        "flux_comparison[\"% Diff (Core_AraGEM)\"]   = 100 * (flux_comparison[\"Core_AraGEM\"]   - flux_comparison[\"Core_model\"]) / flux_comparison[\"Core_model\"]\n",
        "flux_comparison[\"% Diff (Core_AraMeta)\"]  = 100 * (flux_comparison[\"Core_AraMeta\"]  - flux_comparison[\"Core_model\"]) / flux_comparison[\"Core_model\"]"
      ],
      "metadata": {
        "id": "UT62asUnC39n"
      },
      "execution_count": null,
      "outputs": []
    },
    {
      "cell_type": "markdown",
      "source": [
        "#comparing results with Log2Fchange"
      ],
      "metadata": {
        "id": "RXAwPv8jC7me"
      }
    },
    {
      "cell_type": "code",
      "source": [
        "import pandas as pd\n",
        "import numpy as np\n",
        "\n",
        "\n",
        "for model in [\"Core_AraCore\", \"Core_AraGEM\", \"Core_AraMeta\"]:\n",
        "    num = flux_comparison[model]\n",
        "    den = flux_comparison[\"Core_model\"]\n",
        "\n",
        "    log2fc = []\n",
        "\n",
        "    for n, d in zip(num, den):\n",
        "        if n == 0 or d == 0:\n",
        "            log2fc.append(0)  # If either flux is zero → set log2FC to 0\n",
        "        elif (n / d) < 0:\n",
        "            log2fc.append(np.nan)  # If ratio is negative → invalid → set to NaN\n",
        "        else:\n",
        "            log2fc.append(np.log2(n / d))  # Valid ratio → compute log2FC\n",
        "\n",
        "    flux_comparison[f\"Log2FC_{model}\"] = log2fc\n",
        "\n",
        "#     # Save to Excel\n",
        "# output_file = \"flux_comparison_log2FC_1.xlsx\"\n",
        "# flux_comparison.to_excel(output_file, index=False)\n"
      ],
      "metadata": {
        "id": "sc30L-mQC2BP"
      },
      "execution_count": null,
      "outputs": []
    }
  ]
}