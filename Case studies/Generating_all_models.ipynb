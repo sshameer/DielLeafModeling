{
  "nbformat": 4,
  "nbformat_minor": 0,
  "metadata": {
    "colab": {
      "provenance": []
    },
    "kernelspec": {
      "name": "python3",
      "display_name": "Python 3"
    },
    "language_info": {
      "name": "python"
    }
  },
  "cells": [
    {
      "cell_type": "markdown",
      "source": [
        "## Install cobrapy"
      ],
      "metadata": {
        "id": "L7ssPfOElXYB"
      }
    },
    {
      "cell_type": "code",
      "execution_count": 1,
      "metadata": {
        "colab": {
          "base_uri": "https://localhost:8080/"
        },
        "id": "s7A4v4ob-ZUK",
        "outputId": "af34a188-e602-4f7e-9ddb-16e76b2c167b"
      },
      "outputs": [
        {
          "output_type": "stream",
          "name": "stdout",
          "text": [
            "\u001b[?25l   \u001b[90m━━━━━━━━━━━━━━━━━━━━━━━━━━━━━━━━━━━━━━━━\u001b[0m \u001b[32m0.0/1.2 MB\u001b[0m \u001b[31m?\u001b[0m eta \u001b[36m-:--:--\u001b[0m\r\u001b[2K   \u001b[91m━━━━━━━━━━━━━━\u001b[0m\u001b[90m╺\u001b[0m\u001b[90m━━━━━━━━━━━━━━━━━━━━━━━━━\u001b[0m \u001b[32m0.4/1.2 MB\u001b[0m \u001b[31m12.4 MB/s\u001b[0m eta \u001b[36m0:00:01\u001b[0m\r\u001b[2K   \u001b[91m━━━━━━━━━━━━━━━━━━━━━━━━━━━━━━━━━━━━━━━\u001b[0m\u001b[91m╸\u001b[0m \u001b[32m1.2/1.2 MB\u001b[0m \u001b[31m21.3 MB/s\u001b[0m eta \u001b[36m0:00:01\u001b[0m\r\u001b[2K   \u001b[90m━━━━━━━━━━━━━━━━━━━━━━━━━━━━━━━━━━━━━━━━\u001b[0m \u001b[32m1.2/1.2 MB\u001b[0m \u001b[31m15.5 MB/s\u001b[0m eta \u001b[36m0:00:00\u001b[0m\n",
            "\u001b[2K   \u001b[90m━━━━━━━━━━━━━━━━━━━━━━━━━━━━━━━━━━━━━━━━\u001b[0m \u001b[32m45.5/45.5 kB\u001b[0m \u001b[31m2.6 MB/s\u001b[0m eta \u001b[36m0:00:00\u001b[0m\n",
            "\u001b[2K   \u001b[90m━━━━━━━━━━━━━━━━━━━━━━━━━━━━━━━━━━━━━━━━\u001b[0m \u001b[32m141.8/141.8 kB\u001b[0m \u001b[31m8.9 MB/s\u001b[0m eta \u001b[36m0:00:00\u001b[0m\n",
            "\u001b[2K   \u001b[90m━━━━━━━━━━━━━━━━━━━━━━━━━━━━━━━━━━━━━━━━\u001b[0m \u001b[32m8.0/8.0 MB\u001b[0m \u001b[31m66.3 MB/s\u001b[0m eta \u001b[36m0:00:00\u001b[0m\n",
            "\u001b[2K   \u001b[90m━━━━━━━━━━━━━━━━━━━━━━━━━━━━━━━━━━━━━━━━\u001b[0m \u001b[32m117.7/117.7 kB\u001b[0m \u001b[31m7.9 MB/s\u001b[0m eta \u001b[36m0:00:00\u001b[0m\n",
            "\u001b[2K   \u001b[90m━━━━━━━━━━━━━━━━━━━━━━━━━━━━━━━━━━━━━━━━\u001b[0m \u001b[32m2.3/2.3 MB\u001b[0m \u001b[31m33.0 MB/s\u001b[0m eta \u001b[36m0:00:00\u001b[0m\n",
            "\u001b[2K   \u001b[90m━━━━━━━━━━━━━━━━━━━━━━━━━━━━━━━━━━━━━━━━\u001b[0m \u001b[32m739.1/739.1 kB\u001b[0m \u001b[31m39.1 MB/s\u001b[0m eta \u001b[36m0:00:00\u001b[0m\n",
            "\u001b[?25h"
          ]
        }
      ],
      "source": [
        "%pip install cobra --quiet\n"
      ]
    },
    {
      "cell_type": "markdown",
      "source": [
        "## Import PlantCoreMetabolism 2.0 model and some custom python functions from Github"
      ],
      "metadata": {
        "id": "ay2YZgoQlqtD"
      }
    },
    {
      "cell_type": "code",
      "source": [
        "!wget -q https://raw.githubusercontent.com/sshameer/DielLeafModeling/refs/heads/main/PlantCoreMetabolism_v2_0_0.xml\n",
        "!wget -q https://raw.githubusercontent.com/sshameer/DielLeafModeling/refs/heads/main/Functions.py"
      ],
      "metadata": {
        "id": "5tOb7EhAl3Ck"
      },
      "execution_count": 3,
      "outputs": []
    },
    {
      "cell_type": "markdown",
      "source": [
        "## Import functions required to read sbml, write sbml and perform pFBA"
      ],
      "metadata": {
        "id": "NYLhKCZHmArj"
      }
    },
    {
      "cell_type": "code",
      "source": [
        "from cobra.io import read_sbml_model\n",
        "from cobra.io import write_sbml_model\n",
        "from cobra.flux_analysis import pfba"
      ],
      "metadata": {
        "id": "3Q4XrzDc-d16"
      },
      "execution_count": null,
      "outputs": []
    },
    {
      "cell_type": "markdown",
      "source": [
        "## Generate a C3 diel leaf model from the PlantCoreMetabolism model"
      ],
      "metadata": {
        "id": "fy6acVEQmPNU"
      }
    },
    {
      "cell_type": "code",
      "source": [
        "from Functions import setupC3DielModel"
      ],
      "metadata": {
        "id": "JrxgRwQzHrBX"
      },
      "execution_count": 4,
      "outputs": []
    },
    {
      "cell_type": "code",
      "source": [
        "# creating the c3model\n",
        "model = read_sbml_model(\"PlantCoreMetabolism_v2_0_0.xml\")\n",
        "C3_model = setupC3DielModel(model)\n",
        "C3_model.objective = \"diel_biomass\"\n",
        "\n",
        "C3sol = pfba(C3_model)"
      ],
      "metadata": {
        "id": "C3yH43tLHIn0"
      },
      "execution_count": null,
      "outputs": []
    },
    {
      "cell_type": "code",
      "source": [
        "C3_model.summary()"
      ],
      "metadata": {
        "colab": {
          "base_uri": "https://localhost:8080/",
          "height": 566
        },
        "id": "zdpyLlkqMDAe",
        "outputId": "334bf5c2-2f99-4c25-db33-1add36f38dca"
      },
      "execution_count": null,
      "outputs": [
        {
          "output_type": "execute_result",
          "data": {
            "text/plain": [
              "<cobra.summary.model_summary.ModelSummary at 0x7a840bbb0cd0>"
            ],
            "text/html": [
              "<h3>Objective</h3><p>1.0 diel_biomass = 1.7751605007533209</p><h4>Uptake</h4><table border=\"1\" class=\"dataframe\">\n",
              "  <thead>\n",
              "    <tr style=\"text-align: right;\">\n",
              "      <th>Metabolite</th>\n",
              "      <th>Reaction</th>\n",
              "      <th>Flux</th>\n",
              "      <th>C-Number</th>\n",
              "      <th>C-Flux</th>\n",
              "    </tr>\n",
              "  </thead>\n",
              "  <tbody>\n",
              "    <tr>\n",
              "      <td>CARBON_DIOXIDE_e1</td>\n",
              "      <td>CO2_tx1</td>\n",
              "      <td>71.84</td>\n",
              "      <td>1</td>\n",
              "      <td>100.00%</td>\n",
              "    </tr>\n",
              "    <tr>\n",
              "      <td>WATER_e1</td>\n",
              "      <td>H2O_tx1</td>\n",
              "      <td>66.04</td>\n",
              "      <td>0</td>\n",
              "      <td>0.00%</td>\n",
              "    </tr>\n",
              "    <tr>\n",
              "      <td>NITRATE_e1</td>\n",
              "      <td>Nitrate_tx1</td>\n",
              "      <td>0.4666</td>\n",
              "      <td>0</td>\n",
              "      <td>0.00%</td>\n",
              "    </tr>\n",
              "    <tr>\n",
              "      <td>NITRATE_e2</td>\n",
              "      <td>Nitrate_tx2</td>\n",
              "      <td>0.3111</td>\n",
              "      <td>0</td>\n",
              "      <td>0.00%</td>\n",
              "    </tr>\n",
              "    <tr>\n",
              "      <td>OXYGEN_MOLECULE_e2</td>\n",
              "      <td>O2_tx2</td>\n",
              "      <td>0.5311</td>\n",
              "      <td>0</td>\n",
              "      <td>0.00%</td>\n",
              "    </tr>\n",
              "    <tr>\n",
              "      <td>Photon_e1</td>\n",
              "      <td>Photon_tx1</td>\n",
              "      <td>1000</td>\n",
              "      <td>0</td>\n",
              "      <td>0.00%</td>\n",
              "    </tr>\n",
              "    <tr>\n",
              "      <td>SULFATE_e1</td>\n",
              "      <td>SO4_tx1</td>\n",
              "      <td>0.005946</td>\n",
              "      <td>0</td>\n",
              "      <td>0.00%</td>\n",
              "    </tr>\n",
              "    <tr>\n",
              "      <td>PROTON_c1</td>\n",
              "      <td>unlProtHYPO_c1</td>\n",
              "      <td>0.6772</td>\n",
              "      <td>0</td>\n",
              "      <td>0.00%</td>\n",
              "    </tr>\n",
              "  </tbody>\n",
              "</table><h4>Secretion</h4><table border=\"1\" class=\"dataframe\">\n",
              "  <thead>\n",
              "    <tr style=\"text-align: right;\">\n",
              "      <th>Metabolite</th>\n",
              "      <th>Reaction</th>\n",
              "      <th>Flux</th>\n",
              "      <th>C-Number</th>\n",
              "      <th>C-Flux</th>\n",
              "    </tr>\n",
              "  </thead>\n",
              "  <tbody>\n",
              "    <tr>\n",
              "      <td>CARBON_DIOXIDE_e2</td>\n",
              "      <td>CO2_tx2</td>\n",
              "      <td>-0.2815</td>\n",
              "      <td>1</td>\n",
              "      <td>100.00%</td>\n",
              "    </tr>\n",
              "    <tr>\n",
              "      <td>WATER_e2</td>\n",
              "      <td>H2O_tx2</td>\n",
              "      <td>-0.2059</td>\n",
              "      <td>0</td>\n",
              "      <td>0.00%</td>\n",
              "    </tr>\n",
              "    <tr>\n",
              "      <td>OXYGEN_MOLECULE_e1</td>\n",
              "      <td>O2_tx1</td>\n",
              "      <td>-73.58</td>\n",
              "      <td>0</td>\n",
              "      <td>0.00%</td>\n",
              "    </tr>\n",
              "  </tbody>\n",
              "</table>"
            ]
          },
          "metadata": {},
          "execution_count": 16
        }
      ]
    },
    {
      "cell_type": "code",
      "source": [
        "solution = pfba(C3_model)\n",
        "write_sbml_model(C3_model, \"C3.sbml\")"
      ],
      "metadata": {
        "id": "-ZdRL19iMJ1V"
      },
      "execution_count": null,
      "outputs": []
    },
    {
      "cell_type": "markdown",
      "source": [
        "## Generate a C4 model diel leaf model from the PlantCoreMetabolism model"
      ],
      "metadata": {
        "id": "RY_KSpqRmj92"
      }
    },
    {
      "cell_type": "code",
      "source": [
        "# creating the C4 model\n",
        "from Functions import setupC4DielModel\n",
        "C4_model = setupC4DielModel(model)\n",
        "C4sol = pfba(C4_model)"
      ],
      "metadata": {
        "id": "Q3nALQEVMcWW"
      },
      "execution_count": null,
      "outputs": []
    },
    {
      "cell_type": "code",
      "source": [
        "C4_model.summary()"
      ],
      "metadata": {
        "colab": {
          "base_uri": "https://localhost:8080/",
          "height": 692
        },
        "id": "9GDfdk6EM6s9",
        "outputId": "15d17a37-deeb-470f-f368-8e45328c22fd"
      },
      "execution_count": null,
      "outputs": [
        {
          "output_type": "execute_result",
          "data": {
            "text/plain": [
              "<cobra.summary.model_summary.ModelSummary at 0x7a8406edb1d0>"
            ],
            "text/html": [
              "<h3>Objective</h3><p>1.0 AraCore_Biomass_tx1 + 1.0 Total_Phloem_output_tx = 18.919805573879707</p><h4>Uptake</h4><table border=\"1\" class=\"dataframe\">\n",
              "  <thead>\n",
              "    <tr style=\"text-align: right;\">\n",
              "      <th>Metabolite</th>\n",
              "      <th>Reaction</th>\n",
              "      <th>Flux</th>\n",
              "      <th>C-Number</th>\n",
              "      <th>C-Flux</th>\n",
              "    </tr>\n",
              "  </thead>\n",
              "  <tbody>\n",
              "    <tr>\n",
              "      <td>CARBON_DIOXIDE_e1</td>\n",
              "      <td>CO2_tx1</td>\n",
              "      <td>191.7</td>\n",
              "      <td>1</td>\n",
              "      <td>100.00%</td>\n",
              "    </tr>\n",
              "    <tr>\n",
              "      <td>WATER_e1</td>\n",
              "      <td>H2O_tx1</td>\n",
              "      <td>194.6</td>\n",
              "      <td>0</td>\n",
              "      <td>0.00%</td>\n",
              "    </tr>\n",
              "    <tr>\n",
              "      <td>NITRATE_e1</td>\n",
              "      <td>Nitrate_tx1</td>\n",
              "      <td>1.243</td>\n",
              "      <td>0</td>\n",
              "      <td>0.00%</td>\n",
              "    </tr>\n",
              "    <tr>\n",
              "      <td>NITRATE_e2</td>\n",
              "      <td>Nitrate_tx2</td>\n",
              "      <td>0.8014</td>\n",
              "      <td>0</td>\n",
              "      <td>0.00%</td>\n",
              "    </tr>\n",
              "    <tr>\n",
              "      <td>NITRATE_e4</td>\n",
              "      <td>Nitrate_tx4</td>\n",
              "      <td>0.02745</td>\n",
              "      <td>0</td>\n",
              "      <td>0.00%</td>\n",
              "    </tr>\n",
              "    <tr>\n",
              "      <td>OXYGEN_MOLECULE_e4</td>\n",
              "      <td>O2_tx4</td>\n",
              "      <td>1.304</td>\n",
              "      <td>0</td>\n",
              "      <td>0.00%</td>\n",
              "    </tr>\n",
              "    <tr>\n",
              "      <td>Photon_e1</td>\n",
              "      <td>Photon_tx1</td>\n",
              "      <td>1000</td>\n",
              "      <td>0</td>\n",
              "      <td>0.00%</td>\n",
              "    </tr>\n",
              "    <tr>\n",
              "      <td>Photon_e3</td>\n",
              "      <td>Photon_tx3</td>\n",
              "      <td>1000</td>\n",
              "      <td>0</td>\n",
              "      <td>0.00%</td>\n",
              "    </tr>\n",
              "    <tr>\n",
              "      <td>SULFATE_e1</td>\n",
              "      <td>SO4_tx1</td>\n",
              "      <td>0.01584</td>\n",
              "      <td>0</td>\n",
              "      <td>0.00%</td>\n",
              "    </tr>\n",
              "    <tr>\n",
              "      <td>PROTON_c1</td>\n",
              "      <td>unlProtHYPO_c1</td>\n",
              "      <td>1.805</td>\n",
              "      <td>0</td>\n",
              "      <td>0.00%</td>\n",
              "    </tr>\n",
              "  </tbody>\n",
              "</table><h4>Secretion</h4><table border=\"1\" class=\"dataframe\">\n",
              "  <thead>\n",
              "    <tr style=\"text-align: right;\">\n",
              "      <th>Metabolite</th>\n",
              "      <th>Reaction</th>\n",
              "      <th>Flux</th>\n",
              "      <th>C-Number</th>\n",
              "      <th>C-Flux</th>\n",
              "    </tr>\n",
              "  </thead>\n",
              "  <tbody>\n",
              "    <tr>\n",
              "      <td>CARBON_DIOXIDE_e2</td>\n",
              "      <td>CO2_tx2</td>\n",
              "      <td>-1.015</td>\n",
              "      <td>1</td>\n",
              "      <td>100.00%</td>\n",
              "    </tr>\n",
              "    <tr>\n",
              "      <td>WATER_e3</td>\n",
              "      <td>H2O_tx3</td>\n",
              "      <td>-18.23</td>\n",
              "      <td>0</td>\n",
              "      <td>0.00%</td>\n",
              "    </tr>\n",
              "    <tr>\n",
              "      <td>WATER_e4</td>\n",
              "      <td>H2O_tx4</td>\n",
              "      <td>-0.9456</td>\n",
              "      <td>0</td>\n",
              "      <td>0.00%</td>\n",
              "    </tr>\n",
              "    <tr>\n",
              "      <td>OXYGEN_MOLECULE_e1</td>\n",
              "      <td>O2_tx1</td>\n",
              "      <td>-125</td>\n",
              "      <td>0</td>\n",
              "      <td>0.00%</td>\n",
              "    </tr>\n",
              "    <tr>\n",
              "      <td>OXYGEN_MOLECULE_e3</td>\n",
              "      <td>O2_tx3</td>\n",
              "      <td>-70.95</td>\n",
              "      <td>0</td>\n",
              "      <td>0.00%</td>\n",
              "    </tr>\n",
              "  </tbody>\n",
              "</table>"
            ]
          },
          "metadata": {},
          "execution_count": 19
        }
      ]
    },
    {
      "cell_type": "code",
      "source": [
        "solution = pfba(C4_model)\n",
        "write_sbml_model(C4_model, \"C4.sbml\")"
      ],
      "metadata": {
        "id": "48FhhpGFNo4l"
      },
      "execution_count": null,
      "outputs": []
    }
  ]
}