{
  "nbformat": 4,
  "nbformat_minor": 0,
  "metadata": {
    "colab": {
      "provenance": []
    },
    "kernelspec": {
      "name": "python3",
      "display_name": "Python 3"
    },
    "language_info": {
      "name": "python"
    }
  },
  "cells": [
    {
      "cell_type": "markdown",
      "source": [
        "#**Generating diel leaf of C3 and C4 models**"
      ],
      "metadata": {
        "id": "_OxEOlNIkOoc"
      }
    },
    {
      "cell_type": "markdown",
      "source": [
        "This part of the study discusses about how to generate sbml file for diel leaf of C3 and C4 models using the PlantCoreMetabolism model and some functions."
      ],
      "metadata": {
        "id": "0DXrHEOAkztj"
      }
    },
    {
      "cell_type": "markdown",
      "source": [
        "# **Part:1 Gnerating C3 diel leaf model**"
      ],
      "metadata": {
        "id": "y-WY29ClllE0"
      }
    },
    {
      "cell_type": "markdown",
      "source": [
        "#Step:1 Install cobrapy\n",
        "\n",
        "*   Run `%pip install cobra` to install cobrapy"
      ],
      "metadata": {
        "id": "L7ssPfOElXYB"
      }
    },
    {
      "cell_type": "code",
      "execution_count": 1,
      "metadata": {
        "colab": {
          "base_uri": "https://localhost:8080/"
        },
        "id": "s7A4v4ob-ZUK",
        "outputId": "3e1786a4-474b-49e9-d6c5-03c8ca142c92"
      },
      "outputs": [
        {
          "output_type": "stream",
          "name": "stdout",
          "text": [
            "\u001b[2K   \u001b[90m━━━━━━━━━━━━━━━━━━━━━━━━━━━━━━━━━━━━━━━━\u001b[0m \u001b[32m1.2/1.2 MB\u001b[0m \u001b[31m24.0 MB/s\u001b[0m eta \u001b[36m0:00:00\u001b[0m\n",
            "\u001b[2K   \u001b[90m━━━━━━━━━━━━━━━━━━━━━━━━━━━━━━━━━━━━━━━━\u001b[0m \u001b[32m45.5/45.5 kB\u001b[0m \u001b[31m3.0 MB/s\u001b[0m eta \u001b[36m0:00:00\u001b[0m\n",
            "\u001b[2K   \u001b[90m━━━━━━━━━━━━━━━━━━━━━━━━━━━━━━━━━━━━━━━━\u001b[0m \u001b[32m141.8/141.8 kB\u001b[0m \u001b[31m10.3 MB/s\u001b[0m eta \u001b[36m0:00:00\u001b[0m\n",
            "\u001b[2K   \u001b[90m━━━━━━━━━━━━━━━━━━━━━━━━━━━━━━━━━━━━━━━━\u001b[0m \u001b[32m8.1/8.1 MB\u001b[0m \u001b[31m47.5 MB/s\u001b[0m eta \u001b[36m0:00:00\u001b[0m\n",
            "\u001b[2K   \u001b[90m━━━━━━━━━━━━━━━━━━━━━━━━━━━━━━━━━━━━━━━━\u001b[0m \u001b[32m117.7/117.7 kB\u001b[0m \u001b[31m6.1 MB/s\u001b[0m eta \u001b[36m0:00:00\u001b[0m\n",
            "\u001b[2K   \u001b[90m━━━━━━━━━━━━━━━━━━━━━━━━━━━━━━━━━━━━━━━━\u001b[0m \u001b[32m2.3/2.3 MB\u001b[0m \u001b[31m53.0 MB/s\u001b[0m eta \u001b[36m0:00:00\u001b[0m\n",
            "\u001b[2K   \u001b[90m━━━━━━━━━━━━━━━━━━━━━━━━━━━━━━━━━━━━━━━━\u001b[0m \u001b[32m739.1/739.1 kB\u001b[0m \u001b[31m15.8 MB/s\u001b[0m eta \u001b[36m0:00:00\u001b[0m\n",
            "\u001b[?25h"
          ]
        }
      ],
      "source": [
        "%pip install cobra --quiet"
      ]
    },
    {
      "cell_type": "markdown",
      "source": [
        "#Step:2  Import PlantCoreMetabolism 2.0 model and some custom python functions from Github\n",
        "*   Use wget using the syntax `!wget link-to-file` to retrieve the models and functions required for this analysis\n",
        "*  The given ` https:` link will get the  C3 diel leaf model from the github repository"
      ],
      "metadata": {
        "id": "ay2YZgoQlqtD"
      }
    },
    {
      "cell_type": "code",
      "source": [
        "!wget -q https://github.com/sshameer/DielLeafModeling/raw/refs/heads/main/Models/PlantCoreMetabolism_v2_0_0.xml\n",
        "!wget -q https://github.com/sshameer/DielLeafModeling/raw/refs/heads/main/Functions.py"
      ],
      "metadata": {
        "id": "5tOb7EhAl3Ck"
      },
      "execution_count": 2,
      "outputs": []
    },
    {
      "cell_type": "markdown",
      "source": [
        "#Step: 3 Import functions required to read sbml, write sbml and perform pFBA\n",
        "*   A cobra model can be generated from an SBML file using the` read_sbml_model`\n",
        "function in the cobrapy io module\n",
        "*   pFBA can be performed using the pfba package in the cobrapy `flux_analysis` module"
      ],
      "metadata": {
        "id": "NYLhKCZHmArj"
      }
    },
    {
      "cell_type": "code",
      "source": [
        "from cobra.io import read_sbml_model\n",
        "from cobra.io import write_sbml_model\n",
        "from cobra.flux_analysis import pfba"
      ],
      "metadata": {
        "id": "3Q4XrzDc-d16"
      },
      "execution_count": 3,
      "outputs": []
    },
    {
      "cell_type": "markdown",
      "source": [
        "#Step:4 Generate a C3 diel leaf model from the PlantCoreMetabolism model\n",
        "* Use the SetupC3DielModel for making making C3 diel leaf, which is retrieved from the functions file in github repository\n",
        "* The syntax for loading the model is `model_name = read_sbml_model(file_name)`\n",
        "* making the PlantCoreMetabolism to C3 diel leaf model by using the syntax `C3_model = setupC3DielModel(model)`.\n",
        "* User can replace model with their model so the general function is `C3_model\n",
        "setupC3DielModel(model_name)`\n",
        "*  The syntax is `solution_name = pfba(model_name)`\n",
        "*  The solution object has an attribute fluxes which containts a dictionary of all fluxes"
      ],
      "metadata": {
        "id": "FzMsUfHvn-LL"
      }
    },
    {
      "cell_type": "code",
      "source": [
        "# creating the c3model\n",
        "from Functions import setupC3DielModel\n",
        "model = read_sbml_model(\"PlantCoreMetabolism_v2_0_0.xml\")\n",
        "C3_model = setupC3DielModel(model)\n",
        "C3_model.objective = \"diel_biomass\"\n",
        "\n",
        "C3sol = pfba(C3_model)"
      ],
      "metadata": {
        "id": "C3yH43tLHIn0"
      },
      "execution_count": 4,
      "outputs": []
    },
    {
      "cell_type": "markdown",
      "source": [
        "#Step:5 get the summary of the model after optimization\n",
        "* Run the syntax `model_name.summary()` for getting the summary of the model"
      ],
      "metadata": {
        "id": "YLgNiM2dqBOU"
      }
    },
    {
      "cell_type": "code",
      "source": [
        "C3_model.summary()"
      ],
      "metadata": {
        "colab": {
          "base_uri": "https://localhost:8080/",
          "height": 566
        },
        "id": "zdpyLlkqMDAe",
        "outputId": "261c7711-68df-4ed8-980f-1fe8efc9cd03"
      },
      "execution_count": 5,
      "outputs": [
        {
          "output_type": "execute_result",
          "data": {
            "text/plain": [
              "<cobra.summary.model_summary.ModelSummary at 0x7ad51ff7fb90>"
            ],
            "text/html": [
              "<h3>Objective</h3><p>1.0 diel_biomass = 1.7751605007533149</p><h4>Uptake</h4><table border=\"1\" class=\"dataframe\">\n",
              "  <thead>\n",
              "    <tr style=\"text-align: right;\">\n",
              "      <th>Metabolite</th>\n",
              "      <th>Reaction</th>\n",
              "      <th>Flux</th>\n",
              "      <th>C-Number</th>\n",
              "      <th>C-Flux</th>\n",
              "    </tr>\n",
              "  </thead>\n",
              "  <tbody>\n",
              "    <tr>\n",
              "      <td>CARBON_DIOXIDE_e1</td>\n",
              "      <td>CO2_tx1</td>\n",
              "      <td>71.84</td>\n",
              "      <td>1</td>\n",
              "      <td>100.00%</td>\n",
              "    </tr>\n",
              "    <tr>\n",
              "      <td>WATER_e1</td>\n",
              "      <td>H2O_tx1</td>\n",
              "      <td>66.04</td>\n",
              "      <td>0</td>\n",
              "      <td>0.00%</td>\n",
              "    </tr>\n",
              "    <tr>\n",
              "      <td>NITRATE_e1</td>\n",
              "      <td>Nitrate_tx1</td>\n",
              "      <td>0.4666</td>\n",
              "      <td>0</td>\n",
              "      <td>0.00%</td>\n",
              "    </tr>\n",
              "    <tr>\n",
              "      <td>NITRATE_e2</td>\n",
              "      <td>Nitrate_tx2</td>\n",
              "      <td>0.3111</td>\n",
              "      <td>0</td>\n",
              "      <td>0.00%</td>\n",
              "    </tr>\n",
              "    <tr>\n",
              "      <td>OXYGEN_MOLECULE_e2</td>\n",
              "      <td>O2_tx2</td>\n",
              "      <td>0.5311</td>\n",
              "      <td>0</td>\n",
              "      <td>0.00%</td>\n",
              "    </tr>\n",
              "    <tr>\n",
              "      <td>Photon_e1</td>\n",
              "      <td>Photon_tx1</td>\n",
              "      <td>1000</td>\n",
              "      <td>0</td>\n",
              "      <td>0.00%</td>\n",
              "    </tr>\n",
              "    <tr>\n",
              "      <td>SULFATE_e1</td>\n",
              "      <td>SO4_tx1</td>\n",
              "      <td>0.005946</td>\n",
              "      <td>0</td>\n",
              "      <td>0.00%</td>\n",
              "    </tr>\n",
              "    <tr>\n",
              "      <td>PROTON_c1</td>\n",
              "      <td>unlProtHYPO_c1</td>\n",
              "      <td>0.6772</td>\n",
              "      <td>0</td>\n",
              "      <td>0.00%</td>\n",
              "    </tr>\n",
              "  </tbody>\n",
              "</table><h4>Secretion</h4><table border=\"1\" class=\"dataframe\">\n",
              "  <thead>\n",
              "    <tr style=\"text-align: right;\">\n",
              "      <th>Metabolite</th>\n",
              "      <th>Reaction</th>\n",
              "      <th>Flux</th>\n",
              "      <th>C-Number</th>\n",
              "      <th>C-Flux</th>\n",
              "    </tr>\n",
              "  </thead>\n",
              "  <tbody>\n",
              "    <tr>\n",
              "      <td>CARBON_DIOXIDE_e2</td>\n",
              "      <td>CO2_tx2</td>\n",
              "      <td>-0.2815</td>\n",
              "      <td>1</td>\n",
              "      <td>100.00%</td>\n",
              "    </tr>\n",
              "    <tr>\n",
              "      <td>WATER_e2</td>\n",
              "      <td>H2O_tx2</td>\n",
              "      <td>-0.2059</td>\n",
              "      <td>0</td>\n",
              "      <td>0.00%</td>\n",
              "    </tr>\n",
              "    <tr>\n",
              "      <td>OXYGEN_MOLECULE_e1</td>\n",
              "      <td>O2_tx1</td>\n",
              "      <td>-73.58</td>\n",
              "      <td>0</td>\n",
              "      <td>0.00%</td>\n",
              "    </tr>\n",
              "  </tbody>\n",
              "</table>"
            ]
          },
          "metadata": {},
          "execution_count": 5
        }
      ]
    },
    {
      "cell_type": "markdown",
      "source": [
        "# Step:6 optimization an generating sbml file\n",
        "Generating the sbml file for the model by the function `write_sbml_model(model_name, \"model_name.sbml\")`"
      ],
      "metadata": {
        "id": "sgrGCrRBqmfk"
      }
    },
    {
      "cell_type": "code",
      "source": [
        "#running pfba\n",
        "solution = pfba(C3_model)\n",
        "write_sbml_model(C3_model, \"C3.sbml\")"
      ],
      "metadata": {
        "id": "-ZdRL19iMJ1V"
      },
      "execution_count": 6,
      "outputs": []
    },
    {
      "cell_type": "markdown",
      "source": [
        "#**Part:2** Gnerating C4 diel leaf model**\n"
      ],
      "metadata": {
        "id": "RY_KSpqRmj92"
      }
    },
    {
      "cell_type": "markdown",
      "source": [
        "#Step:1 Generate a C3 diel leaf model from the PlantCoreMetabolism model\n",
        "*  Use the SetupC4DielModel for making making C4 diel leaf, which is retrieved from the functions file in github repository\n",
        "* making the PlantCoreMetabolism to C4 diel leaf model by using the syntax `C4_model = setupC4DielModel(model)`\n",
        "* User can replace model with their model so the general function is `C4_model\n",
        "setupC4DielModel(model_name)`\n",
        "*  The syntax is `solution_name = pfba(model_name)`\n",
        "*  The solution object has an attribute fluxes which containts a dictionary of all fluxes"
      ],
      "metadata": {
        "id": "eq1V2uFYsEeU"
      }
    },
    {
      "cell_type": "code",
      "source": [
        "# creating the C4 model\n",
        "from Functions import setupC4DielModel\n",
        "C4_model = setupC4DielModel(model)\n",
        "C4sol = pfba(C4_model)"
      ],
      "metadata": {
        "id": "Q3nALQEVMcWW"
      },
      "execution_count": 7,
      "outputs": []
    },
    {
      "cell_type": "markdown",
      "source": [
        "#Step:2 get the summary of the model after optimization\n",
        "* Run the syntax `model_name.summary()` for getting the summary of the model"
      ],
      "metadata": {
        "id": "47TYLw-utk5s"
      }
    },
    {
      "cell_type": "code",
      "source": [
        "C4_model.summary()"
      ],
      "metadata": {
        "colab": {
          "base_uri": "https://localhost:8080/",
          "height": 692
        },
        "id": "9GDfdk6EM6s9",
        "outputId": "7085f66d-28c2-4c78-9cf9-7bbda00c2ad5"
      },
      "execution_count": 8,
      "outputs": [
        {
          "output_type": "execute_result",
          "data": {
            "text/plain": [
              "<cobra.summary.model_summary.ModelSummary at 0x7ad51c701110>"
            ],
            "text/html": [
              "<h3>Objective</h3><p>1.0 AraCore_Biomass_tx1 + 1.0 Total_Phloem_output_tx = 18.919805573879664</p><h4>Uptake</h4><table border=\"1\" class=\"dataframe\">\n",
              "  <thead>\n",
              "    <tr style=\"text-align: right;\">\n",
              "      <th>Metabolite</th>\n",
              "      <th>Reaction</th>\n",
              "      <th>Flux</th>\n",
              "      <th>C-Number</th>\n",
              "      <th>C-Flux</th>\n",
              "    </tr>\n",
              "  </thead>\n",
              "  <tbody>\n",
              "    <tr>\n",
              "      <td>CARBON_DIOXIDE_e1</td>\n",
              "      <td>CO2_tx1</td>\n",
              "      <td>191.7</td>\n",
              "      <td>1</td>\n",
              "      <td>100.00%</td>\n",
              "    </tr>\n",
              "    <tr>\n",
              "      <td>WATER_e1</td>\n",
              "      <td>H2O_tx1</td>\n",
              "      <td>176.4</td>\n",
              "      <td>0</td>\n",
              "      <td>0.00%</td>\n",
              "    </tr>\n",
              "    <tr>\n",
              "      <td>WATER_e2</td>\n",
              "      <td>H2O_tx2</td>\n",
              "      <td>3.971</td>\n",
              "      <td>0</td>\n",
              "      <td>0.00%</td>\n",
              "    </tr>\n",
              "    <tr>\n",
              "      <td>NITRATE_e1</td>\n",
              "      <td>Nitrate_tx1</td>\n",
              "      <td>1.243</td>\n",
              "      <td>0</td>\n",
              "      <td>0.00%</td>\n",
              "    </tr>\n",
              "    <tr>\n",
              "      <td>NITRATE_e2</td>\n",
              "      <td>Nitrate_tx2</td>\n",
              "      <td>0.8014</td>\n",
              "      <td>0</td>\n",
              "      <td>0.00%</td>\n",
              "    </tr>\n",
              "    <tr>\n",
              "      <td>NITRATE_e4</td>\n",
              "      <td>Nitrate_tx4</td>\n",
              "      <td>0.02745</td>\n",
              "      <td>0</td>\n",
              "      <td>0.00%</td>\n",
              "    </tr>\n",
              "    <tr>\n",
              "      <td>OXYGEN_MOLECULE_e4</td>\n",
              "      <td>O2_tx4</td>\n",
              "      <td>1.304</td>\n",
              "      <td>0</td>\n",
              "      <td>0.00%</td>\n",
              "    </tr>\n",
              "    <tr>\n",
              "      <td>Photon_e1</td>\n",
              "      <td>Photon_tx1</td>\n",
              "      <td>1000</td>\n",
              "      <td>0</td>\n",
              "      <td>0.00%</td>\n",
              "    </tr>\n",
              "    <tr>\n",
              "      <td>Photon_e3</td>\n",
              "      <td>Photon_tx3</td>\n",
              "      <td>1000</td>\n",
              "      <td>0</td>\n",
              "      <td>0.00%</td>\n",
              "    </tr>\n",
              "    <tr>\n",
              "      <td>SULFATE_e1</td>\n",
              "      <td>SO4_tx1</td>\n",
              "      <td>0.01584</td>\n",
              "      <td>0</td>\n",
              "      <td>0.00%</td>\n",
              "    </tr>\n",
              "    <tr>\n",
              "      <td>PROTON_c1</td>\n",
              "      <td>unlProtHYPO_c1</td>\n",
              "      <td>1.805</td>\n",
              "      <td>0</td>\n",
              "      <td>0.00%</td>\n",
              "    </tr>\n",
              "  </tbody>\n",
              "</table><h4>Secretion</h4><table border=\"1\" class=\"dataframe\">\n",
              "  <thead>\n",
              "    <tr style=\"text-align: right;\">\n",
              "      <th>Metabolite</th>\n",
              "      <th>Reaction</th>\n",
              "      <th>Flux</th>\n",
              "      <th>C-Number</th>\n",
              "      <th>C-Flux</th>\n",
              "    </tr>\n",
              "  </thead>\n",
              "  <tbody>\n",
              "    <tr>\n",
              "      <td>CARBON_DIOXIDE_e2</td>\n",
              "      <td>CO2_tx2</td>\n",
              "      <td>-1.015</td>\n",
              "      <td>1</td>\n",
              "      <td>100.00%</td>\n",
              "    </tr>\n",
              "    <tr>\n",
              "      <td>WATER_e4</td>\n",
              "      <td>H2O_tx4</td>\n",
              "      <td>-4.917</td>\n",
              "      <td>0</td>\n",
              "      <td>0.00%</td>\n",
              "    </tr>\n",
              "    <tr>\n",
              "      <td>OXYGEN_MOLECULE_e1</td>\n",
              "      <td>O2_tx1</td>\n",
              "      <td>-125</td>\n",
              "      <td>0</td>\n",
              "      <td>0.00%</td>\n",
              "    </tr>\n",
              "    <tr>\n",
              "      <td>OXYGEN_MOLECULE_e3</td>\n",
              "      <td>O2_tx3</td>\n",
              "      <td>-70.95</td>\n",
              "      <td>0</td>\n",
              "      <td>0.00%</td>\n",
              "    </tr>\n",
              "  </tbody>\n",
              "</table>"
            ]
          },
          "metadata": {},
          "execution_count": 8
        }
      ]
    },
    {
      "cell_type": "markdown",
      "source": [
        "# Step:3 optimization an generating sbml file\n",
        "Generating the sbml file for the model by the function `write_sbml_model(model_name, \"model_name.sbml\")`"
      ],
      "metadata": {
        "id": "7HGh7W6-tuBD"
      }
    },
    {
      "cell_type": "code",
      "source": [
        "solution = pfba(C4_model)\n",
        "write_sbml_model(C4_model, \"C4.sbml\")"
      ],
      "metadata": {
        "id": "48FhhpGFNo4l"
      },
      "execution_count": 9,
      "outputs": []
    }
  ]
}