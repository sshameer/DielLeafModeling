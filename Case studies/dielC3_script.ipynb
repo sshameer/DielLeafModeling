{
  "nbformat": 4,
  "nbformat_minor": 0,
  "metadata": {
    "colab": {
      "provenance": []
    },
    "kernelspec": {
      "name": "python3",
      "display_name": "Python 3"
    },
    "language_info": {
      "name": "python"
    }
  },
  "cells": [
    {
      "cell_type": "markdown",
      "source": [
        "#  **C3 Diel leaf model**"
      ],
      "metadata": {
        "id": "ZT7V87MUwuoV"
      }
    },
    {
      "cell_type": "markdown",
      "source": [
        "This file discussesmaking C3 model from PlantCoreMetabolism model by applying required constraints"
      ],
      "metadata": {
        "id": "X6pAE-QyxMQ8"
      }
    },
    {
      "cell_type": "markdown",
      "source": [
        "#Step:1  Install cobrapy\n",
        "* Run %pip install cobra to install cobrapy"
      ],
      "metadata": {
        "id": "6OjB9B0Orncq"
      }
    },
    {
      "cell_type": "code",
      "execution_count": null,
      "metadata": {
        "id": "vRLfDBeCPFye",
        "colab": {
          "base_uri": "https://localhost:8080/"
        },
        "outputId": "5e7847aa-34a6-475c-821a-52ed126b13ab"
      },
      "outputs": [
        {
          "output_type": "stream",
          "name": "stdout",
          "text": [
            "\u001b[2K   \u001b[90m━━━━━━━━━━━━━━━━━━━━━━━━━━━━━━━━━━━━━━━━\u001b[0m \u001b[32m1.2/1.2 MB\u001b[0m \u001b[31m22.6 MB/s\u001b[0m eta \u001b[36m0:00:00\u001b[0m\n",
            "\u001b[2K   \u001b[90m━━━━━━━━━━━━━━━━━━━━━━━━━━━━━━━━━━━━━━━━\u001b[0m \u001b[32m45.5/45.5 kB\u001b[0m \u001b[31m3.2 MB/s\u001b[0m eta \u001b[36m0:00:00\u001b[0m\n",
            "\u001b[2K   \u001b[90m━━━━━━━━━━━━━━━━━━━━━━━━━━━━━━━━━━━━━━━━\u001b[0m \u001b[32m141.8/141.8 kB\u001b[0m \u001b[31m11.0 MB/s\u001b[0m eta \u001b[36m0:00:00\u001b[0m\n",
            "\u001b[2K   \u001b[90m━━━━━━━━━━━━━━━━━━━━━━━━━━━━━━━━━━━━━━━━\u001b[0m \u001b[32m8.1/8.1 MB\u001b[0m \u001b[31m100.3 MB/s\u001b[0m eta \u001b[36m0:00:00\u001b[0m\n",
            "\u001b[2K   \u001b[90m━━━━━━━━━━━━━━━━━━━━━━━━━━━━━━━━━━━━━━━━\u001b[0m \u001b[32m117.7/117.7 kB\u001b[0m \u001b[31m10.1 MB/s\u001b[0m eta \u001b[36m0:00:00\u001b[0m\n",
            "\u001b[2K   \u001b[90m━━━━━━━━━━━━━━━━━━━━━━━━━━━━━━━━━━━━━━━━\u001b[0m \u001b[32m2.3/2.3 MB\u001b[0m \u001b[31m74.7 MB/s\u001b[0m eta \u001b[36m0:00:00\u001b[0m\n",
            "\u001b[2K   \u001b[90m━━━━━━━━━━━━━━━━━━━━━━━━━━━━━━━━━━━━━━━━\u001b[0m \u001b[32m739.1/739.1 kB\u001b[0m \u001b[31m46.4 MB/s\u001b[0m eta \u001b[36m0:00:00\u001b[0m\n",
            "\u001b[?25h"
          ]
        }
      ],
      "source": [
        "%pip install cobra --quiet"
      ]
    },
    {
      "cell_type": "markdown",
      "source": [
        "#Step:2 Import C3_model from Github\n",
        "* Use wget using the syntax !wget link-to-file to retrieve the models and functions required for this analysis\n",
        "\n"
      ],
      "metadata": {
        "id": "FFGzfIb8rrcx"
      }
    },
    {
      "cell_type": "code",
      "source": [
        "# Retrieving the model\n",
        "!wget -q https://raw.githubusercontent.com/sshameer/DielLeafModeling/refs/heads/main/C3_model.sbml\n"
      ],
      "metadata": {
        "id": "0juioCcHPRas"
      },
      "execution_count": null,
      "outputs": []
    },
    {
      "cell_type": "markdown",
      "source": [
        "# Step: 3 Import functions required to read sbml and perform pFBA\n",
        "* A cobra model can be generated from an SBML file using the` read_sbml_model` function in the cobrapy io module\n",
        "* pFBA can be performed using the pfba package in the cobrapy `flux_analysis` module"
      ],
      "metadata": {
        "id": "0vCIh2DMr8qk"
      }
    },
    {
      "cell_type": "code",
      "source": [
        "from cobra.io import read_sbml_model\n",
        "from cobra.flux_analysis import pfba"
      ],
      "metadata": {
        "id": "xh09RCISr_hZ"
      },
      "execution_count": null,
      "outputs": []
    },
    {
      "cell_type": "markdown",
      "source": [
        "#Step:4 Import the model and constraining the model for diel leaf model of C3 photosynthesis\n",
        "* The syntax for loading the model is `model_name = read_sbml_model(file_name)`"
      ],
      "metadata": {
        "id": "TZfp2igSsEPH"
      }
    },
    {
      "cell_type": "code",
      "source": [
        "C3_model = read_sbml_model(\"C3_model.sbml\")"
      ],
      "metadata": {
        "id": "pg1CtB5csMQQ"
      },
      "execution_count": null,
      "outputs": []
    },
    {
      "cell_type": "code",
      "source": [
        "# constraining GPT transport reaction\n",
        "C3_model.reactions.get_by_id(\"G6P_Pi_pc1\").lower_bound= 0\n",
        "C3_model.reactions.get_by_id(\"G6P_Pi_pc1\").upper_bound= 0\n",
        "C3_model.reactions.get_by_id(\"G6P_Pi_pc2\").lower_bound= 0\n",
        "C3_model.reactions.get_by_id(\"G6P_Pi_pc2\").upper_bound= 0"
      ],
      "metadata": {
        "id": "SIQqXaXejH09"
      },
      "execution_count": null,
      "outputs": []
    },
    {
      "cell_type": "code",
      "source": [
        "# constraining sucrose accumulation to model a starch storing leaf\n",
        "C3_model.reactions.get_by_id(\"SUCROSE_v_dielTransfer\").bounds = (0,0)"
      ],
      "metadata": {
        "id": "fBecOP0XSIyD"
      },
      "execution_count": null,
      "outputs": []
    },
    {
      "cell_type": "code",
      "source": [
        "# constraining starch phosphorylation\n",
        "C3_model.reactions.get_by_id(\"RXN_1826_p1\").lower_bound= 0\n",
        "C3_model.reactions.get_by_id(\"RXN_1826_p1\").upper_bound= 0\n",
        "C3_model.reactions.get_by_id(\"RXN_1826_p2\").lower_bound= 0\n",
        "C3_model.reactions.get_by_id(\"RXN_1826_p2\").upper_bound= 0"
      ],
      "metadata": {
        "id": "D_AajNxCjOPM"
      },
      "execution_count": null,
      "outputs": []
    },
    {
      "cell_type": "markdown",
      "source": [
        "* Maintanence cost defined by the refernce of [Töpfer et al.,2020](https://doi.org/10.1105/tpc.20.00132)\n",
        "* The syntax is `solution_name = pfba(model_name)`\n",
        "* The solution object has an attribute fluxes which containts a dictionary of all fluxes"
      ],
      "metadata": {
        "id": "WH9lAWg_zcUr"
      }
    },
    {
      "cell_type": "code",
      "source": [
        "# Setting photon uptake\n",
        "PPFD = 500\n",
        "C3_model.reactions.Photon_tx1.upper_bound = PPFD\n",
        "C3_model.reactions.Photon_tx1.lower_bound = 0\n",
        "# Setting maintenance cost\n",
        "VATPase = 0.0049*PPFD+2.7851 #Töpfer et al.,2020\n",
        "C3_model.reactions.get_by_id(\"ATPase_tx1\").bounds = (VATPase,VATPase)\n",
        "C3sol = pfba(C3_model)"
      ],
      "metadata": {
        "id": "14yQuwwyRe89"
      },
      "execution_count": null,
      "outputs": []
    },
    {
      "cell_type": "markdown",
      "source": [
        "# Step:5 get the summary of the model after optimization\n",
        "Run the syntax model_name.summary() for getting the summary of the model"
      ],
      "metadata": {
        "id": "upsxUqQc0B9E"
      }
    },
    {
      "cell_type": "code",
      "source": [
        "C3_model.summary()\n",
        "# C3_model"
      ],
      "metadata": {
        "id": "h8LmQG_CSSMy",
        "colab": {
          "base_uri": "https://localhost:8080/",
          "height": 566
        },
        "outputId": "7ec2a421-df97-4f0f-e82c-93c92f442631"
      },
      "execution_count": null,
      "outputs": [
        {
          "output_type": "execute_result",
          "data": {
            "text/plain": [
              "<cobra.summary.model_summary.ModelSummary at 0x7a0aecb19d50>"
            ],
            "text/html": [
              "<h3>Objective</h3><p>1.0 diel_biomass = 0.8258313952247737</p><h4>Uptake</h4><table border=\"1\" class=\"dataframe\">\n",
              "  <thead>\n",
              "    <tr style=\"text-align: right;\">\n",
              "      <th>Metabolite</th>\n",
              "      <th>Reaction</th>\n",
              "      <th>Flux</th>\n",
              "      <th>C-Number</th>\n",
              "      <th>C-Flux</th>\n",
              "    </tr>\n",
              "  </thead>\n",
              "  <tbody>\n",
              "    <tr>\n",
              "      <td>CARBON_DIOXIDE_e1</td>\n",
              "      <td>CO2_tx1</td>\n",
              "      <td>35.14</td>\n",
              "      <td>1</td>\n",
              "      <td>100.00%</td>\n",
              "    </tr>\n",
              "    <tr>\n",
              "      <td>WATER_e1</td>\n",
              "      <td>H2O_tx1</td>\n",
              "      <td>31.55</td>\n",
              "      <td>0</td>\n",
              "      <td>0.00%</td>\n",
              "    </tr>\n",
              "    <tr>\n",
              "      <td>NITRATE_e1</td>\n",
              "      <td>Nitrate_tx1</td>\n",
              "      <td>0.2171</td>\n",
              "      <td>0</td>\n",
              "      <td>0.00%</td>\n",
              "    </tr>\n",
              "    <tr>\n",
              "      <td>NITRATE_e2</td>\n",
              "      <td>Nitrate_tx2</td>\n",
              "      <td>0.1447</td>\n",
              "      <td>0</td>\n",
              "      <td>0.00%</td>\n",
              "    </tr>\n",
              "    <tr>\n",
              "      <td>OXYGEN_MOLECULE_e2</td>\n",
              "      <td>O2_tx2</td>\n",
              "      <td>2.023</td>\n",
              "      <td>0</td>\n",
              "      <td>0.00%</td>\n",
              "    </tr>\n",
              "    <tr>\n",
              "      <td>Photon_e1</td>\n",
              "      <td>Photon_tx1</td>\n",
              "      <td>500</td>\n",
              "      <td>0</td>\n",
              "      <td>0.00%</td>\n",
              "    </tr>\n",
              "    <tr>\n",
              "      <td>SULFATE_e1</td>\n",
              "      <td>SO4_tx1</td>\n",
              "      <td>0.002766</td>\n",
              "      <td>0</td>\n",
              "      <td>0.00%</td>\n",
              "    </tr>\n",
              "    <tr>\n",
              "      <td>PROTON_c1</td>\n",
              "      <td>unlProtHYPO_c1</td>\n",
              "      <td>0.3151</td>\n",
              "      <td>0</td>\n",
              "      <td>0.00%</td>\n",
              "    </tr>\n",
              "  </tbody>\n",
              "</table><h4>Secretion</h4><table border=\"1\" class=\"dataframe\">\n",
              "  <thead>\n",
              "    <tr style=\"text-align: right;\">\n",
              "      <th>Metabolite</th>\n",
              "      <th>Reaction</th>\n",
              "      <th>Flux</th>\n",
              "      <th>C-Number</th>\n",
              "      <th>C-Flux</th>\n",
              "    </tr>\n",
              "  </thead>\n",
              "  <tbody>\n",
              "    <tr>\n",
              "      <td>CARBON_DIOXIDE_e2</td>\n",
              "      <td>CO2_tx2</td>\n",
              "      <td>-1.846</td>\n",
              "      <td>1</td>\n",
              "      <td>100.00%</td>\n",
              "    </tr>\n",
              "    <tr>\n",
              "      <td>WATER_e2</td>\n",
              "      <td>H2O_tx2</td>\n",
              "      <td>-0.9264</td>\n",
              "      <td>0</td>\n",
              "      <td>0.00%</td>\n",
              "    </tr>\n",
              "    <tr>\n",
              "      <td>OXYGEN_MOLECULE_e1</td>\n",
              "      <td>O2_tx1</td>\n",
              "      <td>-36.01</td>\n",
              "      <td>0</td>\n",
              "      <td>0.00%</td>\n",
              "    </tr>\n",
              "  </tbody>\n",
              "</table>"
            ]
          },
          "metadata": {},
          "execution_count": 10
        }
      ]
    },
    {
      "cell_type": "markdown",
      "source": [
        "From uptake fluxes we can see that the model reports an uptake of CO2, and photon during the day and O2 at night. The model also reports release of O2 during the day and CO2 at night, indicative of C3"
      ],
      "metadata": {
        "id": "x1IBkQ11syY3"
      }
    },
    {
      "cell_type": "markdown",
      "source": [
        "## checking reaction fluxes\n",
        "\n"
      ],
      "metadata": {
        "id": "7_TeNxSM0dmE"
      }
    },
    {
      "cell_type": "code",
      "source": [
        "print(C3_model.reactions.get_by_id(\"diel_biomass\").reaction)\n",
        "print(C3_model.reactions.get_by_id(\"diel_biomass\").flux)"
      ],
      "metadata": {
        "colab": {
          "base_uri": "https://localhost:8080/"
        },
        "id": "xCeegtNCJUgn",
        "outputId": "3e8336a2-b3f5-47a0-a594-d221cc381ec5"
      },
      "execution_count": null,
      "outputs": [
        {
          "output_type": "stream",
          "name": "stdout",
          "text": [
            "3.0 X_Phloem_contribution_t1 + X_Phloem_contribution_t2 --> \n",
            "0.8258313952247737\n"
          ]
        }
      ]
    }
  ]
}