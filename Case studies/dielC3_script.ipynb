{
  "nbformat": 4,
  "nbformat_minor": 0,
  "metadata": {
    "colab": {
      "provenance": []
    },
    "kernelspec": {
      "name": "python3",
      "display_name": "Python 3"
    },
    "language_info": {
      "name": "python"
    }
  },
  "cells": [
    {
      "cell_type": "markdown",
      "source": [
        "## Install cobrapy"
      ],
      "metadata": {
        "id": "6OjB9B0Orncq"
      }
    },
    {
      "cell_type": "code",
      "execution_count": 11,
      "metadata": {
        "id": "vRLfDBeCPFye"
      },
      "outputs": [],
      "source": [
        "%pip install cobra --quiet"
      ]
    },
    {
      "cell_type": "markdown",
      "source": [
        "## Import C3 model from Github"
      ],
      "metadata": {
        "id": "FFGzfIb8rrcx"
      }
    },
    {
      "cell_type": "code",
      "source": [
        "# Retrieving the model\n",
        "!wget -q https://raw.githubusercontent.com/sshameer/DielLeafModeling/refs/heads/main/C3_model.sbml\n"
      ],
      "metadata": {
        "id": "0juioCcHPRas"
      },
      "execution_count": 20,
      "outputs": []
    },
    {
      "cell_type": "markdown",
      "source": [
        "## Import functions required to read sbml, write sbml and perform pFBA"
      ],
      "metadata": {
        "id": "0vCIh2DMr8qk"
      }
    },
    {
      "cell_type": "code",
      "source": [
        "\n",
        "from cobra.io import read_sbml_model\n",
        "from cobra.io import write_sbml_model\n",
        "from cobra.flux_analysis import pfba"
      ],
      "metadata": {
        "id": "xh09RCISr_hZ"
      },
      "execution_count": 13,
      "outputs": []
    },
    {
      "cell_type": "markdown",
      "source": [
        "## Import the model and constrain diel leaf model for C3 photosynthesis"
      ],
      "metadata": {
        "id": "TZfp2igSsEPH"
      }
    },
    {
      "cell_type": "code",
      "source": [
        "C3_model = read_sbml_model(\"C3_model.sbml\")"
      ],
      "metadata": {
        "id": "pg1CtB5csMQQ"
      },
      "execution_count": 14,
      "outputs": []
    },
    {
      "cell_type": "code",
      "source": [
        "# constraining GPT transport reaction\n",
        "C3_model.reactions.get_by_id(\"G6P_Pi_pc1\").lower_bound= 0\n",
        "C3_model.reactions.get_by_id(\"G6P_Pi_pc1\").upper_bound= 0\n",
        "C3_model.reactions.get_by_id(\"G6P_Pi_pc2\").lower_bound= 0\n",
        "C3_model.reactions.get_by_id(\"G6P_Pi_pc2\").upper_bound= 0"
      ],
      "metadata": {
        "id": "SIQqXaXejH09"
      },
      "execution_count": 15,
      "outputs": []
    },
    {
      "cell_type": "code",
      "source": [
        "# constraining starch phosphorylation\n",
        "C3_model.reactions.get_by_id(\"RXN_1826_p1\").lower_bound= 0\n",
        "C3_model.reactions.get_by_id(\"RXN_1826_p1\").upper_bound= 0\n",
        "C3_model.reactions.get_by_id(\"RXN_1826_p2\").lower_bound= 0\n",
        "C3_model.reactions.get_by_id(\"RXN_1826_p2\").upper_bound= 0"
      ],
      "metadata": {
        "id": "D_AajNxCjOPM"
      },
      "execution_count": 16,
      "outputs": []
    },
    {
      "cell_type": "code",
      "source": [
        "# Setting photon uptake\n",
        "PPFD = 500\n",
        "C3_model.reactions.Photon_tx1.upper_bound = PPFD\n",
        "C3_model.reactions.Photon_tx1.lower_bound = 0\n",
        "# Setting maintenance cost\n",
        "VATPase = 0.0049*PPFD+2.7851\n",
        "C3_model.reactions.get_by_id(\"ATPase_tx1\").bounds = (VATPase,VATPase)\n",
        "C3sol = pfba(C3_model)"
      ],
      "metadata": {
        "id": "14yQuwwyRe89"
      },
      "execution_count": 17,
      "outputs": []
    },
    {
      "cell_type": "code",
      "source": [
        "# constraining sucrose accumulation to model a starch storing leaf\n",
        "C3_model.reactions.get_by_id(\"SUCROSE_v_dielTransfer\").bounds = (0,0)"
      ],
      "metadata": {
        "id": "fBecOP0XSIyD"
      },
      "execution_count": 18,
      "outputs": []
    },
    {
      "cell_type": "code",
      "source": [
        "C3_model.summary()\n"
      ],
      "metadata": {
        "id": "h8LmQG_CSSMy",
        "colab": {
          "base_uri": "https://localhost:8080/",
          "height": 566
        },
        "outputId": "5de74f1b-78be-41c9-a9fd-a9f7119cc6ce"
      },
      "execution_count": 19,
      "outputs": [
        {
          "output_type": "execute_result",
          "data": {
            "text/plain": [
              "<cobra.summary.model_summary.ModelSummary at 0x7c1897f55650>"
            ],
            "text/html": [
              "<h3>Objective</h3><p>1.0 diel_biomass = 0.8258313952247737</p><h4>Uptake</h4><table border=\"1\" class=\"dataframe\">\n",
              "  <thead>\n",
              "    <tr style=\"text-align: right;\">\n",
              "      <th>Metabolite</th>\n",
              "      <th>Reaction</th>\n",
              "      <th>Flux</th>\n",
              "      <th>C-Number</th>\n",
              "      <th>C-Flux</th>\n",
              "    </tr>\n",
              "  </thead>\n",
              "  <tbody>\n",
              "    <tr>\n",
              "      <td>CARBON_DIOXIDE_e1</td>\n",
              "      <td>CO2_tx1</td>\n",
              "      <td>35.14</td>\n",
              "      <td>1</td>\n",
              "      <td>100.00%</td>\n",
              "    </tr>\n",
              "    <tr>\n",
              "      <td>WATER_e1</td>\n",
              "      <td>H2O_tx1</td>\n",
              "      <td>31.55</td>\n",
              "      <td>0</td>\n",
              "      <td>0.00%</td>\n",
              "    </tr>\n",
              "    <tr>\n",
              "      <td>NITRATE_e1</td>\n",
              "      <td>Nitrate_tx1</td>\n",
              "      <td>0.2171</td>\n",
              "      <td>0</td>\n",
              "      <td>0.00%</td>\n",
              "    </tr>\n",
              "    <tr>\n",
              "      <td>NITRATE_e2</td>\n",
              "      <td>Nitrate_tx2</td>\n",
              "      <td>0.1447</td>\n",
              "      <td>0</td>\n",
              "      <td>0.00%</td>\n",
              "    </tr>\n",
              "    <tr>\n",
              "      <td>OXYGEN_MOLECULE_e2</td>\n",
              "      <td>O2_tx2</td>\n",
              "      <td>2.023</td>\n",
              "      <td>0</td>\n",
              "      <td>0.00%</td>\n",
              "    </tr>\n",
              "    <tr>\n",
              "      <td>Photon_e1</td>\n",
              "      <td>Photon_tx1</td>\n",
              "      <td>500</td>\n",
              "      <td>0</td>\n",
              "      <td>0.00%</td>\n",
              "    </tr>\n",
              "    <tr>\n",
              "      <td>SULFATE_e1</td>\n",
              "      <td>SO4_tx1</td>\n",
              "      <td>0.002766</td>\n",
              "      <td>0</td>\n",
              "      <td>0.00%</td>\n",
              "    </tr>\n",
              "    <tr>\n",
              "      <td>PROTON_c1</td>\n",
              "      <td>unlProtHYPO_c1</td>\n",
              "      <td>0.3151</td>\n",
              "      <td>0</td>\n",
              "      <td>0.00%</td>\n",
              "    </tr>\n",
              "  </tbody>\n",
              "</table><h4>Secretion</h4><table border=\"1\" class=\"dataframe\">\n",
              "  <thead>\n",
              "    <tr style=\"text-align: right;\">\n",
              "      <th>Metabolite</th>\n",
              "      <th>Reaction</th>\n",
              "      <th>Flux</th>\n",
              "      <th>C-Number</th>\n",
              "      <th>C-Flux</th>\n",
              "    </tr>\n",
              "  </thead>\n",
              "  <tbody>\n",
              "    <tr>\n",
              "      <td>CARBON_DIOXIDE_e2</td>\n",
              "      <td>CO2_tx2</td>\n",
              "      <td>-1.846</td>\n",
              "      <td>1</td>\n",
              "      <td>100.00%</td>\n",
              "    </tr>\n",
              "    <tr>\n",
              "      <td>WATER_e2</td>\n",
              "      <td>H2O_tx2</td>\n",
              "      <td>-0.9264</td>\n",
              "      <td>0</td>\n",
              "      <td>0.00%</td>\n",
              "    </tr>\n",
              "    <tr>\n",
              "      <td>OXYGEN_MOLECULE_e1</td>\n",
              "      <td>O2_tx1</td>\n",
              "      <td>-36.01</td>\n",
              "      <td>0</td>\n",
              "      <td>0.00%</td>\n",
              "    </tr>\n",
              "  </tbody>\n",
              "</table>"
            ]
          },
          "metadata": {},
          "execution_count": 19
        }
      ]
    },
    {
      "cell_type": "markdown",
      "source": [
        "### From uptake fluxes we can see that the model reports an uptake of CO2, and photon during the day and O2 at night. The model also reports release of O2 during the day and CO2 at night, indicative of C3"
      ],
      "metadata": {
        "id": "x1IBkQ11syY3"
      }
    },
    {
      "cell_type": "code",
      "source": [],
      "metadata": {
        "id": "QHr8nD_LuDZ1"
      },
      "execution_count": null,
      "outputs": []
    }
  ]
}