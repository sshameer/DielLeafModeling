{
  "nbformat": 4,
  "nbformat_minor": 0,
  "metadata": {
    "colab": {
      "provenance": []
    },
    "kernelspec": {
      "name": "python3",
      "display_name": "Python 3"
    },
    "language_info": {
      "name": "python"
    }
  },
  "cells": [
    {
      "cell_type": "markdown",
      "source": [
        "#  **C4 Diel leaf model**\n",
        "\n",
        "This file discussesmaking C3 model from PlantCoreMetabolism model by applying required constraints"
      ],
      "metadata": {
        "id": "Z_CZE4vcCeMP"
      }
    },
    {
      "cell_type": "markdown",
      "source": [
        "#Step:1  Install cobrapy\n",
        "* Run `%pip install cobra` to install cobrapy"
      ],
      "metadata": {
        "id": "Ss1EguFmug_n"
      }
    },
    {
      "cell_type": "code",
      "execution_count": null,
      "metadata": {
        "id": "3nSDYllTSwiI"
      },
      "outputs": [],
      "source": [
        "%pip install cobra  --quiet"
      ]
    },
    {
      "cell_type": "markdown",
      "source": [
        "#Step:2 Import C4_model from Github\n",
        "* Use wget using the syntax `!wget link-to-file` to retrieve the models and functions required for this analysis\n"
      ],
      "metadata": {
        "id": "d4G6-PQEuo2i"
      }
    },
    {
      "cell_type": "code",
      "source": [
        "# Retrieving the model\n",
        "!wget -q https://github.com/sshameer/DielLeafModeling/raw/refs/heads/main/Models/C4_model.sbml"
      ],
      "metadata": {
        "id": "lgcpNvssuuj4"
      },
      "execution_count": null,
      "outputs": []
    },
    {
      "cell_type": "markdown",
      "source": [
        "# Step: 3 Import functions required to read sbml and perform pFBA\n",
        "* A cobra model can be generated from an SBML file using the` read_sbml_model` function in the cobrapy io module\n",
        "* pFBA can be performed using the pfba package in the cobrapy `flux_analysis` module"
      ],
      "metadata": {
        "id": "zXSuwu14wj5u"
      }
    },
    {
      "cell_type": "code",
      "source": [
        "from cobra.io import read_sbml_model\n",
        "from cobra.flux_analysis import pfba"
      ],
      "metadata": {
        "id": "Vsyejm4GwlVH"
      },
      "execution_count": null,
      "outputs": []
    },
    {
      "cell_type": "markdown",
      "source": [
        "#Step:4 Import the model and constraining the model for diel leaf model of C4 photosynthesis\n",
        "* The syntax for loading the model is `model_name = read_sbml_model(file_name)`"
      ],
      "metadata": {
        "id": "nSxbWO6QvIcC"
      }
    },
    {
      "cell_type": "code",
      "source": [
        "C4_model = read_sbml_model(\"C4_model.sbml\")"
      ],
      "metadata": {
        "id": "WrfLujD7TRdr"
      },
      "execution_count": null,
      "outputs": []
    },
    {
      "cell_type": "markdown",
      "source": [
        "* setting the PPFD and photon uptake as 500 for mesophyll and and bundle sheath\n",
        "* Defining the maintenance cost separately for mesophyll and bundle sheath as by referring [Töpfer et al.,2020](https://doi.org/10.1105/tpc.20.00132)"
      ],
      "metadata": {
        "id": "fZduSktvFZzo"
      }
    },
    {
      "cell_type": "code",
      "source": [
        "# Setting photon uptake\n",
        "BS_PPFD = 500\n",
        "M_PPFD = 500\n",
        "C4_model.reactions.Photon_tx1.upper_bound = M_PPFD\n",
        "C4_model.reactions.Photon_tx3.upper_bound = BS_PPFD\n",
        "\n",
        "#Defining maintenance cost in bundle sheath\n",
        "\n",
        "BS_VATPase = 0.0049*BS_PPFD+2.7851\n",
        "C4_model.reactions.get_by_id(\"ATPase_tx3\").bounds = (BS_VATPase,BS_VATPase)\n",
        "\n",
        "#Defining maintenance cost in Mesophyll\n",
        "\n",
        "M_VATPase = 0.0049*M_PPFD+2.7851\n",
        "C4_model.reactions.get_by_id(\"ATPase_tx1\").bounds=(M_VATPase,M_VATPase)\n",
        "\n"
      ],
      "metadata": {
        "id": "jHj_UuOJTSsr"
      },
      "execution_count": null,
      "outputs": []
    },
    {
      "cell_type": "code",
      "source": [
        "# Restrict mesophyll sucrose, mesophyll starch and bundlesheath sucrose accumulation\n",
        "for id in [\"SUCROSE_v_dielTransfer_BS\",\"SUCROSE_v_dielTransfer_M\",\"STARCH_p_dielTransfer_M\"]:\n",
        "    rxn = C4_model.reactions.get_by_id(id)\n",
        "    rxn.upper_bound = 0\n",
        "    rxn.lower_bound = 0"
      ],
      "metadata": {
        "id": "19PsLMy2Veei"
      },
      "execution_count": null,
      "outputs": []
    },
    {
      "cell_type": "markdown",
      "source": [
        "# Step:5 get the summary of the model after optimization\n",
        "Run the syntax `model_name.summary()` for getting the summary of the model"
      ],
      "metadata": {
        "id": "l0ht1yOMGAkh"
      }
    },
    {
      "cell_type": "code",
      "source": [
        "C4sol = pfba(C4_model)\n",
        "C4_model.summary()"
      ],
      "metadata": {
        "id": "9n1htICBV4Fx",
        "colab": {
          "base_uri": "https://localhost:8080/",
          "height": 691
        },
        "outputId": "c894213e-d46a-4c08-829f-3008555d0086"
      },
      "execution_count": null,
      "outputs": [
        {
          "output_type": "execute_result",
          "data": {
            "text/plain": [
              "<cobra.summary.model_summary.ModelSummary at 0x79c7a31d7490>"
            ],
            "text/html": [
              "<h3>Objective</h3><p>1.0 AraCore_Biomass_tx1 + 1.0 Total_Phloem_output_tx = 8.943891322232565</p><h4>Uptake</h4><table border=\"1\" class=\"dataframe\">\n",
              "  <thead>\n",
              "    <tr style=\"text-align: right;\">\n",
              "      <th>Metabolite</th>\n",
              "      <th>Reaction</th>\n",
              "      <th>Flux</th>\n",
              "      <th>C-Number</th>\n",
              "      <th>C-Flux</th>\n",
              "    </tr>\n",
              "  </thead>\n",
              "  <tbody>\n",
              "    <tr>\n",
              "      <td>CARBON_DIOXIDE_e1</td>\n",
              "      <td>CO2_tx1</td>\n",
              "      <td>94.03</td>\n",
              "      <td>1</td>\n",
              "      <td>100.00%</td>\n",
              "    </tr>\n",
              "    <tr>\n",
              "      <td>WATER_e1</td>\n",
              "      <td>H2O_tx1</td>\n",
              "      <td>96.25</td>\n",
              "      <td>0</td>\n",
              "      <td>0.00%</td>\n",
              "    </tr>\n",
              "    <tr>\n",
              "      <td>NITRATE_e1</td>\n",
              "      <td>Nitrate_tx1</td>\n",
              "      <td>0.5877</td>\n",
              "      <td>0</td>\n",
              "      <td>0.00%</td>\n",
              "    </tr>\n",
              "    <tr>\n",
              "      <td>NITRATE_e4</td>\n",
              "      <td>Nitrate_tx4</td>\n",
              "      <td>0.3918</td>\n",
              "      <td>0</td>\n",
              "      <td>0.00%</td>\n",
              "    </tr>\n",
              "    <tr>\n",
              "      <td>OXYGEN_MOLECULE_e2</td>\n",
              "      <td>O2_tx2</td>\n",
              "      <td>2.787</td>\n",
              "      <td>0</td>\n",
              "      <td>0.00%</td>\n",
              "    </tr>\n",
              "    <tr>\n",
              "      <td>OXYGEN_MOLECULE_e4</td>\n",
              "      <td>O2_tx4</td>\n",
              "      <td>1.329</td>\n",
              "      <td>0</td>\n",
              "      <td>0.00%</td>\n",
              "    </tr>\n",
              "    <tr>\n",
              "      <td>Photon_e1</td>\n",
              "      <td>Photon_tx1</td>\n",
              "      <td>500</td>\n",
              "      <td>0</td>\n",
              "      <td>0.00%</td>\n",
              "    </tr>\n",
              "    <tr>\n",
              "      <td>Photon_e3</td>\n",
              "      <td>Photon_tx3</td>\n",
              "      <td>500</td>\n",
              "      <td>0</td>\n",
              "      <td>0.00%</td>\n",
              "    </tr>\n",
              "    <tr>\n",
              "      <td>SULFATE_e1</td>\n",
              "      <td>SO4_tx1</td>\n",
              "      <td>0.007489</td>\n",
              "      <td>0</td>\n",
              "      <td>0.00%</td>\n",
              "    </tr>\n",
              "    <tr>\n",
              "      <td>PROTON_c1</td>\n",
              "      <td>unlProtHYPO_c1</td>\n",
              "      <td>0.853</td>\n",
              "      <td>0</td>\n",
              "      <td>0.00%</td>\n",
              "    </tr>\n",
              "  </tbody>\n",
              "</table><h4>Secretion</h4><table border=\"1\" class=\"dataframe\">\n",
              "  <thead>\n",
              "    <tr style=\"text-align: right;\">\n",
              "      <th>Metabolite</th>\n",
              "      <th>Reaction</th>\n",
              "      <th>Flux</th>\n",
              "      <th>C-Number</th>\n",
              "      <th>C-Flux</th>\n",
              "    </tr>\n",
              "  </thead>\n",
              "  <tbody>\n",
              "    <tr>\n",
              "      <td>CARBON_DIOXIDE_e2</td>\n",
              "      <td>CO2_tx2</td>\n",
              "      <td>-3.898</td>\n",
              "      <td>1</td>\n",
              "      <td>100.00%</td>\n",
              "    </tr>\n",
              "    <tr>\n",
              "      <td>WATER_e3</td>\n",
              "      <td>H2O_tx3</td>\n",
              "      <td>-11.81</td>\n",
              "      <td>0</td>\n",
              "      <td>0.00%</td>\n",
              "    </tr>\n",
              "    <tr>\n",
              "      <td>WATER_e4</td>\n",
              "      <td>H2O_tx4</td>\n",
              "      <td>-1.524</td>\n",
              "      <td>0</td>\n",
              "      <td>0.00%</td>\n",
              "    </tr>\n",
              "    <tr>\n",
              "      <td>OXYGEN_MOLECULE_e1</td>\n",
              "      <td>O2_tx1</td>\n",
              "      <td>-61.63</td>\n",
              "      <td>0</td>\n",
              "      <td>0.00%</td>\n",
              "    </tr>\n",
              "    <tr>\n",
              "      <td>OXYGEN_MOLECULE_e3</td>\n",
              "      <td>O2_tx3</td>\n",
              "      <td>-34.5</td>\n",
              "      <td>0</td>\n",
              "      <td>0.00%</td>\n",
              "    </tr>\n",
              "  </tbody>\n",
              "</table>"
            ]
          },
          "metadata": {},
          "execution_count": 15
        }
      ]
    },
    {
      "cell_type": "markdown",
      "source": [
        "#Step:6 Confirming the C4 diel model for PEPCK C4 photosynthesis\n",
        "for the confirmation checked the transfer reactions between mesophyll and  bundle sheath"
      ],
      "metadata": {
        "id": "X6d-rLTYGUGw"
      }
    },
    {
      "cell_type": "code",
      "source": [
        "for rxn in C4_model.reactions.query(\"_MBStransfer_Day\"):\n",
        "  if abs(rxn.flux)>20:\n",
        "    print(rxn.id+\"\\t\"+rxn.reaction+\"\\t\"+str(rxn.flux))"
      ],
      "metadata": {
        "colab": {
          "base_uri": "https://localhost:8080/"
        },
        "id": "4z0NZF5-xhQO",
        "outputId": "561d9e98-1cd6-48d0-9dcf-0bfa33413f38"
      },
      "execution_count": null,
      "outputs": [
        {
          "output_type": "stream",
          "name": "stdout",
          "text": [
            "GAP_c_MBStransfer_Day\tGAP_c1 <=> GAP_c3\t77.97396297005727\n",
            "MAL_c_MBStransfer_Day\tMAL_c1 <=> MAL_c3\t39.645652981156914\n",
            "G3P_c_MBStransfer_Day\tG3P_c1 <=> G3P_c3\t-78.11796842381614\n",
            "Pi_c_MBStransfer_Day\tPi_c1 <=> Pi_c3\t38.81087010673567\n",
            "L_ALPHA_ALANINE_c_MBStransfer_Day\tL_ALPHA_ALANINE_c1 <=> L_ALPHA_ALANINE_c3\t-48.764133119963134\n",
            "PHOSPHO_ENOL_PYRUVATE_c_MBStransfer_Day\tPHOSPHO_ENOL_PYRUVATE_c1 <=> PHOSPHO_ENOL_PYRUVATE_c3\t-55.30009469872094\n",
            "L_ASPARTATE_c_MBStransfer_Day\tL_ASPARTATE_c1 <=> L_ASPARTATE_c3\t54.294964752150904\n"
          ]
        }
      ]
    },
    {
      "cell_type": "markdown",
      "source": [
        "When observing fluxes between mesophyll(M) and bundle sheath(BS) during the day, we see Aspartate, malate and triose-P transfer from M to BS. ALA, PEP and 3PG can also be observed to move from BS to M, indicative of C4 PEPCK."
      ],
      "metadata": {
        "id": "wnVMPkXvyJVM"
      }
    },
    {
      "cell_type": "code",
      "source": [
        "# creating a copy for making other types of C4 pathways\n",
        "backup = C4_model.copy()"
      ],
      "metadata": {
        "id": "mSX7brGUHGb4"
      },
      "execution_count": null,
      "outputs": []
    },
    {
      "cell_type": "markdown",
      "source": [
        "#Step:7  Configuring the C4 diel model for NAD-ME C4 photosynthesis\n",
        "* As observed earlier, the default configuration of the diel C4 model is PEPCK C4 photosynthesis.\n",
        "* In order to configure the model for NAD-ME C4, where mitochondrial Malic Enzyme (NAD-ME) is the primary decarboxylating enzyme in the bundle sheath, one need to constrain NADP-ME and PEPCK reactions to carry zero flux\n"
      ],
      "metadata": {
        "id": "1VRoevN6TzWV"
      }
    },
    {
      "cell_type": "code",
      "source": [
        "#Making a copy of backup to convert the model into NAD-ME type\n",
        "C4_model = backup.copy()\n",
        "\n",
        "#constrain bundle sheath NADP-ME to 0\n",
        "C4_model.reactions.get_by_id(\"MALIC_NADP_RXN_p3\").lower_bound = 0\n",
        "C4_model.reactions.get_by_id(\"MALIC_NADP_RXN_p3\").upper_bound = 0\n",
        "C4_model.reactions.get_by_id(\"MALIC_NADP_RXN_c3\").lower_bound = 0\n",
        "C4_model.reactions.get_by_id(\"MALIC_NADP_RXN_c3\").upper_bound = 0\n",
        "\n",
        "#constrain bundle sheath PEPCK to 0\n",
        "C4_model.reactions.get_by_id(\"PEPCARBOXYKIN_RXN_c3\").lower_bound = 0\n",
        "C4_model.reactions.get_by_id(\"PEPCARBOXYKIN_RXN_c3\").upper_bound = 0\n",
        "\n",
        "#ensure bundle sheath NAD-ME is active\n",
        "C4_model.reactions.get_by_id(\"1_PERIOD_1_PERIOD_1_PERIOD_39_RXN_m3\").lower_bound = 0\n",
        "C4_model.reactions.get_by_id(\"1_PERIOD_1_PERIOD_1_PERIOD_39_RXN_m3\").upper_bound = 1000\n",
        "\n",
        "C4sol2 = pfba(C4_model)\n",
        "C4_model.summary()"
      ],
      "metadata": {
        "colab": {
          "base_uri": "https://localhost:8080/",
          "height": 723
        },
        "id": "TpXg-LOfTy4R",
        "outputId": "8c3c012b-c9cb-4b5f-9c92-69aafcaf6a54"
      },
      "execution_count": null,
      "outputs": [
        {
          "output_type": "execute_result",
          "data": {
            "text/plain": [
              "<cobra.summary.model_summary.ModelSummary at 0x79c79d323950>"
            ],
            "text/html": [
              "<h3>Objective</h3><p>1.0 AraCore_Biomass_tx1 + 1.0 Total_Phloem_output_tx = 8.480687005840682</p><h4>Uptake</h4><table border=\"1\" class=\"dataframe\">\n",
              "  <thead>\n",
              "    <tr style=\"text-align: right;\">\n",
              "      <th>Metabolite</th>\n",
              "      <th>Reaction</th>\n",
              "      <th>Flux</th>\n",
              "      <th>C-Number</th>\n",
              "      <th>C-Flux</th>\n",
              "    </tr>\n",
              "  </thead>\n",
              "  <tbody>\n",
              "    <tr>\n",
              "      <td>CARBON_DIOXIDE_e1</td>\n",
              "      <td>CO2_tx1</td>\n",
              "      <td>89.29</td>\n",
              "      <td>1</td>\n",
              "      <td>100.00%</td>\n",
              "    </tr>\n",
              "    <tr>\n",
              "      <td>WATER_e1</td>\n",
              "      <td>H2O_tx1</td>\n",
              "      <td>80.21</td>\n",
              "      <td>0</td>\n",
              "      <td>0.00%</td>\n",
              "    </tr>\n",
              "    <tr>\n",
              "      <td>WATER_e4</td>\n",
              "      <td>H2O_tx4</td>\n",
              "      <td>0.7114</td>\n",
              "      <td>0</td>\n",
              "      <td>0.00%</td>\n",
              "    </tr>\n",
              "    <tr>\n",
              "      <td>NITRATE_e3</td>\n",
              "      <td>Nitrate_tx3</td>\n",
              "      <td>0.5573</td>\n",
              "      <td>0</td>\n",
              "      <td>0.00%</td>\n",
              "    </tr>\n",
              "    <tr>\n",
              "      <td>NITRATE_e4</td>\n",
              "      <td>Nitrate_tx4</td>\n",
              "      <td>0.3715</td>\n",
              "      <td>0</td>\n",
              "      <td>0.00%</td>\n",
              "    </tr>\n",
              "    <tr>\n",
              "      <td>OXYGEN_MOLECULE_e2</td>\n",
              "      <td>O2_tx2</td>\n",
              "      <td>2.998</td>\n",
              "      <td>0</td>\n",
              "      <td>0.00%</td>\n",
              "    </tr>\n",
              "    <tr>\n",
              "      <td>OXYGEN_MOLECULE_e4</td>\n",
              "      <td>O2_tx4</td>\n",
              "      <td>1.146</td>\n",
              "      <td>0</td>\n",
              "      <td>0.00%</td>\n",
              "    </tr>\n",
              "    <tr>\n",
              "      <td>Photon_e1</td>\n",
              "      <td>Photon_tx1</td>\n",
              "      <td>500</td>\n",
              "      <td>0</td>\n",
              "      <td>0.00%</td>\n",
              "    </tr>\n",
              "    <tr>\n",
              "      <td>Photon_e3</td>\n",
              "      <td>Photon_tx3</td>\n",
              "      <td>500</td>\n",
              "      <td>0</td>\n",
              "      <td>0.00%</td>\n",
              "    </tr>\n",
              "    <tr>\n",
              "      <td>SULFATE_e1</td>\n",
              "      <td>SO4_tx1</td>\n",
              "      <td>0.003551</td>\n",
              "      <td>0</td>\n",
              "      <td>0.00%</td>\n",
              "    </tr>\n",
              "    <tr>\n",
              "      <td>SULFATE_e3</td>\n",
              "      <td>SO4_tx3</td>\n",
              "      <td>0.003551</td>\n",
              "      <td>0</td>\n",
              "      <td>0.00%</td>\n",
              "    </tr>\n",
              "    <tr>\n",
              "      <td>PROTON_c3</td>\n",
              "      <td>unlProtHYPO_c3</td>\n",
              "      <td>0.8089</td>\n",
              "      <td>0</td>\n",
              "      <td>0.00%</td>\n",
              "    </tr>\n",
              "  </tbody>\n",
              "</table><h4>Secretion</h4><table border=\"1\" class=\"dataframe\">\n",
              "  <thead>\n",
              "    <tr style=\"text-align: right;\">\n",
              "      <th>Metabolite</th>\n",
              "      <th>Reaction</th>\n",
              "      <th>Flux</th>\n",
              "      <th>C-Number</th>\n",
              "      <th>C-Flux</th>\n",
              "    </tr>\n",
              "  </thead>\n",
              "  <tbody>\n",
              "    <tr>\n",
              "      <td>CARBON_DIOXIDE_e2</td>\n",
              "      <td>CO2_tx2</td>\n",
              "      <td>-3.824</td>\n",
              "      <td>1</td>\n",
              "      <td>100.00%</td>\n",
              "    </tr>\n",
              "    <tr>\n",
              "      <td>WATER_e2</td>\n",
              "      <td>H2O_tx2</td>\n",
              "      <td>-2.299</td>\n",
              "      <td>0</td>\n",
              "      <td>0.00%</td>\n",
              "    </tr>\n",
              "    <tr>\n",
              "      <td>OXYGEN_MOLECULE_e1</td>\n",
              "      <td>O2_tx1</td>\n",
              "      <td>-58.95</td>\n",
              "      <td>0</td>\n",
              "      <td>0.00%</td>\n",
              "    </tr>\n",
              "    <tr>\n",
              "      <td>OXYGEN_MOLECULE_e3</td>\n",
              "      <td>O2_tx3</td>\n",
              "      <td>-32.44</td>\n",
              "      <td>0</td>\n",
              "      <td>0.00%</td>\n",
              "    </tr>\n",
              "  </tbody>\n",
              "</table>"
            ]
          },
          "metadata": {},
          "execution_count": 18
        }
      ]
    },
    {
      "cell_type": "markdown",
      "source": [
        "#Step:8 Confirming the C4 diel model for NAD-ME C4 photosynthesis\n",
        "\n",
        "for the confirmation checked the transfer reactions between mesophyll and bundle sheath"
      ],
      "metadata": {
        "id": "Rg8tfjudH7E4"
      }
    },
    {
      "cell_type": "code",
      "source": [
        "# Check for large metabolite exchange between Mesophyll and Bundle sheath cells\n",
        "for rxn in C4_model.reactions.query(\"_MBStransfer_Day\"):\n",
        "  if abs(rxn.flux)>20:\n",
        "    print(rxn.id+\"\\t\"+rxn.reaction+\"\\t\"+str(rxn.flux))"
      ],
      "metadata": {
        "id": "R9Bbg-n9y5Xm",
        "colab": {
          "base_uri": "https://localhost:8080/"
        },
        "outputId": "1e31c2bd-b5d4-4a72-c5c9-0a6b7e1f05e4"
      },
      "execution_count": null,
      "outputs": [
        {
          "output_type": "stream",
          "name": "stdout",
          "text": [
            "GAP_c_MBStransfer_Day\tGAP_c1 <=> GAP_c3\t75.76196964819825\n",
            "MAL_c_MBStransfer_Day\tMAL_c1 <=> MAL_c3\t40.456119314344974\n",
            "G3P_c_MBStransfer_Day\tG3P_c1 <=> G3P_c3\t-75.07590032639052\n",
            "aPi_c_MBStransfer_Day\taPi_c1 <=> aPi_c3\t11.70207341257748\n",
            "Pi_c_MBStransfer_Day\tPi_c1 <=> Pi_c3\t27.304837962680768\n",
            "L_ALPHA_ALANINE_c_MBStransfer_Day\tL_ALPHA_ALANINE_c1 <=> L_ALPHA_ALANINE_c3\t-43.831072420903475\n",
            "PHOSPHO_ENOL_PYRUVATE_c_MBStransfer_Day\tPHOSPHO_ENOL_PYRUVATE_c1 <=> PHOSPHO_ENOL_PYRUVATE_c3\t-39.69298069706593\n",
            "L_ASPARTATE_c_MBStransfer_Day\tL_ASPARTATE_c1 <=> L_ASPARTATE_c3\t48.75295707978313\n"
          ]
        }
      ]
    },
    {
      "cell_type": "code",
      "source": [
        "print(\"Observing PEPC activity ...\")\n",
        "# Check activity of all C4 decarboxylating enzymes\n",
        "for rxn in [\"PEPCARBOX_RXN_c1\",]:\n",
        "  rxn = C4_model.reactions.get_by_id(rxn)\n",
        "  print(rxn.id+\"\\t\"+rxn.name+\"\\t\"+str(rxn.flux))\n",
        "\n",
        "\n",
        "print(\"\\n\\nObserving activity of decarboxylating enzymes...\")\n",
        "# Check activity of all C4 decarboxylating enzymes\n",
        "for rxn in [\"MALIC_NADP_RXN_p3\",\"MALIC_NADP_RXN_c3\",\"PEPCARBOXYKIN_RXN_c3\",\"1_PERIOD_1_PERIOD_1_PERIOD_39_RXN_m3\"]:\n",
        "  rxn = C4_model.reactions.get_by_id(rxn)\n",
        "  print(rxn.id+\"\\t\"+rxn.name+\"\\t\"+str(rxn.flux))"
      ],
      "metadata": {
        "colab": {
          "base_uri": "https://localhost:8080/"
        },
        "id": "_jPqaZErYiam",
        "outputId": "0dd58ae5-1796-4607-cc21-075253c5b3d7"
      },
      "execution_count": null,
      "outputs": [
        {
          "output_type": "stream",
          "name": "stdout",
          "text": [
            "Observing PEPC activity ...\n",
            "PEPCARBOX_RXN_c1\tPEPCARBOX-RXN:Phosphoenolpyruvate carboxylase M Day\t85.79577973705318\n",
            "\n",
            "\n",
            "Observing activity of decarboxylating enzymes...\n",
            "MALIC_NADP_RXN_p3\tMALIC-NADP-RXN:Malate dehydrogenase (oxaloacetate decarboxylating) (NADP+) BS Day\t0.0\n",
            "MALIC_NADP_RXN_c3\tMALIC-NADP-RXN:Malate dehydrogenase (oxaloacetate decarboxylating) (NADP+) BS Day\t0.0\n",
            "PEPCARBOXYKIN_RXN_c3\tPEPCARBOXYKIN-RXN:Phosphoenolpyruvate carboxykinase (ATP) BS Day\t0.0\n",
            "1_PERIOD_1_PERIOD_1_PERIOD_39_RXN_m3\tMALIC-NAD-RXN:Malate dehydrogenase (oxaloacetate decarboxylating) BS Day\t85.26261202032642\n"
          ]
        }
      ]
    },
    {
      "cell_type": "markdown",
      "source": [
        "As you can observe here, with the addition of constraints for NAD-ME, NAD-ME is active decarboxylating enzyme in BS. Triose-P, Aspartate and Malate flux can be observed from M to BS, and 3PG, Alanine and PEP flux can be observed from BS to M. This is indicative of NAD-ME C4 subtype."
      ],
      "metadata": {
        "id": "sLMFTbyjYBM2"
      }
    },
    {
      "cell_type": "markdown",
      "source": [
        "#Step:9  Configuring the C4 diel model for NADP-ME C4 photosynthesis\n",
        "\n",
        " In order to configure the model for NADP-ME C4, where plastidic Malic Enzyme (NADP-ME) is the primary decarboxylating enzyme in the bundle sheath, one need to constrain NAD-ME and PEPCK reactions to carry zero flux"
      ],
      "metadata": {
        "id": "s73svpRBb1dM"
      }
    },
    {
      "cell_type": "code",
      "source": [
        "#Making a copy of backup to convert the model into NADP-ME type\n",
        "C4_model = backup.copy()\n",
        "\n",
        "#ensure bundle sheath plastidic NADP-ME is active\n",
        "C4_model.reactions.get_by_id(\"MALIC_NADP_RXN_p3\").lower_bound = 0\n",
        "C4_model.reactions.get_by_id(\"MALIC_NADP_RXN_p3\").upper_bound = 1000\n",
        "#constrain bundle sheath cytosolic NADP-ME to 0 for simplicity\n",
        "C4_model.reactions.get_by_id(\"MALIC_NADP_RXN_c3\").lower_bound = 0\n",
        "C4_model.reactions.get_by_id(\"MALIC_NADP_RXN_c3\").upper_bound = 0\n",
        "\n",
        "#constrain bundle sheath PEPCK to 0\n",
        "C4_model.reactions.get_by_id(\"PEPCARBOXYKIN_RXN_c3\").lower_bound = 0\n",
        "C4_model.reactions.get_by_id(\"PEPCARBOXYKIN_RXN_c3\").upper_bound = 0\n",
        "\n",
        "#constrain bundle sheath NAD-ME to 0\n",
        "C4_model.reactions.get_by_id(\"1_PERIOD_1_PERIOD_1_PERIOD_39_RXN_m3\").lower_bound = 0\n",
        "C4_model.reactions.get_by_id(\"1_PERIOD_1_PERIOD_1_PERIOD_39_RXN_m3\").upper_bound = 0\n",
        "\n",
        "# bundle sheath PSII flux has been reported to be absent in some NADP-ME leaves\n",
        "C4_model.reactions.get_by_id(\"PSII_RXN_p3\").lower_bound = 0\n",
        "C4_model.reactions.get_by_id(\"PSII_RXN_p3\").upper_bound = 0\n",
        "\n",
        "C4sol2 = pfba(C4_model)\n",
        "C4_model.summary()"
      ],
      "metadata": {
        "colab": {
          "base_uri": "https://localhost:8080/",
          "height": 754
        },
        "id": "7N6YE7ySW1SW",
        "outputId": "137cc69a-0cf8-4005-da6b-93766d283b1b"
      },
      "execution_count": null,
      "outputs": [
        {
          "output_type": "execute_result",
          "data": {
            "text/plain": [
              "<cobra.summary.model_summary.ModelSummary at 0x79c79bf45690>"
            ],
            "text/html": [
              "<h3>Objective</h3><p>1.0 AraCore_Biomass_tx1 + 1.0 Total_Phloem_output_tx = 5.263987551783706</p><h4>Uptake</h4><table border=\"1\" class=\"dataframe\">\n",
              "  <thead>\n",
              "    <tr style=\"text-align: right;\">\n",
              "      <th>Metabolite</th>\n",
              "      <th>Reaction</th>\n",
              "      <th>Flux</th>\n",
              "      <th>C-Number</th>\n",
              "      <th>C-Flux</th>\n",
              "    </tr>\n",
              "  </thead>\n",
              "  <tbody>\n",
              "    <tr>\n",
              "      <td>CARBON_DIOXIDE_e1</td>\n",
              "      <td>CO2_tx1</td>\n",
              "      <td>56.57</td>\n",
              "      <td>1</td>\n",
              "      <td>100.00%</td>\n",
              "    </tr>\n",
              "    <tr>\n",
              "      <td>WATER_e1</td>\n",
              "      <td>H2O_tx1</td>\n",
              "      <td>72.87</td>\n",
              "      <td>0</td>\n",
              "      <td>0.00%</td>\n",
              "    </tr>\n",
              "    <tr>\n",
              "      <td>NITRATE_e1</td>\n",
              "      <td>Nitrate_tx1</td>\n",
              "      <td>0.3459</td>\n",
              "      <td>0</td>\n",
              "      <td>0.00%</td>\n",
              "    </tr>\n",
              "    <tr>\n",
              "      <td>NITRATE_e2</td>\n",
              "      <td>Nitrate_tx2</td>\n",
              "      <td>0.1989</td>\n",
              "      <td>0</td>\n",
              "      <td>0.00%</td>\n",
              "    </tr>\n",
              "    <tr>\n",
              "      <td>NITRATE_e4</td>\n",
              "      <td>Nitrate_tx4</td>\n",
              "      <td>0.03169</td>\n",
              "      <td>0</td>\n",
              "      <td>0.00%</td>\n",
              "    </tr>\n",
              "    <tr>\n",
              "      <td>OXYGEN_MOLECULE_e2</td>\n",
              "      <td>O2_tx2</td>\n",
              "      <td>3.359</td>\n",
              "      <td>0</td>\n",
              "      <td>0.00%</td>\n",
              "    </tr>\n",
              "    <tr>\n",
              "      <td>OXYGEN_MOLECULE_e3</td>\n",
              "      <td>O2_tx3</td>\n",
              "      <td>3.841</td>\n",
              "      <td>0</td>\n",
              "      <td>0.00%</td>\n",
              "    </tr>\n",
              "    <tr>\n",
              "      <td>OXYGEN_MOLECULE_e4</td>\n",
              "      <td>O2_tx4</td>\n",
              "      <td>0.2724</td>\n",
              "      <td>0</td>\n",
              "      <td>0.00%</td>\n",
              "    </tr>\n",
              "    <tr>\n",
              "      <td>Photon_e1</td>\n",
              "      <td>Photon_tx1</td>\n",
              "      <td>500</td>\n",
              "      <td>0</td>\n",
              "      <td>0.00%</td>\n",
              "    </tr>\n",
              "    <tr>\n",
              "      <td>Photon_e3</td>\n",
              "      <td>Photon_tx3</td>\n",
              "      <td>359.8</td>\n",
              "      <td>0</td>\n",
              "      <td>0.00%</td>\n",
              "    </tr>\n",
              "    <tr>\n",
              "      <td>SULFATE_e1</td>\n",
              "      <td>SO4_tx1</td>\n",
              "      <td>0.004408</td>\n",
              "      <td>0</td>\n",
              "      <td>0.00%</td>\n",
              "    </tr>\n",
              "    <tr>\n",
              "      <td>PROTON_c1</td>\n",
              "      <td>unlProtHYPO_c1</td>\n",
              "      <td>0.5021</td>\n",
              "      <td>0</td>\n",
              "      <td>0.00%</td>\n",
              "    </tr>\n",
              "  </tbody>\n",
              "</table><h4>Secretion</h4><table border=\"1\" class=\"dataframe\">\n",
              "  <thead>\n",
              "    <tr style=\"text-align: right;\">\n",
              "      <th>Metabolite</th>\n",
              "      <th>Reaction</th>\n",
              "      <th>Flux</th>\n",
              "      <th>C-Number</th>\n",
              "      <th>C-Flux</th>\n",
              "    </tr>\n",
              "  </thead>\n",
              "  <tbody>\n",
              "    <tr>\n",
              "      <td>CARBON_DIOXIDE_e2</td>\n",
              "      <td>CO2_tx2</td>\n",
              "      <td>-3.524</td>\n",
              "      <td>1</td>\n",
              "      <td>100.00%</td>\n",
              "    </tr>\n",
              "    <tr>\n",
              "      <td>WATER_e2</td>\n",
              "      <td>H2O_tx2</td>\n",
              "      <td>-1.605</td>\n",
              "      <td>0</td>\n",
              "      <td>0.00%</td>\n",
              "    </tr>\n",
              "    <tr>\n",
              "      <td>WATER_e3</td>\n",
              "      <td>H2O_tx3</td>\n",
              "      <td>-22.11</td>\n",
              "      <td>0</td>\n",
              "      <td>0.00%</td>\n",
              "    </tr>\n",
              "    <tr>\n",
              "      <td>WATER_e4</td>\n",
              "      <td>H2O_tx4</td>\n",
              "      <td>-0.3531</td>\n",
              "      <td>0</td>\n",
              "      <td>0.00%</td>\n",
              "    </tr>\n",
              "    <tr>\n",
              "      <td>OXYGEN_MOLECULE_e1</td>\n",
              "      <td>O2_tx1</td>\n",
              "      <td>-61.63</td>\n",
              "      <td>0</td>\n",
              "      <td>0.00%</td>\n",
              "    </tr>\n",
              "  </tbody>\n",
              "</table>"
            ]
          },
          "metadata": {},
          "execution_count": 32
        }
      ]
    },
    {
      "cell_type": "markdown",
      "source": [
        "#Step:10 Confirming the C4 diel model for NADP-ME C4 photosynthesis\n",
        "\n",
        "for the confirmation checked the transfer reactions between mesophyll and bundle sheath"
      ],
      "metadata": {
        "id": "un7b3RhrIgKA"
      }
    },
    {
      "cell_type": "code",
      "source": [
        "# Check for large metabolite exchange between Mesophyll and Bundle sheath cells\n",
        "for rxn in C4_model.reactions.query(\"_MBStransfer_Day\"):\n",
        "  if abs(rxn.flux)>20:\n",
        "    print(rxn.id+\"\\t\"+rxn.reaction+\"\\t\"+str(rxn.flux))"
      ],
      "metadata": {
        "colab": {
          "base_uri": "https://localhost:8080/"
        },
        "id": "BZWNA-gmcSQY",
        "outputId": "711df8f1-d8a5-4dca-8b4e-44dd461e06f1"
      },
      "execution_count": null,
      "outputs": [
        {
          "output_type": "stream",
          "name": "stdout",
          "text": [
            "GAP_c_MBStransfer_Day\tGAP_c1 <=> GAP_c3\t54.61669903739009\n",
            "PYRUVATE_c_MBStransfer_Day\tPYRUVATE_c1 <=> PYRUVATE_c3\t-59.37568406840053\n",
            "MAL_c_MBStransfer_Day\tMAL_c1 <=> MAL_c3\t64.41662643185354\n",
            "G3P_c_MBStransfer_Day\tG3P_c1 <=> G3P_c3\t-53.79636182111048\n"
          ]
        }
      ]
    },
    {
      "cell_type": "code",
      "source": [
        "print(\"Observing PEPC activity ...\")\n",
        "# Check activity of all C4 decarboxylating enzymes\n",
        "for rxn in [\"PEPCARBOX_RXN_c1\",]:\n",
        "  rxn = C4_model.reactions.get_by_id(rxn)\n",
        "  print(rxn.id+\"\\t\"+rxn.name+\"\\t\"+str(rxn.flux))\n",
        "\n",
        "\n",
        "print(\"\\n\\nObserving activity of decarboxylating enzymes...\")\n",
        "# Check activity of all C4 decarboxylating enzymes\n",
        "for rxn in [\"MALIC_NADP_RXN_p3\",\"MALIC_NADP_RXN_c3\",\"PEPCARBOXYKIN_RXN_c3\",\"1_PERIOD_1_PERIOD_1_PERIOD_39_RXN_m3\"]:\n",
        "  rxn = C4_model.reactions.get_by_id(rxn)\n",
        "  print(rxn.id+\"\\t\"+rxn.name+\"\\t\"+str(rxn.flux))"
      ],
      "metadata": {
        "colab": {
          "base_uri": "https://localhost:8080/"
        },
        "id": "__mqWXBfcVKn",
        "outputId": "6c207d16-c6ca-45b5-fb33-701f372894d4"
      },
      "execution_count": null,
      "outputs": [
        {
          "output_type": "stream",
          "name": "stdout",
          "text": [
            "Observing PEPC activity ...\n",
            "PEPCARBOX_RXN_c1\tPEPCARBOX-RXN:Phosphoenolpyruvate carboxylase M Day\t56.570632600035786\n",
            "\n",
            "\n",
            "Observing activity of decarboxylating enzymes...\n",
            "MALIC_NADP_RXN_p3\tMALIC-NADP-RXN:Malate dehydrogenase (oxaloacetate decarboxylating) (NADP+) BS Day\t56.5571844291538\n",
            "MALIC_NADP_RXN_c3\tMALIC-NADP-RXN:Malate dehydrogenase (oxaloacetate decarboxylating) (NADP+) BS Day\t0.0\n",
            "PEPCARBOXYKIN_RXN_c3\tPEPCARBOXYKIN-RXN:Phosphoenolpyruvate carboxykinase (ATP) BS Day\t0.0\n",
            "1_PERIOD_1_PERIOD_1_PERIOD_39_RXN_m3\tMALIC-NAD-RXN:Malate dehydrogenase (oxaloacetate decarboxylating) BS Day\t0.0\n"
          ]
        }
      ]
    },
    {
      "cell_type": "markdown",
      "source": [
        "As you can observe here, with the addition of constraints for NADP-ME, NADP-ME is active decarboxylating enzyme in BS. Triose-P and Malate flux can be observed from M to BS, and 3PG and Pyruvate flux can be observed from BS to M. This is indicative of NADP-ME C4 subtype."
      ],
      "metadata": {
        "id": "YyDEuH0TcrUo"
      }
    },
    {
      "cell_type": "markdown",
      "source": [
        "*Note that we have only considered a few critical and large fluxes in this analysis. For a proper analysis, a flux map of the predicted flux distribution should be developed, similar to Figure 3 in the manuscript.*"
      ],
      "metadata": {
        "id": "sM6EnUbweX8D"
      }
    },
    {
      "cell_type": "code",
      "source": [],
      "metadata": {
        "id": "7pH0Yu98cXbH"
      },
      "execution_count": null,
      "outputs": []
    }
  ]
}