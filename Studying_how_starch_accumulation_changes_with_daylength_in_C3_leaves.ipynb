{
  "nbformat": 4,
  "nbformat_minor": 0,
  "metadata": {
    "colab": {
      "provenance": []
    },
    "kernelspec": {
      "name": "python3",
      "display_name": "Python 3"
    },
    "language_info": {
      "name": "python"
    }
  },
  "cells": [
    {
      "cell_type": "markdown",
      "source": [
        "# Model a C3 diel leaf for 12hr photoperiod"
      ],
      "metadata": {
        "id": "X3K1nZkzWQGt"
      }
    },
    {
      "cell_type": "markdown",
      "source": [
        "## Install cobrapy"
      ],
      "metadata": {
        "id": "6OjB9B0Orncq"
      }
    },
    {
      "cell_type": "code",
      "execution_count": 1,
      "metadata": {
        "id": "vRLfDBeCPFye",
        "colab": {
          "base_uri": "https://localhost:8080/"
        },
        "outputId": "1304ced5-bc51-463b-f1c3-5bd1b0b05db5"
      },
      "outputs": [
        {
          "output_type": "stream",
          "name": "stdout",
          "text": [
            "\u001b[?25l   \u001b[90m━━━━━━━━━━━━━━━━━━━━━━━━━━━━━━━━━━━━━━━━\u001b[0m \u001b[32m0.0/1.2 MB\u001b[0m \u001b[31m?\u001b[0m eta \u001b[36m-:--:--\u001b[0m\r\u001b[2K   \u001b[91m━━━━━━━━━━━━━━━━━━━━━━━━\u001b[0m\u001b[90m╺\u001b[0m\u001b[90m━━━━━━━━━━━━━━━\u001b[0m \u001b[32m0.7/1.2 MB\u001b[0m \u001b[31m21.3 MB/s\u001b[0m eta \u001b[36m0:00:01\u001b[0m\r\u001b[2K   \u001b[90m━━━━━━━━━━━━━━━━━━━━━━━━━━━━━━━━━━━━━━━━\u001b[0m \u001b[32m1.2/1.2 MB\u001b[0m \u001b[31m19.9 MB/s\u001b[0m eta \u001b[36m0:00:00\u001b[0m\n",
            "\u001b[?25h\u001b[?25l   \u001b[90m━━━━━━━━━━━━━━━━━━━━━━━━━━━━━━━━━━━━━━━━\u001b[0m \u001b[32m0.0/45.5 kB\u001b[0m \u001b[31m?\u001b[0m eta \u001b[36m-:--:--\u001b[0m\r\u001b[2K   \u001b[90m━━━━━━━━━━━━━━━━━━━━━━━━━━━━━━━━━━━━━━━━\u001b[0m \u001b[32m45.5/45.5 kB\u001b[0m \u001b[31m2.9 MB/s\u001b[0m eta \u001b[36m0:00:00\u001b[0m\n",
            "\u001b[2K   \u001b[90m━━━━━━━━━━━━━━━━━━━━━━━━━━━━━━━━━━━━━━━━\u001b[0m \u001b[32m141.8/141.8 kB\u001b[0m \u001b[31m8.6 MB/s\u001b[0m eta \u001b[36m0:00:00\u001b[0m\n",
            "\u001b[2K   \u001b[90m━━━━━━━━━━━━━━━━━━━━━━━━━━━━━━━━━━━━━━━━\u001b[0m \u001b[32m8.1/8.1 MB\u001b[0m \u001b[31m71.1 MB/s\u001b[0m eta \u001b[36m0:00:00\u001b[0m\n",
            "\u001b[2K   \u001b[90m━━━━━━━━━━━━━━━━━━━━━━━━━━━━━━━━━━━━━━━━\u001b[0m \u001b[32m117.7/117.7 kB\u001b[0m \u001b[31m7.8 MB/s\u001b[0m eta \u001b[36m0:00:00\u001b[0m\n",
            "\u001b[2K   \u001b[90m━━━━━━━━━━━━━━━━━━━━━━━━━━━━━━━━━━━━━━━━\u001b[0m \u001b[32m2.3/2.3 MB\u001b[0m \u001b[31m53.8 MB/s\u001b[0m eta \u001b[36m0:00:00\u001b[0m\n",
            "\u001b[2K   \u001b[90m━━━━━━━━━━━━━━━━━━━━━━━━━━━━━━━━━━━━━━━━\u001b[0m \u001b[32m739.1/739.1 kB\u001b[0m \u001b[31m28.6 MB/s\u001b[0m eta \u001b[36m0:00:00\u001b[0m\n",
            "\u001b[?25h"
          ]
        }
      ],
      "source": [
        "%pip install cobra --quiet"
      ]
    },
    {
      "cell_type": "markdown",
      "source": [
        "## Import C3 model from Github"
      ],
      "metadata": {
        "id": "FFGzfIb8rrcx"
      }
    },
    {
      "cell_type": "code",
      "source": [
        "# Retrieving the model\n",
        "!wget -q https://raw.githubusercontent.com/sshameer/DielLeafModeling/refs/heads/main/C3_model.sbml\n"
      ],
      "metadata": {
        "id": "0juioCcHPRas"
      },
      "execution_count": 2,
      "outputs": []
    },
    {
      "cell_type": "markdown",
      "source": [
        "## Import functions required to read sbml, write sbml and perform pFBA"
      ],
      "metadata": {
        "id": "0vCIh2DMr8qk"
      }
    },
    {
      "cell_type": "code",
      "source": [
        "from cobra.io import read_sbml_model\n",
        "from cobra.io import write_sbml_model\n",
        "from cobra.flux_analysis import pfba"
      ],
      "metadata": {
        "id": "xh09RCISr_hZ"
      },
      "execution_count": 3,
      "outputs": []
    },
    {
      "cell_type": "markdown",
      "source": [
        "## Import the model and constrain diel leaf model for C3 photosynthesis"
      ],
      "metadata": {
        "id": "TZfp2igSsEPH"
      }
    },
    {
      "cell_type": "code",
      "source": [
        "C3_model = read_sbml_model(\"C3_model.sbml\")"
      ],
      "metadata": {
        "id": "pg1CtB5csMQQ"
      },
      "execution_count": 4,
      "outputs": []
    },
    {
      "cell_type": "code",
      "source": [
        "# constraining GPT transport reaction\n",
        "C3_model.reactions.get_by_id(\"G6P_Pi_pc1\").lower_bound= 0\n",
        "C3_model.reactions.get_by_id(\"G6P_Pi_pc1\").upper_bound= 0\n",
        "C3_model.reactions.get_by_id(\"G6P_Pi_pc2\").lower_bound= 0\n",
        "C3_model.reactions.get_by_id(\"G6P_Pi_pc2\").upper_bound= 0"
      ],
      "metadata": {
        "id": "SIQqXaXejH09"
      },
      "execution_count": 5,
      "outputs": []
    },
    {
      "cell_type": "code",
      "source": [
        "# constraining sucrose accumulation to model a starch storing leaf\n",
        "C3_model.reactions.get_by_id(\"SUCROSE_v_dielTransfer\").bounds = (0,0)"
      ],
      "metadata": {
        "id": "fBecOP0XSIyD"
      },
      "execution_count": 6,
      "outputs": []
    },
    {
      "cell_type": "code",
      "source": [
        "# constraining starch phosphorylation\n",
        "C3_model.reactions.get_by_id(\"RXN_1826_p1\").lower_bound= 0\n",
        "C3_model.reactions.get_by_id(\"RXN_1826_p1\").upper_bound= 0\n",
        "C3_model.reactions.get_by_id(\"RXN_1826_p2\").lower_bound= 0\n",
        "C3_model.reactions.get_by_id(\"RXN_1826_p2\").upper_bound= 0"
      ],
      "metadata": {
        "id": "D_AajNxCjOPM"
      },
      "execution_count": 7,
      "outputs": []
    },
    {
      "cell_type": "code",
      "source": [
        "# Setting photon uptake\n",
        "PPFD = 500 #umol/m2/s\n",
        "C3_model.reactions.get_by_id(\"Photon_tx1\").upper_bound = PPFD\n",
        "C3_model.reactions.get_by_id(\"Photon_tx1\").lower_bound = 0\n",
        "# Setting maintenance cost\n",
        "VATPase = 0.0049*PPFD+2.7851\n",
        "C3_model.reactions.get_by_id(\"ATPase_tx1\").bounds = (VATPase,VATPase)\n",
        "C3sol = pfba(C3_model)"
      ],
      "metadata": {
        "id": "14yQuwwyRe89"
      },
      "execution_count": 8,
      "outputs": []
    },
    {
      "cell_type": "code",
      "source": [
        "backup = C3_model.copy()"
      ],
      "metadata": {
        "id": "fSp2sjLWN3R-"
      },
      "execution_count": 9,
      "outputs": []
    },
    {
      "cell_type": "markdown",
      "source": [
        "This simple C3 model set up represents a 12-12 hour day. In order to model days of different daylength when the fluxes are all represented in umol/m2/s, the stoichiometry of all linker reactions need to be updated to reflect the difference in daylength such that the stoichiometry on the day metabolite is (24-daylength)/daylength"
      ],
      "metadata": {
        "id": "KRljZU5LL6NR"
      }
    },
    {
      "cell_type": "code",
      "source": [
        "C3_model = backup.copy()\n",
        "\n",
        "daylength = 16\n",
        "\n",
        "for rxn in C3_model.reactions.query(\"_dielTransfer\"):\n",
        "  # print(rxn.id)\n",
        "  # print(rxn.reaction)\n",
        "  for met in rxn.reactants:\n",
        "    stoich = rxn.metabolites[met]\n",
        "    rxn.add_metabolites({met:round((-1*stoich)+(stoich*(24-daylength)/daylength),3)})\n",
        "  # print(rxn.reaction)\n",
        "\n"
      ],
      "metadata": {
        "id": "vIu6ajVAanaW"
      },
      "execution_count": 62,
      "outputs": []
    },
    {
      "cell_type": "markdown",
      "source": [
        "Confirm that the change in stoichiometry has been successful"
      ],
      "metadata": {
        "id": "jSXuCXOYPKGy"
      }
    },
    {
      "cell_type": "code",
      "source": [
        "print(\"Original stoichiometry:\")\n",
        "print(backup.reactions.get_by_id(\"STARCH_p_dielTransfer\").reaction)\n",
        "\n",
        "print(\"\\nNew stoichiometry:\")\n",
        "print(C3_model.reactions.get_by_id(\"STARCH_p_dielTransfer\").reaction)"
      ],
      "metadata": {
        "colab": {
          "base_uri": "https://localhost:8080/"
        },
        "id": "_yn14dxwK0qg",
        "outputId": "15d1e29c-c349-4f9d-b489-29a1a1b1a52b"
      },
      "execution_count": 63,
      "outputs": [
        {
          "output_type": "stream",
          "name": "stdout",
          "text": [
            "Original stoichiometry:\n",
            "STARCH_p1 <=> STARCH_p2\n",
            "\n",
            "New stoichiometry:\n",
            "0.5 STARCH_p1 <=> STARCH_p2\n"
          ]
        }
      ]
    },
    {
      "cell_type": "code",
      "source": [
        "C3sol = pfba(C3_model)"
      ],
      "metadata": {
        "id": "1hphjENIK3nP"
      },
      "execution_count": 64,
      "outputs": []
    },
    {
      "cell_type": "code",
      "source": [
        "# Starch synthesis reaction is identified\n",
        "StarchSynDay = C3_model.reactions.get_by_id(\"GLYCOGENSYN_RXN_p1\")\n",
        "# Number of moles of starch (GLC units) generated by the reaction is noted\n",
        "StarchDayStoich = C3_model.reactions.get_by_id(\"GLYCOGENSYN_RXN_p1\").metabolites[C3_model.metabolites.get_by_id(\"STARCH_p1\")]\n",
        "# Print starch synthesis rate\n",
        "print(\"Starch synthesis rate (umol GLC/m2/s) =\"+str(StarchSynDay.flux*StarchDayStoich))\n",
        "print(\"Total starch accumulated over \"+str(daylength)+\"hr photperiod (mmol GLC/m2) =\"+str(StarchSynDay.flux*StarchDayStoich*daylength*3600/1000))\n",
        "print(\"\")\n",
        "\n",
        "# Starch degradation reaction is identified\n",
        "StarchDegNight = C3_model.reactions.get_by_id(\"RXN_1827_p2\")\n",
        "# Number of moles of starch (GLC units) generated by the reaction is noted\n",
        "StarchNightStoich = C3_model.reactions.get_by_id(\"RXN_1827_p2\").metabolites[C3_model.metabolites.get_by_id(\"STARCH_p2\")]\n",
        "# Print starch degradation rate (flux is converted to absolute values)\n",
        "print(\"Starch degradation rate by hydrolysis (umol GLC/m2/s) =\"+str(abs(StarchDegNight.flux*StarchNightStoich)))\n",
        "print(\"Total starch degraded over \"+str(24-daylength)+\"hr photperiod (mmol GLC/m2) =\"+str(abs(StarchDegNight.flux*StarchNightStoich)*(24-daylength)*3600/1000))"
      ],
      "metadata": {
        "colab": {
          "base_uri": "https://localhost:8080/"
        },
        "id": "lqvhx4tmPmJw",
        "outputId": "11977771-ea6c-49b4-b470-5d8f37371e61"
      },
      "execution_count": 65,
      "outputs": [
        {
          "output_type": "stream",
          "name": "stdout",
          "text": [
            "Starch synthesis rate (umol GLC/m2/s) =0.9852014076347134\n",
            "Total starch accumulated over 16hr photperiod (mmol GLC/m2) =56.74760107975949\n",
            "\n",
            "Starch degradation rate by hydrolysis (umol GLC/m2/s) =1.9704028152694268\n",
            "Total starch degraded over 8hr photperiod (mmol GLC/m2) =56.74760107975949\n"
          ]
        }
      ]
    },
    {
      "cell_type": "markdown",
      "source": [
        "# Studying relationship between daylength and transitory starch accumulated"
      ],
      "metadata": {
        "id": "_vd_BBSDV6p6"
      }
    },
    {
      "cell_type": "markdown",
      "source": [
        "In order to repeat the process of setting daylenght and calculating total starch accumulated multiple times, the above lines of code can be packed in a function"
      ],
      "metadata": {
        "id": "ZS_IHTB2WZBX"
      }
    },
    {
      "cell_type": "code",
      "source": [
        "def calculateTransitoryStarchLevels(Orig_model,daylength):\n",
        "  new_model = Orig_model.copy()\n",
        "\n",
        "  #update stoichiometry based on daylength\n",
        "  for rxn in new_model.reactions.query(\"_dielTransfer\"):\n",
        "    for met in rxn.reactants:\n",
        "      stoich = rxn.metabolites[met]\n",
        "      rxn.add_metabolites({met:round((-1*stoich)+(stoich*(24-daylength)/daylength),3)})\n",
        "\n",
        "  # perform pFBA\n",
        "  tempsol = pfba(new_model)\n",
        "\n",
        "  # Starch synthesis reaction is identified\n",
        "  StarchSynDay = new_model.reactions.get_by_id(\"GLYCOGENSYN_RXN_p1\")\n",
        "  # Number of moles of starch (GLC units) generated by the reaction is noted\n",
        "  StarchDayStoich = new_model.reactions.get_by_id(\"GLYCOGENSYN_RXN_p1\").metabolites[new_model.metabolites.get_by_id(\"STARCH_p1\")]\n",
        "  # Starch accumulation rate\n",
        "  Answer = StarchSynDay.flux*StarchDayStoich\n",
        "  return(Answer)\n"
      ],
      "metadata": {
        "id": "MyVwijyjRvzZ"
      },
      "execution_count": 66,
      "outputs": []
    },
    {
      "cell_type": "code",
      "source": [
        "# create variables to store the daylengths, starch accumulation rate and total starch accumulated\n",
        "daylengthList = [6,8,12,16,18]\n",
        "StarchAccumRateList = []\n",
        "\n",
        "# Using a for loop simulate daylength of 6hrs, 8hrs, 12hrs, 16hrs and 18hrs\n",
        "for daylength in daylengthList:\n",
        "  StarchAccumRate = calculateTransitoryStarchLevels(backup,daylength)\n",
        "  StarchAccumRateList.append(StarchAccumRate)\n",
        "  print(\"Starch accumulation rate (mmol GLC/m2/s) =\"+str(StarchAccumRate))"
      ],
      "metadata": {
        "colab": {
          "base_uri": "https://localhost:8080/"
        },
        "id": "k7JTyy93SrPq",
        "outputId": "bfe6f9ba-ba07-4151-97db-bad5fd6aa7b3"
      },
      "execution_count": 70,
      "outputs": [
        {
          "output_type": "stream",
          "name": "stdout",
          "text": [
            "Total starch accumulation rate (mmol GLC/m2/s) =3.378587449729775\n",
            "Total starch accumulated over 6hr photperiod (mmol GLC/m2) =72.97748891416315\n",
            "Total starch accumulation rate (mmol GLC/m2/s) =2.711846636376434\n",
            "Total starch accumulated over 8hr photperiod (mmol GLC/m2) =78.1011831276413\n",
            "Total starch accumulation rate (mmol GLC/m2/s) =1.7000062660249575\n",
            "Total starch accumulated over 12hr photperiod (mmol GLC/m2) =73.44027069227816\n",
            "Total starch accumulation rate (mmol GLC/m2/s) =0.9852014076347134\n",
            "Total starch accumulated over 16hr photperiod (mmol GLC/m2) =56.74760107975949\n",
            "Total starch accumulation rate (mmol GLC/m2/s) =0.7614706924714428\n",
            "Total starch accumulated over 18hr photperiod (mmol GLC/m2) =49.3433008721495\n"
          ]
        }
      ]
    },
    {
      "cell_type": "markdown",
      "source": [
        "## Plotting the results"
      ],
      "metadata": {
        "id": "EdnYDFFElFIF"
      }
    },
    {
      "cell_type": "code",
      "source": [
        "from matplotlib import pyplot as plt\n",
        "\n",
        "# Create two subplots side by side\n",
        "fig, axs = plt.subplots(1, 1, figsize=(4, 4))  # 1 row, 2 columns\n",
        "\n",
        "# Plot starch accumulation rate vs daylength\n",
        "axs.scatter(daylengthList, StarchAccumRateList,color=\"black\")\n",
        "axs.set_xlabel(\"Daylength (hrs)\")\n",
        "axs.set_ylabel(\"Starch accumulation rate (mmol GLC/m2/s)\")\n",
        "axs.set_title(\"A\")\n",
        "\n",
        "plt.tight_layout()\n",
        "plt.show()"
      ],
      "metadata": {
        "colab": {
          "base_uri": "https://localhost:8080/",
          "height": 407
        },
        "id": "nPdc7H0-k5mm",
        "outputId": "3bf081c5-89ba-485d-cc4b-5fdb67cbf665"
      },
      "execution_count": 85,
      "outputs": [
        {
          "output_type": "display_data",
          "data": {
            "text/plain": [
              "<Figure size 400x400 with 1 Axes>"
            ],
            "image/png": "[encoded data removed]"
          },
          "metadata": {}
        }
      ]
    },
    {
      "cell_type": "markdown",
      "source": [
        "From plotting, we see that starch accumulation rate is inversely related to daylength. This is in-line with known leaf behaviour [Hewitt et. al., 1985](https://academic.oup.com/aob/article/56/4/513/251815)"
      ],
      "metadata": {
        "id": "WC_Le2hxlJTE"
      }
    },
    {
      "cell_type": "code",
      "source": [],
      "metadata": {
        "id": "7GWoyVVBe8bd"
      },
      "execution_count": null,
      "outputs": []
    }
  ]
}