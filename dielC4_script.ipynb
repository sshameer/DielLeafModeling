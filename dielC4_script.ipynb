{
  "nbformat": 4,
  "nbformat_minor": 0,
  "metadata": {
    "colab": {
      "provenance": []
    },
    "kernelspec": {
      "name": "python3",
      "display_name": "Python 3"
    },
    "language_info": {
      "name": "python"
    }
  },
  "cells": [
    {
      "cell_type": "markdown",
      "source": [
        "## Install cobrapy"
      ],
      "metadata": {
        "id": "Ss1EguFmug_n"
      }
    },
    {
      "cell_type": "code",
      "execution_count": 5,
      "metadata": {
        "id": "3nSDYllTSwiI"
      },
      "outputs": [],
      "source": [
        "%pip install cobra  --quiet"
      ]
    },
    {
      "cell_type": "markdown",
      "source": [
        "## Import C4 model from Github"
      ],
      "metadata": {
        "id": "d4G6-PQEuo2i"
      }
    },
    {
      "cell_type": "code",
      "source": [
        "# Retrieving the model\n",
        "!wget -q https://raw.githubusercontent.com/sshameer/DielLeafModeling/refs/heads/main/C4_model.sbml"
      ],
      "metadata": {
        "id": "lgcpNvssuuj4"
      },
      "execution_count": 4,
      "outputs": []
    },
    {
      "cell_type": "markdown",
      "source": [
        "## Import functions required to read sbml, write sbml and perform pFBA"
      ],
      "metadata": {
        "id": "zXSuwu14wj5u"
      }
    },
    {
      "cell_type": "code",
      "source": [
        "from cobra.io import read_sbml_model\n",
        "from cobra.io import write_sbml_model\n",
        "from cobra.flux_analysis import pfba"
      ],
      "metadata": {
        "id": "Vsyejm4GwlVH"
      },
      "execution_count": 6,
      "outputs": []
    },
    {
      "cell_type": "markdown",
      "source": [
        "## Import the model and constrain diel leaf model for C4 photosynthesis"
      ],
      "metadata": {
        "id": "nSxbWO6QvIcC"
      }
    },
    {
      "cell_type": "code",
      "source": [
        "\n",
        "C4_model = read_sbml_model(\"C4_model.sbml\")"
      ],
      "metadata": {
        "id": "WrfLujD7TRdr"
      },
      "execution_count": 7,
      "outputs": []
    },
    {
      "cell_type": "code",
      "source": [
        "# Setting photon uptake\n",
        "BS_PPFD = 500\n",
        "M_PPFD = 500\n",
        "C4_model.reactions.Photon_tx1.upper_bound = M_PPFD\n",
        "C4_model.reactions.Photon_tx3.upper_bound = BS_PPFD\n",
        "\n",
        "#Defining maintenance cost in bundle sheath\n",
        "\n",
        "BS_VATPase = 0.0049*BS_PPFD+2.7851\n",
        "C4_model.reactions.get_by_id(\"ATPase_tx3\").bounds = (BS_VATPase,BS_VATPase)\n",
        "\n",
        "#Defining maintenance cost in Mesophyll\n",
        "\n",
        "M_VATPase = 0.0049*M_PPFD+2.7851\n",
        "C4_model.reactions.get_by_id(\"ATPase_tx1\").bounds=(M_VATPase,M_VATPase)\n",
        "\n"
      ],
      "metadata": {
        "id": "jHj_UuOJTSsr"
      },
      "execution_count": 9,
      "outputs": []
    },
    {
      "cell_type": "code",
      "source": [
        "# Restrict mesophyll sucrose, mesophyll starch and bundlesheath sucrose accumulation\n",
        "for id in [\"SUCROSE_v_dielTransfer_BS\",\"SUCROSE_v_dielTransfer_M\",\"STARCH_p_dielTransfer_M\"]:\n",
        "    rxn = C4_model.reactions.get_by_id(id)\n",
        "    rxn.upper_bound = 0\n",
        "    rxn.lower_bound = 0"
      ],
      "metadata": {
        "id": "19PsLMy2Veei"
      },
      "execution_count": 10,
      "outputs": []
    },
    {
      "cell_type": "code",
      "source": [
        "C4sol = pfba(C4_model)\n",
        "C4_model.summary()"
      ],
      "metadata": {
        "id": "9n1htICBV4Fx",
        "colab": {
          "base_uri": "https://localhost:8080/",
          "height": 692
        },
        "outputId": "962a4149-3d0a-4c8d-a87d-96315deef173"
      },
      "execution_count": 11,
      "outputs": [
        {
          "output_type": "execute_result",
          "data": {
            "text/plain": [
              "<cobra.summary.model_summary.ModelSummary at 0x793cfa442d90>"
            ],
            "text/html": [
              "<h3>Objective</h3><p>1.0 AraCore_Biomass_tx1 + 1.0 Total_Phloem_output_tx = 8.943891322232565</p><h4>Uptake</h4><table border=\"1\" class=\"dataframe\">\n",
              "  <thead>\n",
              "    <tr style=\"text-align: right;\">\n",
              "      <th>Metabolite</th>\n",
              "      <th>Reaction</th>\n",
              "      <th>Flux</th>\n",
              "      <th>C-Number</th>\n",
              "      <th>C-Flux</th>\n",
              "    </tr>\n",
              "  </thead>\n",
              "  <tbody>\n",
              "    <tr>\n",
              "      <td>CARBON_DIOXIDE_e1</td>\n",
              "      <td>CO2_tx1</td>\n",
              "      <td>94.03</td>\n",
              "      <td>1</td>\n",
              "      <td>100.00%</td>\n",
              "    </tr>\n",
              "    <tr>\n",
              "      <td>WATER_e1</td>\n",
              "      <td>H2O_tx1</td>\n",
              "      <td>96.25</td>\n",
              "      <td>0</td>\n",
              "      <td>0.00%</td>\n",
              "    </tr>\n",
              "    <tr>\n",
              "      <td>NITRATE_e1</td>\n",
              "      <td>Nitrate_tx1</td>\n",
              "      <td>0.5877</td>\n",
              "      <td>0</td>\n",
              "      <td>0.00%</td>\n",
              "    </tr>\n",
              "    <tr>\n",
              "      <td>NITRATE_e4</td>\n",
              "      <td>Nitrate_tx4</td>\n",
              "      <td>0.3918</td>\n",
              "      <td>0</td>\n",
              "      <td>0.00%</td>\n",
              "    </tr>\n",
              "    <tr>\n",
              "      <td>OXYGEN_MOLECULE_e2</td>\n",
              "      <td>O2_tx2</td>\n",
              "      <td>2.787</td>\n",
              "      <td>0</td>\n",
              "      <td>0.00%</td>\n",
              "    </tr>\n",
              "    <tr>\n",
              "      <td>OXYGEN_MOLECULE_e4</td>\n",
              "      <td>O2_tx4</td>\n",
              "      <td>1.329</td>\n",
              "      <td>0</td>\n",
              "      <td>0.00%</td>\n",
              "    </tr>\n",
              "    <tr>\n",
              "      <td>Photon_e1</td>\n",
              "      <td>Photon_tx1</td>\n",
              "      <td>500</td>\n",
              "      <td>0</td>\n",
              "      <td>0.00%</td>\n",
              "    </tr>\n",
              "    <tr>\n",
              "      <td>Photon_e3</td>\n",
              "      <td>Photon_tx3</td>\n",
              "      <td>500</td>\n",
              "      <td>0</td>\n",
              "      <td>0.00%</td>\n",
              "    </tr>\n",
              "    <tr>\n",
              "      <td>SULFATE_e1</td>\n",
              "      <td>SO4_tx1</td>\n",
              "      <td>0.007489</td>\n",
              "      <td>0</td>\n",
              "      <td>0.00%</td>\n",
              "    </tr>\n",
              "    <tr>\n",
              "      <td>PROTON_c1</td>\n",
              "      <td>unlProtHYPO_c1</td>\n",
              "      <td>0.853</td>\n",
              "      <td>0</td>\n",
              "      <td>0.00%</td>\n",
              "    </tr>\n",
              "  </tbody>\n",
              "</table><h4>Secretion</h4><table border=\"1\" class=\"dataframe\">\n",
              "  <thead>\n",
              "    <tr style=\"text-align: right;\">\n",
              "      <th>Metabolite</th>\n",
              "      <th>Reaction</th>\n",
              "      <th>Flux</th>\n",
              "      <th>C-Number</th>\n",
              "      <th>C-Flux</th>\n",
              "    </tr>\n",
              "  </thead>\n",
              "  <tbody>\n",
              "    <tr>\n",
              "      <td>CARBON_DIOXIDE_e2</td>\n",
              "      <td>CO2_tx2</td>\n",
              "      <td>-3.898</td>\n",
              "      <td>1</td>\n",
              "      <td>100.00%</td>\n",
              "    </tr>\n",
              "    <tr>\n",
              "      <td>WATER_e3</td>\n",
              "      <td>H2O_tx3</td>\n",
              "      <td>-11.81</td>\n",
              "      <td>0</td>\n",
              "      <td>0.00%</td>\n",
              "    </tr>\n",
              "    <tr>\n",
              "      <td>WATER_e4</td>\n",
              "      <td>H2O_tx4</td>\n",
              "      <td>-1.524</td>\n",
              "      <td>0</td>\n",
              "      <td>0.00%</td>\n",
              "    </tr>\n",
              "    <tr>\n",
              "      <td>OXYGEN_MOLECULE_e1</td>\n",
              "      <td>O2_tx1</td>\n",
              "      <td>-61.63</td>\n",
              "      <td>0</td>\n",
              "      <td>0.00%</td>\n",
              "    </tr>\n",
              "    <tr>\n",
              "      <td>OXYGEN_MOLECULE_e3</td>\n",
              "      <td>O2_tx3</td>\n",
              "      <td>-34.5</td>\n",
              "      <td>0</td>\n",
              "      <td>0.00%</td>\n",
              "    </tr>\n",
              "  </tbody>\n",
              "</table>"
            ]
          },
          "metadata": {},
          "execution_count": 11
        }
      ]
    },
    {
      "cell_type": "code",
      "source": [
        "for rxn in C4_model.reactions.query(\"_MBStransfer_Day\"):\n",
        "  if abs(rxn.flux)>20:\n",
        "    print(rxn.id+\"\\t\"+rxn.reaction+\"\\t\"+str(rxn.flux))"
      ],
      "metadata": {
        "colab": {
          "base_uri": "https://localhost:8080/"
        },
        "id": "4z0NZF5-xhQO",
        "outputId": "125ef134-061a-43cc-fb2e-d95347817b1c"
      },
      "execution_count": 20,
      "outputs": [
        {
          "output_type": "stream",
          "name": "stdout",
          "text": [
            "GAP_c_MBStransfer_Day\tGAP_c1 <=> GAP_c3\t77.97396296998339\n",
            "MAL_c_MBStransfer_Day\tMAL_c1 <=> MAL_c3\t39.645652981231855\n",
            "G3P_c_MBStransfer_Day\tG3P_c1 <=> G3P_c3\t-78.11796842374217\n",
            "Pi_c_MBStransfer_Day\tPi_c1 <=> Pi_c3\t38.81087010676192\n",
            "L_ALPHA_ALANINE_c_MBStransfer_Day\tL_ALPHA_ALANINE_c1 <=> L_ALPHA_ALANINE_c3\t-48.764133120049536\n",
            "PHOSPHO_ENOL_PYRUVATE_c_MBStransfer_Day\tPHOSPHO_ENOL_PYRUVATE_c1 <=> PHOSPHO_ENOL_PYRUVATE_c3\t-55.30009469875812\n",
            "L_ASPARTATE_c_MBStransfer_Day\tL_ASPARTATE_c1 <=> L_ASPARTATE_c3\t54.29496475206475\n"
          ]
        }
      ]
    },
    {
      "cell_type": "markdown",
      "source": [
        "### When observing fluxes between mesophyll(M) and bundle sheath(BS) during the day, we see Aspartate, malate and triose-P transfer from M to BS. ALA, PEP and 3PG can also be observed to move from BS to M, indicative of C4 PEPCK."
      ],
      "metadata": {
        "id": "wnVMPkXvyJVM"
      }
    },
    {
      "cell_type": "code",
      "source": [],
      "metadata": {
        "id": "R9Bbg-n9y5Xm"
      },
      "execution_count": null,
      "outputs": []
    }
  ]
}