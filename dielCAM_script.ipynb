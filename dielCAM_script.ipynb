{
  "nbformat": 4,
  "nbformat_minor": 0,
  "metadata": {
    "colab": {
      "provenance": []
    },
    "kernelspec": {
      "name": "python3",
      "display_name": "Python 3"
    },
    "language_info": {
      "name": "python"
    }
  },
  "cells": [
    {
      "cell_type": "markdown",
      "source": [
        "## Install cobrapy"
      ],
      "metadata": {
        "id": "wjCaK-S3ntb5"
      }
    },
    {
      "cell_type": "code",
      "execution_count": 8,
      "metadata": {
        "id": "36Mw-hVsWmOg"
      },
      "outputs": [],
      "source": [
        "%pip install cobra --quiet"
      ]
    },
    {
      "cell_type": "markdown",
      "source": [
        "## Import CAM model from Github\n",
        "Importing pH updating functions and excel from github"
      ],
      "metadata": {
        "id": "FpCI_tn2n0PZ"
      }
    },
    {
      "cell_type": "code",
      "source": [
        "# Retrieving the model\n",
        "!wget -q https://raw.githubusercontent.com/sshameer/DielLeafModeling/refs/heads/main/C3_model.sbml\n",
        "!wget -q https://raw.githubusercontent.com/sshameer/DielLeafModeling/refs/heads/main/Functions.py\n",
        "!wget -q https://raw.githubusercontent.com/sshameer/DielLeafModeling/refs/heads/main/MetaboliteChargedStates.xls"
      ],
      "metadata": {
        "id": "BCg82MxUWyHq"
      },
      "execution_count": 9,
      "outputs": []
    },
    {
      "cell_type": "markdown",
      "source": [
        "## Import functions required to read sbml, write sbml and perform pFBA"
      ],
      "metadata": {
        "id": "aP_1Mx0xn8jk"
      }
    },
    {
      "cell_type": "code",
      "source": [
        "from cobra.io import read_sbml_model\n",
        "from cobra.io import write_sbml_model\n",
        "from cobra.flux_analysis import pfba"
      ],
      "metadata": {
        "id": "isCg21uPnxS6"
      },
      "execution_count": 10,
      "outputs": []
    },
    {
      "cell_type": "markdown",
      "source": [
        "## Import the model and constrain diel leaf model for CAM photosynthesis"
      ],
      "metadata": {
        "id": "l1uLc2CsoKOU"
      }
    },
    {
      "cell_type": "code",
      "source": [
        "C3_model = read_sbml_model(\"C3_model.sbml\")\n",
        "CAM_model = C3_model.copy()"
      ],
      "metadata": {
        "id": "SFviHtrKb6jI"
      },
      "execution_count": 11,
      "outputs": []
    },
    {
      "cell_type": "code",
      "source": [
        "# restricting CO2 uptake to night\n",
        "CAM_model.reactions.CO2_tx1.upper_bound = 0\n",
        "CAM_model.reactions.CO2_tx1.lower_bound = 0\n",
        "\n",
        "\n",
        "# setting photon uptake\n",
        "PPFD = 800\n",
        "CAM_model.reactions.Photon_tx1.upper_bound = PPFD\n",
        "CAM_model.reactions.Photon_tx1.lower_bound = 0\n",
        "\n",
        "# setting the maintenance cost\n",
        "VATPase = 0.0049*PPFD+2.7851\n",
        "CAM_model.reactions.get_by_id(\"ATPase_tx1\").bounds= (VATPase,VATPase)\n",
        "solution = pfba(CAM_model)"
      ],
      "metadata": {
        "id": "EaR-zOVyW_IK"
      },
      "execution_count": 12,
      "outputs": []
    },
    {
      "cell_type": "code",
      "source": [
        "CAM_model.summary()"
      ],
      "metadata": {
        "id": "5r8EOJXuXwpY",
        "colab": {
          "base_uri": "https://localhost:8080/",
          "height": 535
        },
        "outputId": "552b7f62-eb6a-48e9-eb5b-fd6ec5c100c0"
      },
      "execution_count": 13,
      "outputs": [
        {
          "output_type": "execute_result",
          "data": {
            "text/plain": [
              "<cobra.summary.model_summary.ModelSummary at 0x7c32faeab550>"
            ],
            "text/html": [
              "<h3>Objective</h3><p>1.0 diel_biomass = 1.054822687007303</p><h4>Uptake</h4><table border=\"1\" class=\"dataframe\">\n",
              "  <thead>\n",
              "    <tr style=\"text-align: right;\">\n",
              "      <th>Metabolite</th>\n",
              "      <th>Reaction</th>\n",
              "      <th>Flux</th>\n",
              "      <th>C-Number</th>\n",
              "      <th>C-Flux</th>\n",
              "    </tr>\n",
              "  </thead>\n",
              "  <tbody>\n",
              "    <tr>\n",
              "      <td>CARBON_DIOXIDE_e2</td>\n",
              "      <td>CO2_tx2</td>\n",
              "      <td>42.52</td>\n",
              "      <td>1</td>\n",
              "      <td>100.00%</td>\n",
              "    </tr>\n",
              "    <tr>\n",
              "      <td>WATER_e1</td>\n",
              "      <td>H2O_tx1</td>\n",
              "      <td>19.11</td>\n",
              "      <td>0</td>\n",
              "      <td>0.00%</td>\n",
              "    </tr>\n",
              "    <tr>\n",
              "      <td>WATER_e2</td>\n",
              "      <td>H2O_tx2</td>\n",
              "      <td>20.01</td>\n",
              "      <td>0</td>\n",
              "      <td>0.00%</td>\n",
              "    </tr>\n",
              "    <tr>\n",
              "      <td>NITRATE_e1</td>\n",
              "      <td>Nitrate_tx1</td>\n",
              "      <td>0.2773</td>\n",
              "      <td>0</td>\n",
              "      <td>0.00%</td>\n",
              "    </tr>\n",
              "    <tr>\n",
              "      <td>NITRATE_e2</td>\n",
              "      <td>Nitrate_tx2</td>\n",
              "      <td>0.1848</td>\n",
              "      <td>0</td>\n",
              "      <td>0.00%</td>\n",
              "    </tr>\n",
              "    <tr>\n",
              "      <td>OXYGEN_MOLECULE_e2</td>\n",
              "      <td>O2_tx2</td>\n",
              "      <td>6.115</td>\n",
              "      <td>0</td>\n",
              "      <td>0.00%</td>\n",
              "    </tr>\n",
              "    <tr>\n",
              "      <td>Photon_e1</td>\n",
              "      <td>Photon_tx1</td>\n",
              "      <td>800</td>\n",
              "      <td>0</td>\n",
              "      <td>0.00%</td>\n",
              "    </tr>\n",
              "    <tr>\n",
              "      <td>SULFATE_e1</td>\n",
              "      <td>SO4_tx1</td>\n",
              "      <td>0.003533</td>\n",
              "      <td>0</td>\n",
              "      <td>0.00%</td>\n",
              "    </tr>\n",
              "    <tr>\n",
              "      <td>PROTON_c1</td>\n",
              "      <td>unlProtHYPO_c1</td>\n",
              "      <td>0.4024</td>\n",
              "      <td>0</td>\n",
              "      <td>0.00%</td>\n",
              "    </tr>\n",
              "  </tbody>\n",
              "</table><h4>Secretion</h4><table border=\"1\" class=\"dataframe\">\n",
              "  <thead>\n",
              "    <tr style=\"text-align: right;\">\n",
              "      <th>Metabolite</th>\n",
              "      <th>Reaction</th>\n",
              "      <th>Flux</th>\n",
              "      <th>C-Number</th>\n",
              "      <th>C-Flux</th>\n",
              "    </tr>\n",
              "  </thead>\n",
              "  <tbody>\n",
              "    <tr>\n",
              "      <td>OXYGEN_MOLECULE_e1</td>\n",
              "      <td>O2_tx1</td>\n",
              "      <td>-49.52</td>\n",
              "      <td>0</td>\n",
              "      <td>0.00%</td>\n",
              "    </tr>\n",
              "  </tbody>\n",
              "</table>"
            ]
          },
          "metadata": {},
          "execution_count": 13
        }
      ]
    },
    {
      "cell_type": "markdown",
      "source": [
        "### Note that the CO2 is taken up via CO2_tx2, where the 2 tag stands for night-time."
      ],
      "metadata": {
        "id": "HXx4BjYipanw"
      }
    },
    {
      "cell_type": "markdown",
      "source": [],
      "metadata": {
        "id": "kwBexCvlDc98"
      }
    },
    {
      "cell_type": "markdown",
      "source": [
        "##Accounting to the acidification of vacuole at night in CAM leaves\n",
        "Setting the model night vacuolar pH from 5.5 to 3.3"
      ],
      "metadata": {
        "id": "jRFlrD1eRm_-"
      }
    },
    {
      "cell_type": "code",
      "source": [
        "from Functions import convertToClassicalModel, convertToFractionalCharges\n",
        "converted_model = convertToClassicalModel(CAM_model, comp=\"v2\",updateCharges=\"\")\n",
        "CAM_model = convertToFractionalCharges(converted_model, infile=r\"MetaboliteChargedStates.xls\", compH={\"v2\":3.3},TransferTag=\"\")"
      ],
      "metadata": {
        "id": "9PgsvQSJRxRm"
      },
      "execution_count": 14,
      "outputs": []
    },
    {
      "cell_type": "markdown",
      "source": [
        "Verifying the updated pH in both day and night vacuole with Malate"
      ],
      "metadata": {
        "id": "_hWr3ntWR1a2"
      }
    },
    {
      "cell_type": "code",
      "source": [
        "rxn = CAM_model.reactions.get_by_id(\"MAL_v_dielTransfer\")\n",
        "\n",
        "for met in rxn.metabolites:\n",
        "  print(met.id+\"\\t\\t\"+str(rxn.metabolites[met]))"
      ],
      "metadata": {
        "colab": {
          "base_uri": "https://localhost:8080/"
        },
        "id": "Wrq0hQ4pR-SG",
        "outputId": "fa025c1c-59cf-472a-eb8e-9f1d617341ad"
      },
      "execution_count": 15,
      "outputs": [
        {
          "output_type": "stream",
          "name": "stdout",
          "text": [
            "aMAL_v1\t\t-0.3\n",
            "MAL_v1\t\t-0.7\n",
            "aaMAL_v2\t\t0.438\n",
            "aMAL_v2\t\t0.554\n",
            "MAL_v2\t\t0.008\n",
            "PROTON_v2\t\t-1.13\n"
          ]
        }
      ]
    },
    {
      "cell_type": "markdown",
      "source": [
        "**Note:** Day time vacuole is at a pH of 5.5 and at this pH malate exists as two charged forms, 70% as malate2- and 30% malate1-. Night time vacuole here is considered to be at a pH of 3.3. Under this pH, malate showing three fractional forms with 0.8% as malate2- , 55.4 as malate1- and 43.8 as malatic acid."
      ],
      "metadata": {
        "id": "zpl02J2NSAs-"
      }
    },
    {
      "cell_type": "markdown",
      "source": [
        "CAM plants are know to show a vacuolar influx of H+ and malate in a 2:1 ratio"
      ],
      "metadata": {
        "id": "4hRg8ZSFSFLG"
      }
    },
    {
      "cell_type": "code",
      "source": [
        "# print noctural influx of vacuolar malate\n",
        "rxn = CAM_model.reactions.get_by_id(\"MAL_PROTON_vc2\")\n",
        "print(rxn.reaction)\n",
        "# sum of coefficents of all malate/malic acid species in the reaction = 1\n",
        "malate_acc = rxn.flux*1\n",
        "print(\"Nocturnal influx of malate = \"+str(round(malate_acc,2)))"
      ],
      "metadata": {
        "colab": {
          "base_uri": "https://localhost:8080/"
        },
        "id": "YchqlYGnSHwW",
        "outputId": "4d899b5b-aa61-4eac-953a-d6c1f3c97da4"
      },
      "execution_count": 16,
      "outputs": [
        {
          "output_type": "stream",
          "name": "stdout",
          "text": [
            "MAL_c2 + 1.43 PROTON_v2 --> 0.008 MAL_v2 + 0.554 aMAL_v2 + 0.438 aaMAL_v2\n",
            "Nocturnal influx of malate = 48.23\n"
          ]
        }
      ]
    },
    {
      "cell_type": "code",
      "source": [
        "# print the nocturnal influx of H+\n",
        "rxn = CAM_model.reactions.get_by_id(\"PROTONATP_rev_vc2\")\n",
        "print(rxn.reaction)\n",
        "# coefficient of vacuolar H+ in V-ATPase reaction = 2\n",
        "H_acc = rxn.flux*2\n",
        "print(\"Nocturnal influx of H+ = \"+str(round(H_acc,2)))"
      ],
      "metadata": {
        "colab": {
          "base_uri": "https://localhost:8080/"
        },
        "id": "4XUU9iCjSP7-",
        "outputId": "4f729554-6a76-422f-dd96-0a7240365603"
      },
      "execution_count": 18,
      "outputs": [
        {
          "output_type": "stream",
          "name": "stdout",
          "text": [
            "0.65 ATP_c2 + 1.45 PROTON_c2 + WATER_c2 + 0.35 aATP_c2 --> 0.5 ADP_c2 + 2.0 PROTON_v2 + 0.7 Pi_c2 + 0.5 aADP_c2 + 0.3 aPi_c2\n",
            "Nocturnal influx of H+ = 97.36\n"
          ]
        }
      ]
    },
    {
      "cell_type": "code",
      "source": [
        "print(\"H+/malate- influx into the vacuole = \"+str(round(H_acc/malate_acc,2)))"
      ],
      "metadata": {
        "colab": {
          "base_uri": "https://localhost:8080/"
        },
        "id": "l4Fy-PVZSSOe",
        "outputId": "90cc59d2-e5e1-4e85-b74d-917c99dd780f"
      },
      "execution_count": 19,
      "outputs": [
        {
          "output_type": "stream",
          "name": "stdout",
          "text": [
            "H+/malate- influx into the vacuole = 2.02\n"
          ]
        }
      ]
    }
  ]
}